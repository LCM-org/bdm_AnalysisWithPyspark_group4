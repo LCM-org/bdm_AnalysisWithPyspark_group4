{
 "cells": [
  {
   "cell_type": "code",
   "execution_count": 0,
   "metadata": {
    "application/vnd.databricks.v1+cell": {
     "cellMetadata": {},
     "inputWidgets": {},
     "nuid": "ce1c9650-62e8-49b3-b13d-367d4e4a56ba",
     "showTitle": false,
     "title": ""
    }
   },
   "outputs": [
    {
     "data": {
      "text/plain": [
       "root\n",
       " |-- As of Date: string (nullable = true)\n",
       " |-- Fiscal Year: integer (nullable = true)\n",
       " |-- Region: string (nullable = true)\n",
       " |-- Borrower Country: string (nullable = true)\n",
       " |-- Borrower Country Code: string (nullable = true)\n",
       " |-- Project ID: string (nullable = true)\n",
       " |-- Project Name: string (nullable = true)\n",
       " |-- Procurement Type: string (nullable = true)\n",
       " |-- Procurement Category: string (nullable = true)\n",
       " |-- Procurement Method: string (nullable = true)\n",
       " |-- Product line: string (nullable = true)\n",
       " |-- WB Contract Number: integer (nullable = true)\n",
       " |-- Contract Signing Date: string (nullable = true)\n",
       " |-- Supplier: string (nullable = true)\n",
       " |-- Supplier Country: string (nullable = true)\n",
       " |-- Supplier Country Code: string (nullable = true)\n",
       " |-- Total Contract Amount (USD): string (nullable = true)\n",
       "\n",
       "+-------------+-----------+--------------------+----------------+---------------------+----------+--------------------+-------------------+--------------------+--------------------+------------+------------------+---------------------+--------------------+----------------+---------------------+---------------------------+\n",
       "|   As of Date|Fiscal Year|              Region|Borrower Country|Borrower Country Code|Project ID|        Project Name|   Procurement Type|Procurement Category|  Procurement Method|Product line|WB Contract Number|Contract Signing Date|            Supplier|Supplier Country|Supplier Country Code|Total Contract Amount (USD)|\n",
       "+-------------+-----------+--------------------+----------------+---------------------+----------+--------------------+-------------------+--------------------+--------------------+------------+------------------+---------------------+--------------------+----------------+---------------------+---------------------------+\n",
       "|9/6/2017 0:00|       2004|              AFRICA|            Mali|                   ML|   P041723|Rural Infrastr (F...|Feasibility Studies| CONSULTANT SERVICES|Single Source Sel...|    IBRD/IDA|           1236192|       7/15/2003 0:00|        AGETIER-MALI|            Mali|                   ML|               $176,578.47 |\n",
       "|9/6/2017 0:00|       2004|              AFRICA|            Mali|                   ML|   P041723|Rural Infrastr (F...|Feasibility Studies| CONSULTANT SERVICES|Single Source Sel...|    IBRD/IDA|           1236192|       7/15/2003 0:00|        AGETIER-MALI|            Mali|                   ML|                $38,386.63 |\n",
       "|9/6/2017 0:00|       2004|              AFRICA|            Mali|                   ML|   P041723|Rural Infrastr (F...|Feasibility Studies| CONSULTANT SERVICES|Single Source Sel...|    IBRD/IDA|           1236192|       7/15/2003 0:00|        AGETIER-MALI|            Mali|                   ML|                $76,773.25 |\n",
       "|9/6/2017 0:00|       2004|              AFRICA|            Mali|                   ML|   P041723|Rural Infrastr (F...|Feasibility Studies| CONSULTANT SERVICES|Single Source Sel...|    IBRD/IDA|           1236192|       7/15/2003 0:00|        AGETIER-MALI|            Mali|                   ML|                $92,127.90 |\n",
       "|9/6/2017 0:00|       2004|EAST ASIA AND PAC...|       Indonesia|                   ID|   P040528|ID-W. JAVA ENVMT ...|Policy and Strategy| CONSULTANT SERVICES|Quality And Cost-...|    IBRD/IDA|           1233245|       8/19/2003 0:00|ARCADIS EUROCONSU...|       Indonesia|                   ID|                $10,615.20 |\n",
       "+-------------+-----------+--------------------+----------------+---------------------+----------+--------------------+-------------------+--------------------+--------------------+------------+------------------+---------------------+--------------------+----------------+---------------------+---------------------------+\n",
       "only showing top 5 rows\n",
       "\n",
       "151623\n"
      ]
     },
     "metadata": {
      "application/vnd.databricks.v1+output": {
       "addedWidgets": {},
       "arguments": {},
       "data": "root\n |-- As of Date: string (nullable = true)\n |-- Fiscal Year: integer (nullable = true)\n |-- Region: string (nullable = true)\n |-- Borrower Country: string (nullable = true)\n |-- Borrower Country Code: string (nullable = true)\n |-- Project ID: string (nullable = true)\n |-- Project Name: string (nullable = true)\n |-- Procurement Type: string (nullable = true)\n |-- Procurement Category: string (nullable = true)\n |-- Procurement Method: string (nullable = true)\n |-- Product line: string (nullable = true)\n |-- WB Contract Number: integer (nullable = true)\n |-- Contract Signing Date: string (nullable = true)\n |-- Supplier: string (nullable = true)\n |-- Supplier Country: string (nullable = true)\n |-- Supplier Country Code: string (nullable = true)\n |-- Total Contract Amount (USD): string (nullable = true)\n\n+-------------+-----------+--------------------+----------------+---------------------+----------+--------------------+-------------------+--------------------+--------------------+------------+------------------+---------------------+--------------------+----------------+---------------------+---------------------------+\n|   As of Date|Fiscal Year|              Region|Borrower Country|Borrower Country Code|Project ID|        Project Name|   Procurement Type|Procurement Category|  Procurement Method|Product line|WB Contract Number|Contract Signing Date|            Supplier|Supplier Country|Supplier Country Code|Total Contract Amount (USD)|\n+-------------+-----------+--------------------+----------------+---------------------+----------+--------------------+-------------------+--------------------+--------------------+------------+------------------+---------------------+--------------------+----------------+---------------------+---------------------------+\n|9/6/2017 0:00|       2004|              AFRICA|            Mali|                   ML|   P041723|Rural Infrastr (F...|Feasibility Studies| CONSULTANT SERVICES|Single Source Sel...|    IBRD/IDA|           1236192|       7/15/2003 0:00|        AGETIER-MALI|            Mali|                   ML|               $176,578.47 |\n|9/6/2017 0:00|       2004|              AFRICA|            Mali|                   ML|   P041723|Rural Infrastr (F...|Feasibility Studies| CONSULTANT SERVICES|Single Source Sel...|    IBRD/IDA|           1236192|       7/15/2003 0:00|        AGETIER-MALI|            Mali|                   ML|                $38,386.63 |\n|9/6/2017 0:00|       2004|              AFRICA|            Mali|                   ML|   P041723|Rural Infrastr (F...|Feasibility Studies| CONSULTANT SERVICES|Single Source Sel...|    IBRD/IDA|           1236192|       7/15/2003 0:00|        AGETIER-MALI|            Mali|                   ML|                $76,773.25 |\n|9/6/2017 0:00|       2004|              AFRICA|            Mali|                   ML|   P041723|Rural Infrastr (F...|Feasibility Studies| CONSULTANT SERVICES|Single Source Sel...|    IBRD/IDA|           1236192|       7/15/2003 0:00|        AGETIER-MALI|            Mali|                   ML|                $92,127.90 |\n|9/6/2017 0:00|       2004|EAST ASIA AND PAC...|       Indonesia|                   ID|   P040528|ID-W. JAVA ENVMT ...|Policy and Strategy| CONSULTANT SERVICES|Quality And Cost-...|    IBRD/IDA|           1233245|       8/19/2003 0:00|ARCADIS EUROCONSU...|       Indonesia|                   ID|                $10,615.20 |\n+-------------+-----------+--------------------+----------------+---------------------+----------+--------------------+-------------------+--------------------+--------------------+------------+------------------+---------------------+--------------------+----------------+---------------------+---------------------------+\nonly showing top 5 rows\n\n151623\n",
       "datasetInfos": [],
       "metadata": {},
       "name": null,
       "removedWidgets": [],
       "type": "ansi"
      }
     },
     "output_type": "display_data"
    }
   ],
   "source": [
    "#file location and type\n",
    "file_location=\"/FileStore/tables/Major_Contract_Awards-2.csv\"\n",
    "file_type=\"csv\"\n",
    "\n",
    "#csv options\n",
    "infer_schema=\"true\"   #to detect the column datatype\n",
    "first_row_header=\"true\"  #to take the header row\n",
    "delimiter=\",\"\n",
    "\n",
    "#creating df\n",
    "df=spark.read.format(file_type).option(\"inferSchema\",infer_schema).option(\"header\",first_row_header).load(file_location)\n",
    "df.printSchema()\n",
    "df.show(5)\n",
    "select_df = df.select(\"Fiscal Year\", \"Region\",\"Borrower Country\",\"Borrower Country Code\",\"Project ID\",\"Project Name\",\"Supplier Country\",\"Supplier Country Code\",\"Total Contract Amount (USD)\")\n",
    "print(select_df.count())"
   ]
  },
  {
   "cell_type": "code",
   "execution_count": 0,
   "metadata": {
    "application/vnd.databricks.v1+cell": {
     "cellMetadata": {},
     "inputWidgets": {},
     "nuid": "096f9880-99dd-46c7-985c-f8799e1e538c",
     "showTitle": false,
     "title": ""
    }
   },
   "outputs": [
    {
     "data": {
      "text/plain": [
       "DataFrame[Fiscal Year: bigint, Region: bigint, Borrower Country: bigint, Borrower Country Code: bigint, Project ID: bigint, Project Name: bigint, Supplier Country: bigint, Supplier Country Code: bigint, Total Contract Amount (USD): bigint]\n",
       "+-----------+------+----------------+---------------------+----------+------------+----------------+---------------------+---------------------------+\n",
       "|Fiscal Year|Region|Borrower Country|Borrower Country Code|Project ID|Project Name|Supplier Country|Supplier Country Code|Total Contract Amount (USD)|\n",
       "+-----------+------+----------------+---------------------+----------+------------+----------------+---------------------+---------------------------+\n",
       "|          0|     0|               0|                    0|         0|           0|               0|                    0|                        413|\n",
       "+-----------+------+----------------+---------------------+----------+------------+----------------+---------------------+---------------------------+\n",
       "\n",
       "+-----------+--------------------+-------------------+---------------------+----------+--------------------+-------------------+---------------------+---------------------------+\n",
       "|Fiscal Year|              Region|   Borrower Country|Borrower Country Code|Project ID|        Project Name|   Supplier Country|Supplier Country Code|Total Contract Amount (USD)|\n",
       "+-----------+--------------------+-------------------+---------------------+----------+--------------------+-------------------+---------------------+---------------------------+\n",
       "|       2004|EUROPE AND CENTRA...|            Romania|                   RO|   P056337|        MINE CLOSURE|            Romania|                   RO|                       null|\n",
       "|       2004|EUROPE AND CENTRA...|         Uzbekistan|                   UZ|   P051370|            HEALTH 2|             France|                   FR|                       null|\n",
       "|       2004|MIDDLE EAST AND N...| Yemen, Republic of|                   RY|   P062714|RY-IRRIGATION IMP...| Yemen, Republic of|                   RY|                       null|\n",
       "|       2004|MIDDLE EAST AND N...| West Bank and Gaza|                   GZ|   P049708|PAL EXPAT PROF PR...| West Bank and Gaza|                   GZ|                       null|\n",
       "|       2004|LATIN AMERICA AND...|             Brazil|                   BR|   P051696|BR SAO PAULO METR...|             Brazil|                   BR|                       null|\n",
       "|       2004|EAST ASIA AND PAC...|           Cambodia|                   KH|   P065798|KH-BIO & PROTEC A...|           Cambodia|                   KH|                       null|\n",
       "|       2004|EAST ASIA AND PAC...|          Indonesia|                   ID|   P055821|    ID-URBAN POVERTY|          Indonesia|                   ID|                       null|\n",
       "|       2004|EAST ASIA AND PAC...|          Indonesia|                   ID|   P072852|             ID-UPP2|          Indonesia|                   ID|                       null|\n",
       "|       2004|LATIN AMERICA AND...|          Nicaragua|                   NI|   P064916|NI Natural Disast...|          Nicaragua|                   NI|                       null|\n",
       "|       2004|EUROPE AND CENTRA...|         Tajikistan|                   TJ|   P058898|   RURAL INFRA REHAB|         Tajikistan|                   TJ|                       null|\n",
       "|       2004|MIDDLE EAST AND N...|            Morocco|                   MA|   P056978|MA-Irrigation Bas...|            Morocco|                   MA|                       null|\n",
       "|       2004|LATIN AMERICA AND...|             Mexico|                   MX|   P057531| MX Basic Ed. APL II|             Mexico|                   MX|                       null|\n",
       "|       2004|MIDDLE EAST AND N...|            Lebanon|                   LB|   P050529|LB - Cultural Her...|            Lebanon|                   LB|                       null|\n",
       "|       2004|LATIN AMERICA AND...|           Honduras|                   HN|   P060785|HN ECONOMIC & FIN...|          Nicaragua|                   NI|                       null|\n",
       "|       2004|              AFRICA|             Zambia|                   ZM|   P057167| ZM-TEVET SIM (FY01)|             Zambia|                   ZM|                       null|\n",
       "|       2004|              AFRICA|         Madagascar|                   MG|   P072987|MG-MultiSec STI/H...|         Madagascar|                   MG|                       null|\n",
       "|       2004|EAST ASIA AND PAC...|              China|                   CN|   P003654|CN-Nat Hwy2/Hunan...|             Canada|                   CA|                       null|\n",
       "|       2004|LATIN AMERICA AND...|Trinidad and Tobago|                   TT|   P040108|TT POSTAL SERV. R...|Trinidad and Tobago|                   TT|                       null|\n",
       "|       2004|LATIN AMERICA AND...|          Argentina|                   AR|   P052590|AR NAT HWY REHAB&...|          Argentina|                   AR|                       null|\n",
       "|       2004|          SOUTH ASIA|             Bhutan|                   BT|   P074114|BT: Education Dev...|             Bhutan|                   BT|                       null|\n",
       "+-----------+--------------------+-------------------+---------------------+----------+--------------------+-------------------+---------------------+---------------------------+\n",
       "only showing top 20 rows\n",
       "\n",
       "413\n",
       "+-----------+--------------------+--------------------+---------------------+----------+--------------------+--------------------+---------------------+---------------------------+\n",
       "|Fiscal Year|              Region|    Borrower Country|Borrower Country Code|Project ID|        Project Name|    Supplier Country|Supplier Country Code|Total Contract Amount (USD)|\n",
       "+-----------+--------------------+--------------------+---------------------+----------+--------------------+--------------------+---------------------+---------------------------+\n",
       "|       2004|              AFRICA|                Mali|                   ML|   P041723|Rural Infrastr (F...|                Mali|                   ML|               $176,578.47 |\n",
       "|       2004|              AFRICA|                Mali|                   ML|   P041723|Rural Infrastr (F...|                Mali|                   ML|                $38,386.63 |\n",
       "|       2004|              AFRICA|                Mali|                   ML|   P041723|Rural Infrastr (F...|                Mali|                   ML|                $76,773.25 |\n",
       "|       2004|              AFRICA|                Mali|                   ML|   P041723|Rural Infrastr (F...|                Mali|                   ML|                $92,127.90 |\n",
       "|       2004|EAST ASIA AND PAC...|           Indonesia|                   ID|   P040528|ID-W. JAVA ENVMT ...|           Indonesia|                   ID|                $10,615.20 |\n",
       "|       2004|EAST ASIA AND PAC...|           Indonesia|                   ID|   P040528|ID-W. JAVA ENVMT ...|           Indonesia|                   ID|                $95,536.79 |\n",
       "|       2004|EAST ASIA AND PAC...|         Timor-Leste|                   TP|   P072647|TP-FUNDAMENTAL SC...|         Timor-Leste|                   TP|               $144,317.85 |\n",
       "|       2004|EAST ASIA AND PAC...|         Timor-Leste|                   TP|   P072647|TP-FUNDAMENTAL SC...|         Timor-Leste|                   TP|               $115,712.54 |\n",
       "|       2004|          SOUTH ASIA|          Bangladesh|                   BD|   P071435|BD: Rural Transpo...|              Sweden|                   SE|             $5,329,142.50 |\n",
       "|       2004|          SOUTH ASIA|          Bangladesh|                   BD|   P071435|BD: Rural Transpo...|           Australia|                   AU|             $5,144,486.61 |\n",
       "|       2004|          SOUTH ASIA|              Bhutan|                   BT|   P057570| DEVELOPMENT PROJECT|              Bhutan|                   BT|               $257,620.49 |\n",
       "|       2004|          SOUTH ASIA|               India|                   IN|   P035158|Third Andhra Prad...|               India|                   IN|             $1,214,054.72 |\n",
       "|       2004|          SOUTH ASIA|               India|                   IN|   P050668|IN: MUMBAI URBAN ...|       United States|                   US|               $155,622.19 |\n",
       "|       2004|          SOUTH ASIA|               India|                   IN|   P050668|IN: MUMBAI URBAN ...|       United States|                   US|               $881,859.10 |\n",
       "|       2004|EUROPE AND CENTRA...|             Albania|                   AL|   P074905|PWR SECT REHAB/RE...|           Argentina|                   AR|               $104,317.13 |\n",
       "|       2004|EUROPE AND CENTRA...|Bosnia and Herzeg...|                   BA|   P070995|           COMM DEVT|Bosnia and Herzeg...|                   BA|                 $8,174.18 |\n",
       "|       2004|EUROPE AND CENTRA...|Bosnia and Herzeg...|                   BA|   P070995|           COMM DEVT|Bosnia and Herzeg...|                   BA|                $14,596.75 |\n",
       "|       2004|EUROPE AND CENTRA...|Bosnia and Herzeg...|                   BA|   P070995|           COMM DEVT|Bosnia and Herzeg...|                   BA|                $12,261.27 |\n",
       "|       2004|EUROPE AND CENTRA...|Bosnia and Herzeg...|                   BA|   P070995|           COMM DEVT|Bosnia and Herzeg...|                   BA|                 $8,758.05 |\n",
       "|       2004|EUROPE AND CENTRA...|Bosnia and Herzeg...|                   BA|   P070995|           COMM DEVT|Bosnia and Herzeg...|                   BA|                $14,596.73 |\n",
       "+-----------+--------------------+--------------------+---------------------+----------+--------------------+--------------------+---------------------+---------------------------+\n",
       "only showing top 20 rows\n",
       "\n"
      ]
     },
     "metadata": {
      "application/vnd.databricks.v1+output": {
       "addedWidgets": {},
       "arguments": {},
       "data": "DataFrame[Fiscal Year: bigint, Region: bigint, Borrower Country: bigint, Borrower Country Code: bigint, Project ID: bigint, Project Name: bigint, Supplier Country: bigint, Supplier Country Code: bigint, Total Contract Amount (USD): bigint]\n+-----------+------+----------------+---------------------+----------+------------+----------------+---------------------+---------------------------+\n|Fiscal Year|Region|Borrower Country|Borrower Country Code|Project ID|Project Name|Supplier Country|Supplier Country Code|Total Contract Amount (USD)|\n+-----------+------+----------------+---------------------+----------+------------+----------------+---------------------+---------------------------+\n|          0|     0|               0|                    0|         0|           0|               0|                    0|                        413|\n+-----------+------+----------------+---------------------+----------+------------+----------------+---------------------+---------------------------+\n\n+-----------+--------------------+-------------------+---------------------+----------+--------------------+-------------------+---------------------+---------------------------+\n|Fiscal Year|              Region|   Borrower Country|Borrower Country Code|Project ID|        Project Name|   Supplier Country|Supplier Country Code|Total Contract Amount (USD)|\n+-----------+--------------------+-------------------+---------------------+----------+--------------------+-------------------+---------------------+---------------------------+\n|       2004|EUROPE AND CENTRA...|            Romania|                   RO|   P056337|        MINE CLOSURE|            Romania|                   RO|                       null|\n|       2004|EUROPE AND CENTRA...|         Uzbekistan|                   UZ|   P051370|            HEALTH 2|             France|                   FR|                       null|\n|       2004|MIDDLE EAST AND N...| Yemen, Republic of|                   RY|   P062714|RY-IRRIGATION IMP...| Yemen, Republic of|                   RY|                       null|\n|       2004|MIDDLE EAST AND N...| West Bank and Gaza|                   GZ|   P049708|PAL EXPAT PROF PR...| West Bank and Gaza|                   GZ|                       null|\n|       2004|LATIN AMERICA AND...|             Brazil|                   BR|   P051696|BR SAO PAULO METR...|             Brazil|                   BR|                       null|\n|       2004|EAST ASIA AND PAC...|           Cambodia|                   KH|   P065798|KH-BIO & PROTEC A...|           Cambodia|                   KH|                       null|\n|       2004|EAST ASIA AND PAC...|          Indonesia|                   ID|   P055821|    ID-URBAN POVERTY|          Indonesia|                   ID|                       null|\n|       2004|EAST ASIA AND PAC...|          Indonesia|                   ID|   P072852|             ID-UPP2|          Indonesia|                   ID|                       null|\n|       2004|LATIN AMERICA AND...|          Nicaragua|                   NI|   P064916|NI Natural Disast...|          Nicaragua|                   NI|                       null|\n|       2004|EUROPE AND CENTRA...|         Tajikistan|                   TJ|   P058898|   RURAL INFRA REHAB|         Tajikistan|                   TJ|                       null|\n|       2004|MIDDLE EAST AND N...|            Morocco|                   MA|   P056978|MA-Irrigation Bas...|            Morocco|                   MA|                       null|\n|       2004|LATIN AMERICA AND...|             Mexico|                   MX|   P057531| MX Basic Ed. APL II|             Mexico|                   MX|                       null|\n|       2004|MIDDLE EAST AND N...|            Lebanon|                   LB|   P050529|LB - Cultural Her...|            Lebanon|                   LB|                       null|\n|       2004|LATIN AMERICA AND...|           Honduras|                   HN|   P060785|HN ECONOMIC & FIN...|          Nicaragua|                   NI|                       null|\n|       2004|              AFRICA|             Zambia|                   ZM|   P057167| ZM-TEVET SIM (FY01)|             Zambia|                   ZM|                       null|\n|       2004|              AFRICA|         Madagascar|                   MG|   P072987|MG-MultiSec STI/H...|         Madagascar|                   MG|                       null|\n|       2004|EAST ASIA AND PAC...|              China|                   CN|   P003654|CN-Nat Hwy2/Hunan...|             Canada|                   CA|                       null|\n|       2004|LATIN AMERICA AND...|Trinidad and Tobago|                   TT|   P040108|TT POSTAL SERV. R...|Trinidad and Tobago|                   TT|                       null|\n|       2004|LATIN AMERICA AND...|          Argentina|                   AR|   P052590|AR NAT HWY REHAB&...|          Argentina|                   AR|                       null|\n|       2004|          SOUTH ASIA|             Bhutan|                   BT|   P074114|BT: Education Dev...|             Bhutan|                   BT|                       null|\n+-----------+--------------------+-------------------+---------------------+----------+--------------------+-------------------+---------------------+---------------------------+\nonly showing top 20 rows\n\n413\n+-----------+--------------------+--------------------+---------------------+----------+--------------------+--------------------+---------------------+---------------------------+\n|Fiscal Year|              Region|    Borrower Country|Borrower Country Code|Project ID|        Project Name|    Supplier Country|Supplier Country Code|Total Contract Amount (USD)|\n+-----------+--------------------+--------------------+---------------------+----------+--------------------+--------------------+---------------------+---------------------------+\n|       2004|              AFRICA|                Mali|                   ML|   P041723|Rural Infrastr (F...|                Mali|                   ML|               $176,578.47 |\n|       2004|              AFRICA|                Mali|                   ML|   P041723|Rural Infrastr (F...|                Mali|                   ML|                $38,386.63 |\n|       2004|              AFRICA|                Mali|                   ML|   P041723|Rural Infrastr (F...|                Mali|                   ML|                $76,773.25 |\n|       2004|              AFRICA|                Mali|                   ML|   P041723|Rural Infrastr (F...|                Mali|                   ML|                $92,127.90 |\n|       2004|EAST ASIA AND PAC...|           Indonesia|                   ID|   P040528|ID-W. JAVA ENVMT ...|           Indonesia|                   ID|                $10,615.20 |\n|       2004|EAST ASIA AND PAC...|           Indonesia|                   ID|   P040528|ID-W. JAVA ENVMT ...|           Indonesia|                   ID|                $95,536.79 |\n|       2004|EAST ASIA AND PAC...|         Timor-Leste|                   TP|   P072647|TP-FUNDAMENTAL SC...|         Timor-Leste|                   TP|               $144,317.85 |\n|       2004|EAST ASIA AND PAC...|         Timor-Leste|                   TP|   P072647|TP-FUNDAMENTAL SC...|         Timor-Leste|                   TP|               $115,712.54 |\n|       2004|          SOUTH ASIA|          Bangladesh|                   BD|   P071435|BD: Rural Transpo...|              Sweden|                   SE|             $5,329,142.50 |\n|       2004|          SOUTH ASIA|          Bangladesh|                   BD|   P071435|BD: Rural Transpo...|           Australia|                   AU|             $5,144,486.61 |\n|       2004|          SOUTH ASIA|              Bhutan|                   BT|   P057570| DEVELOPMENT PROJECT|              Bhutan|                   BT|               $257,620.49 |\n|       2004|          SOUTH ASIA|               India|                   IN|   P035158|Third Andhra Prad...|               India|                   IN|             $1,214,054.72 |\n|       2004|          SOUTH ASIA|               India|                   IN|   P050668|IN: MUMBAI URBAN ...|       United States|                   US|               $155,622.19 |\n|       2004|          SOUTH ASIA|               India|                   IN|   P050668|IN: MUMBAI URBAN ...|       United States|                   US|               $881,859.10 |\n|       2004|EUROPE AND CENTRA...|             Albania|                   AL|   P074905|PWR SECT REHAB/RE...|           Argentina|                   AR|               $104,317.13 |\n|       2004|EUROPE AND CENTRA...|Bosnia and Herzeg...|                   BA|   P070995|           COMM DEVT|Bosnia and Herzeg...|                   BA|                 $8,174.18 |\n|       2004|EUROPE AND CENTRA...|Bosnia and Herzeg...|                   BA|   P070995|           COMM DEVT|Bosnia and Herzeg...|                   BA|                $14,596.75 |\n|       2004|EUROPE AND CENTRA...|Bosnia and Herzeg...|                   BA|   P070995|           COMM DEVT|Bosnia and Herzeg...|                   BA|                $12,261.27 |\n|       2004|EUROPE AND CENTRA...|Bosnia and Herzeg...|                   BA|   P070995|           COMM DEVT|Bosnia and Herzeg...|                   BA|                 $8,758.05 |\n|       2004|EUROPE AND CENTRA...|Bosnia and Herzeg...|                   BA|   P070995|           COMM DEVT|Bosnia and Herzeg...|                   BA|                $14,596.73 |\n+-----------+--------------------+--------------------+---------------------+----------+--------------------+--------------------+---------------------+---------------------------+\nonly showing top 20 rows\n\n",
       "datasetInfos": [],
       "metadata": {},
       "name": null,
       "removedWidgets": [],
       "type": "ansi"
      }
     },
     "output_type": "display_data"
    }
   ],
   "source": [
    "from pyspark.sql.functions import isnan, when, count, col\n",
    "\n",
    "\n",
    "#finding null values in columns\n",
    "null_df=select_df.select([count(when(col(c).isNull(), 0)).alias(c) for c in select_df.columns])\n",
    "print(null_df)\n",
    "null_df.show()\n",
    "# creating new df without null values\n",
    "filter_df=select_df.filter(select_df['Region'].isNotNull() & select_df['Total Contract Amount (USD)'].isNull())\n",
    "filter_df.select(\"*\").show()\n",
    "# verification for no of null values removed\n",
    "required_df = select_df.filter(select_df['Total Contract Amount (USD)'].isNotNull())\n",
    "print(select_df.count()-required_df.count())\n",
    "required_df.show()"
   ]
  },
  {
   "cell_type": "code",
   "execution_count": 0,
   "metadata": {
    "application/vnd.databricks.v1+cell": {
     "cellMetadata": {},
     "inputWidgets": {},
     "nuid": "857c1944-e86a-4909-8fbe-54f07b9327a3",
     "showTitle": false,
     "title": ""
    }
   },
   "outputs": [
    {
     "data": {
      "text/plain": [
       "+-----------+--------------------+--------------------+---------------------+----------+--------------------+--------------------+---------------------+---------------------------+\n",
       "|Fiscal Year|              Region|    Borrower Country|Borrower Country Code|Project ID|        Project Name|    Supplier Country|Supplier Country Code|Total Contract Amount (USD)|\n",
       "+-----------+--------------------+--------------------+---------------------+----------+--------------------+--------------------+---------------------+---------------------------+\n",
       "|       2004|              AFRICA|                Mali|                   ML|   P041723|Rural Infrastr (F...|                Mali|                   ML|                 176578.47 |\n",
       "|       2004|              AFRICA|                Mali|                   ML|   P041723|Rural Infrastr (F...|                Mali|                   ML|                  38386.63 |\n",
       "|       2004|              AFRICA|                Mali|                   ML|   P041723|Rural Infrastr (F...|                Mali|                   ML|                  76773.25 |\n",
       "|       2004|              AFRICA|                Mali|                   ML|   P041723|Rural Infrastr (F...|                Mali|                   ML|                  92127.90 |\n",
       "|       2004|EAST ASIA AND PAC...|           Indonesia|                   ID|   P040528|ID-W. JAVA ENVMT ...|           Indonesia|                   ID|                  10615.20 |\n",
       "|       2004|EAST ASIA AND PAC...|           Indonesia|                   ID|   P040528|ID-W. JAVA ENVMT ...|           Indonesia|                   ID|                  95536.79 |\n",
       "|       2004|EAST ASIA AND PAC...|         Timor-Leste|                   TP|   P072647|TP-FUNDAMENTAL SC...|         Timor-Leste|                   TP|                 144317.85 |\n",
       "|       2004|EAST ASIA AND PAC...|         Timor-Leste|                   TP|   P072647|TP-FUNDAMENTAL SC...|         Timor-Leste|                   TP|                 115712.54 |\n",
       "|       2004|          SOUTH ASIA|          Bangladesh|                   BD|   P071435|BD: Rural Transpo...|              Sweden|                   SE|                5329142.50 |\n",
       "|       2004|          SOUTH ASIA|          Bangladesh|                   BD|   P071435|BD: Rural Transpo...|           Australia|                   AU|                5144486.61 |\n",
       "|       2004|          SOUTH ASIA|              Bhutan|                   BT|   P057570| DEVELOPMENT PROJECT|              Bhutan|                   BT|                 257620.49 |\n",
       "|       2004|          SOUTH ASIA|               India|                   IN|   P035158|Third Andhra Prad...|               India|                   IN|                1214054.72 |\n",
       "|       2004|          SOUTH ASIA|               India|                   IN|   P050668|IN: MUMBAI URBAN ...|       United States|                   US|                 155622.19 |\n",
       "|       2004|          SOUTH ASIA|               India|                   IN|   P050668|IN: MUMBAI URBAN ...|       United States|                   US|                 881859.10 |\n",
       "|       2004|EUROPE AND CENTRA...|             Albania|                   AL|   P074905|PWR SECT REHAB/RE...|           Argentina|                   AR|                 104317.13 |\n",
       "|       2004|EUROPE AND CENTRA...|Bosnia and Herzeg...|                   BA|   P070995|           COMM DEVT|Bosnia and Herzeg...|                   BA|                   8174.18 |\n",
       "|       2004|EUROPE AND CENTRA...|Bosnia and Herzeg...|                   BA|   P070995|           COMM DEVT|Bosnia and Herzeg...|                   BA|                  14596.75 |\n",
       "|       2004|EUROPE AND CENTRA...|Bosnia and Herzeg...|                   BA|   P070995|           COMM DEVT|Bosnia and Herzeg...|                   BA|                  12261.27 |\n",
       "|       2004|EUROPE AND CENTRA...|Bosnia and Herzeg...|                   BA|   P070995|           COMM DEVT|Bosnia and Herzeg...|                   BA|                   8758.05 |\n",
       "|       2004|EUROPE AND CENTRA...|Bosnia and Herzeg...|                   BA|   P070995|           COMM DEVT|Bosnia and Herzeg...|                   BA|                  14596.73 |\n",
       "+-----------+--------------------+--------------------+---------------------+----------+--------------------+--------------------+---------------------+---------------------------+\n",
       "only showing top 20 rows\n",
       "\n",
       "root\n",
       " |-- Fiscal Year: integer (nullable = true)\n",
       " |-- Region: string (nullable = true)\n",
       " |-- Borrower Country: string (nullable = true)\n",
       " |-- Borrower Country Code: string (nullable = true)\n",
       " |-- Project ID: string (nullable = true)\n",
       " |-- Project Name: string (nullable = true)\n",
       " |-- Supplier Country: string (nullable = true)\n",
       " |-- Supplier Country Code: string (nullable = true)\n",
       " |-- Total Contract Amount (USD): float (nullable = true)\n",
       "\n"
      ]
     },
     "metadata": {
      "application/vnd.databricks.v1+output": {
       "addedWidgets": {},
       "arguments": {},
       "data": "+-----------+--------------------+--------------------+---------------------+----------+--------------------+--------------------+---------------------+---------------------------+\n|Fiscal Year|              Region|    Borrower Country|Borrower Country Code|Project ID|        Project Name|    Supplier Country|Supplier Country Code|Total Contract Amount (USD)|\n+-----------+--------------------+--------------------+---------------------+----------+--------------------+--------------------+---------------------+---------------------------+\n|       2004|              AFRICA|                Mali|                   ML|   P041723|Rural Infrastr (F...|                Mali|                   ML|                 176578.47 |\n|       2004|              AFRICA|                Mali|                   ML|   P041723|Rural Infrastr (F...|                Mali|                   ML|                  38386.63 |\n|       2004|              AFRICA|                Mali|                   ML|   P041723|Rural Infrastr (F...|                Mali|                   ML|                  76773.25 |\n|       2004|              AFRICA|                Mali|                   ML|   P041723|Rural Infrastr (F...|                Mali|                   ML|                  92127.90 |\n|       2004|EAST ASIA AND PAC...|           Indonesia|                   ID|   P040528|ID-W. JAVA ENVMT ...|           Indonesia|                   ID|                  10615.20 |\n|       2004|EAST ASIA AND PAC...|           Indonesia|                   ID|   P040528|ID-W. JAVA ENVMT ...|           Indonesia|                   ID|                  95536.79 |\n|       2004|EAST ASIA AND PAC...|         Timor-Leste|                   TP|   P072647|TP-FUNDAMENTAL SC...|         Timor-Leste|                   TP|                 144317.85 |\n|       2004|EAST ASIA AND PAC...|         Timor-Leste|                   TP|   P072647|TP-FUNDAMENTAL SC...|         Timor-Leste|                   TP|                 115712.54 |\n|       2004|          SOUTH ASIA|          Bangladesh|                   BD|   P071435|BD: Rural Transpo...|              Sweden|                   SE|                5329142.50 |\n|       2004|          SOUTH ASIA|          Bangladesh|                   BD|   P071435|BD: Rural Transpo...|           Australia|                   AU|                5144486.61 |\n|       2004|          SOUTH ASIA|              Bhutan|                   BT|   P057570| DEVELOPMENT PROJECT|              Bhutan|                   BT|                 257620.49 |\n|       2004|          SOUTH ASIA|               India|                   IN|   P035158|Third Andhra Prad...|               India|                   IN|                1214054.72 |\n|       2004|          SOUTH ASIA|               India|                   IN|   P050668|IN: MUMBAI URBAN ...|       United States|                   US|                 155622.19 |\n|       2004|          SOUTH ASIA|               India|                   IN|   P050668|IN: MUMBAI URBAN ...|       United States|                   US|                 881859.10 |\n|       2004|EUROPE AND CENTRA...|             Albania|                   AL|   P074905|PWR SECT REHAB/RE...|           Argentina|                   AR|                 104317.13 |\n|       2004|EUROPE AND CENTRA...|Bosnia and Herzeg...|                   BA|   P070995|           COMM DEVT|Bosnia and Herzeg...|                   BA|                   8174.18 |\n|       2004|EUROPE AND CENTRA...|Bosnia and Herzeg...|                   BA|   P070995|           COMM DEVT|Bosnia and Herzeg...|                   BA|                  14596.75 |\n|       2004|EUROPE AND CENTRA...|Bosnia and Herzeg...|                   BA|   P070995|           COMM DEVT|Bosnia and Herzeg...|                   BA|                  12261.27 |\n|       2004|EUROPE AND CENTRA...|Bosnia and Herzeg...|                   BA|   P070995|           COMM DEVT|Bosnia and Herzeg...|                   BA|                   8758.05 |\n|       2004|EUROPE AND CENTRA...|Bosnia and Herzeg...|                   BA|   P070995|           COMM DEVT|Bosnia and Herzeg...|                   BA|                  14596.73 |\n+-----------+--------------------+--------------------+---------------------+----------+--------------------+--------------------+---------------------+---------------------------+\nonly showing top 20 rows\n\nroot\n |-- Fiscal Year: integer (nullable = true)\n |-- Region: string (nullable = true)\n |-- Borrower Country: string (nullable = true)\n |-- Borrower Country Code: string (nullable = true)\n |-- Project ID: string (nullable = true)\n |-- Project Name: string (nullable = true)\n |-- Supplier Country: string (nullable = true)\n |-- Supplier Country Code: string (nullable = true)\n |-- Total Contract Amount (USD): float (nullable = true)\n\n",
       "datasetInfos": [],
       "metadata": {},
       "name": null,
       "removedWidgets": [],
       "type": "ansi"
      }
     },
     "output_type": "display_data"
    }
   ],
   "source": [
    "#removing the $ character from amount\n",
    "from pyspark.sql.functions import translate\n",
    "newDf_1=select_df.withColumn('Total Contract Amount (USD)', translate('Total Contract Amount (USD)', '$', ''))    #replace\n",
    "newDf=newDf_1.withColumn('Total Contract Amount (USD)', translate('Total Contract Amount (USD)', ',', ''))    #replace\n",
    "newDf.show()\n",
    "# changing the data type of amount to Float\n",
    "from pyspark.sql.types import StringType, DateType, FloatType\n",
    "datatype_change_df = newDf.withColumn(\"Total Contract Amount (USD)\" , newDf[\"Total Contract Amount (USD)\"].cast(FloatType()))\n",
    "datatype_change_df.printSchema()"
   ]
  },
  {
   "cell_type": "code",
   "execution_count": 0,
   "metadata": {
    "application/vnd.databricks.v1+cell": {
     "cellMetadata": {},
     "inputWidgets": {},
     "nuid": "76f856e1-affa-4097-b778-fe47686a9645",
     "showTitle": false,
     "title": ""
    }
   },
   "outputs": [
    {
     "data": {
      "text/html": [
       "<style scoped>\n",
       "  .table-result-container {\n",
       "    max-height: 300px;\n",
       "    overflow: auto;\n",
       "  }\n",
       "  table, th, td {\n",
       "    border: 1px solid black;\n",
       "    border-collapse: collapse;\n",
       "  }\n",
       "  th, td {\n",
       "    padding: 5px;\n",
       "  }\n",
       "  th {\n",
       "    text-align: left;\n",
       "  }\n",
       "</style><div class='table-result-container'><table class='table-result'><thead style='background-color: white'><tr><th>Fiscal Year</th><th>Total_Amt_spent</th></tr></thead><tbody><tr><td>2007</td><td>9946680178.06</td></tr><tr><td>2006</td><td>8058946978.08</td></tr><tr><td>2004</td><td>8802666003.21</td></tr><tr><td>2005</td><td>9455225201.82</td></tr><tr><td>2009</td><td>11107510212.79</td></tr><tr><td>2008</td><td>12509365465.06</td></tr><tr><td>2010</td><td>14258776029.20</td></tr><tr><td>2011</td><td>16555182762.57</td></tr><tr><td>2015</td><td>11843495996.41</td></tr><tr><td>2013</td><td>15405735943.30</td></tr><tr><td>2014</td><td>14467766184.78</td></tr><tr><td>2012</td><td>16522654897.56</td></tr><tr><td>2016</td><td>14087775010.02</td></tr><tr><td>2017</td><td>10783231557.83</td></tr><tr><td>2018</td><td>813062335.13</td></tr></tbody></table></div>"
      ]
     },
     "metadata": {
      "application/vnd.databricks.v1+output": {
       "addedWidgets": {},
       "aggData": [],
       "aggError": "",
       "aggOverflow": false,
       "aggSchema": [],
       "aggSeriesLimitReached": false,
       "aggType": "",
       "arguments": {},
       "columnCustomDisplayInfos": {},
       "data": [
        [
         2007,
         "9946680178.06"
        ],
        [
         2006,
         "8058946978.08"
        ],
        [
         2004,
         "8802666003.21"
        ],
        [
         2005,
         "9455225201.82"
        ],
        [
         2009,
         "11107510212.79"
        ],
        [
         2008,
         "12509365465.06"
        ],
        [
         2010,
         "14258776029.20"
        ],
        [
         2011,
         "16555182762.57"
        ],
        [
         2015,
         "11843495996.41"
        ],
        [
         2013,
         "15405735943.30"
        ],
        [
         2014,
         "14467766184.78"
        ],
        [
         2012,
         "16522654897.56"
        ],
        [
         2016,
         "14087775010.02"
        ],
        [
         2017,
         "10783231557.83"
        ],
        [
         2018,
         "813062335.13"
        ]
       ],
       "datasetInfos": [],
       "dbfsResultPath": null,
       "isJsonSchema": true,
       "metadata": {},
       "overflow": false,
       "plotOptions": {
        "customPlotOptions": {},
        "displayType": "table",
        "pivotAggregation": null,
        "pivotColumns": null,
        "xColumns": null,
        "yColumns": null
       },
       "removedWidgets": [],
       "schema": [
        {
         "metadata": "{}",
         "name": "Fiscal Year",
         "type": "\"integer\""
        },
        {
         "metadata": "{}",
         "name": "Total_Amt_spent",
         "type": "\"decimal(20,2)\""
        }
       ],
       "type": "table"
      }
     },
     "output_type": "display_data"
    },
    {
     "data": {
      "text/html": [
       "<style scoped>\n",
       "  .table-result-container {\n",
       "    max-height: 300px;\n",
       "    overflow: auto;\n",
       "  }\n",
       "  table, th, td {\n",
       "    border: 1px solid black;\n",
       "    border-collapse: collapse;\n",
       "  }\n",
       "  th, td {\n",
       "    padding: 5px;\n",
       "  }\n",
       "  th {\n",
       "    text-align: left;\n",
       "  }\n",
       "</style><div class='table-result-container'><table class='table-result'><thead style='background-color: white'><tr><th>Borrower Country</th><th>Total_Amt_spent</th></tr></thead><tbody><tr><td>Chad</td><td>223601095.99</td></tr><tr><td>Paraguay</td><td>312654005.40</td></tr><tr><td>Senegal</td><td>1129419229.25</td></tr><tr><td>Cabo Verde</td><td>132216973.75</td></tr><tr><td>Western Balkans</td><td>29219242.19</td></tr><tr><td>Kiribati</td><td>77448472.76</td></tr><tr><td>Guyana</td><td>47683002.24</td></tr><tr><td>Philippines</td><td>1174666389.60</td></tr><tr><td>Eritrea</td><td>182287685.10</td></tr><tr><td>Djibouti</td><td>109043008.38</td></tr><tr><td>Latin America</td><td>11202643.09</td></tr><tr><td>Tonga</td><td>85304702.26</td></tr><tr><td>Turkey</td><td>2839801399.44</td></tr><tr><td>Malawi</td><td>624368169.22</td></tr><tr><td>Iraq</td><td>1233598125.56</td></tr><tr><td>Comoros</td><td>23975672.96</td></tr><tr><td>Cambodia</td><td>354590830.10</td></tr><tr><td>Afghanistan</td><td>4038329869.76</td></tr><tr><td>Rwanda</td><td>424807869.92</td></tr><tr><td>Jordan</td><td>295837091.82</td></tr><tr><td>Kosovo</td><td>98613688.13</td></tr><tr><td>Sri Lanka</td><td>593068273.45</td></tr><tr><td>Congo, Democratic Republic of</td><td>3099829838.55</td></tr><tr><td>Africa</td><td>4241284631.58</td></tr><tr><td>Dominica</td><td>8158182.91</td></tr><tr><td>Algeria</td><td>70485263.87</td></tr><tr><td>Argentina</td><td>7227734355.89</td></tr><tr><td>Angola</td><td>567982334.43</td></tr><tr><td>Ecuador</td><td>1952058998.58</td></tr><tr><td>Lesotho</td><td>189748897.01</td></tr><tr><td>Albania</td><td>800666015.92</td></tr><tr><td>Madagascar</td><td>862521364.28</td></tr><tr><td>Ghana</td><td>1210196684.08</td></tr><tr><td>Nicaragua</td><td>526041367.40</td></tr><tr><td>St. Lucia</td><td>40966453.94</td></tr><tr><td>Benin</td><td>377222291.31</td></tr><tr><td>Sierra Leone</td><td>235900546.55</td></tr><tr><td>Peru</td><td>731060597.54</td></tr><tr><td>India</td><td>18803255974.53</td></tr><tr><td>China</td><td>17471407861.32</td></tr><tr><td>Congo, Republic of</td><td>349154012.79</td></tr><tr><td>St. Kitts and Nevis</td><td>9163542.21</td></tr><tr><td>Belarus</td><td>1026409530.02</td></tr><tr><td>Central Asia</td><td>125005799.53</td></tr><tr><td>Timor-Leste</td><td>238863554.55</td></tr><tr><td>Sao Tome and Principe</td><td>8448726.74</td></tr><tr><td>Tajikistan</td><td>308914856.08</td></tr><tr><td>Chile</td><td>35758171.07</td></tr><tr><td>Central America</td><td>5624849.58</td></tr><tr><td>Croatia</td><td>1343664636.52</td></tr><tr><td>Burundi</td><td>321890295.48</td></tr><tr><td>Venezuela, Republica Bolivariana de</td><td>9120612.56</td></tr><tr><td>Nigeria</td><td>3628668399.11</td></tr><tr><td>Bolivia</td><td>368148888.84</td></tr><tr><td>Gabon</td><td>81436737.64</td></tr><tr><td>Lithuania</td><td>83172162.81</td></tr><tr><td>Mauritania</td><td>232945228.64</td></tr><tr><td>Niger</td><td>484248283.11</td></tr><tr><td>Bangladesh</td><td>4237774397.43</td></tr><tr><td>Barbados</td><td>4645342.43</td></tr><tr><td>Europe and Central Asia</td><td>7936002.31</td></tr><tr><td>Russian Federation</td><td>3292233554.32</td></tr><tr><td>Thailand</td><td>77580800.44</td></tr><tr><td>Swaziland</td><td>29795854.22</td></tr><tr><td>Gambia, The</td><td>87475847.68</td></tr><tr><td>Bhutan</td><td>63872993.15</td></tr><tr><td>Morocco</td><td>452771830.22</td></tr><tr><td>Caribbean</td><td>31860025.97</td></tr><tr><td>Panama</td><td>227322143.12</td></tr><tr><td>Ukraine</td><td>2079377409.88</td></tr><tr><td>Western Africa</td><td>1912871006.03</td></tr><tr><td>Uruguay</td><td>304397082.44</td></tr><tr><td>Mexico</td><td>1218350886.06</td></tr><tr><td>Cote d'Ivoire</td><td>576905458.00</td></tr><tr><td>Macedonia, former Yugoslav Republic of</td><td>423562702.28</td></tr><tr><td>Georgia</td><td>1209877973.49</td></tr><tr><td>Montenegro</td><td>170352643.76</td></tr><tr><td>Indonesia</td><td>3296791275.48</td></tr><tr><td>Mongolia</td><td>179393055.66</td></tr><tr><td>Guatemala</td><td>261648843.95</td></tr><tr><td>Yemen, Republic of</td><td>1409600721.39</td></tr><tr><td>Azerbaijan</td><td>3888039333.95</td></tr><tr><td>Grenada</td><td>36647262.06</td></tr><tr><td>Armenia</td><td>614005732.57</td></tr><tr><td>Tunisia</td><td>1007827303.32</td></tr><tr><td>Honduras</td><td>401682486.47</td></tr><tr><td>Trinidad and Tobago</td><td>7730200.18</td></tr><tr><td>OECS Countries</td><td>58363671.75</td></tr><tr><td>Uganda</td><td>1593828162.11</td></tr><tr><td>Southern Africa</td><td>11301079.84</td></tr><tr><td>Namibia</td><td>606917.71</td></tr><tr><td>Zambia</td><td>593945510.18</td></tr><tr><td>Ethiopia</td><td>4612266885.07</td></tr><tr><td>Jamaica</td><td>39123546.93</td></tr><tr><td>Latvia</td><td>5909812.72</td></tr><tr><td>Guinea</td><td>335269683.44</td></tr><tr><td>Seychelles</td><td>3023456.23</td></tr><tr><td>Uzbekistan</td><td>966780648.24</td></tr><tr><td>Samoa</td><td>106527948.44</td></tr><tr><td>Kyrgyz Republic</td><td>415973928.76</td></tr><tr><td>Mozambique</td><td>1598386728.06</td></tr><tr><td>Czech Republic</td><td>144865.00</td></tr><tr><td>Brazil</td><td>9149722836.44</td></tr><tr><td>Belize</td><td>15557610.47</td></tr><tr><td>St. Vincent and the Grenadines</td><td>22626817.05</td></tr><tr><td>West Bank and Gaza</td><td>263485385.13</td></tr><tr><td>Kenya</td><td>2856797790.69</td></tr><tr><td>Lebanon</td><td>1128577811.79</td></tr><tr><td>Lao People's Democratic Republic</td><td>283493080.20</td></tr><tr><td>Slovenia</td><td>2093849.38</td></tr><tr><td>Dominican Republic</td><td>249731121.87</td></tr><tr><td>Tanzania</td><td>1588446397.63</td></tr><tr><td>Bosnia and Herzegovina</td><td>511852376.24</td></tr><tr><td>Haiti</td><td>569672445.28</td></tr><tr><td>Poland</td><td>1065836960.70</td></tr><tr><td>Cameroon</td><td>632050400.38</td></tr><tr><td>Papua New Guinea</td><td>352378779.03</td></tr><tr><td>Romania</td><td>1461993267.81</td></tr><tr><td>Guinea-Bissau</td><td>78808694.44</td></tr><tr><td>Bulgaria</td><td>565693819.47</td></tr><tr><td>Solomon Islands</td><td>41051283.94</td></tr><tr><td>Nepal</td><td>868524091.88</td></tr><tr><td>Egypt, Arab Republic of</td><td>5499074063.37</td></tr><tr><td>Kazakhstan</td><td>3564597973.96</td></tr><tr><td>El Salvador</td><td>280876010.23</td></tr><tr><td>Costa Rica</td><td>105930972.66</td></tr><tr><td>Serbia</td><td>1729679255.83</td></tr><tr><td>Burkina Faso</td><td>770978862.44</td></tr><tr><td>South Africa</td><td>3072498194.63</td></tr><tr><td>Red Sea and Gulf of Aden</td><td>170305.00</td></tr><tr><td>Colombia</td><td>1026818693.62</td></tr><tr><td>Mekong</td><td>1806484.78</td></tr><tr><td>Hungary</td><td>56547036.03</td></tr><tr><td>Pakistan</td><td>4997625017.26</td></tr><tr><td>Iran, Islamic Republic of</td><td>1092251130.02</td></tr><tr><td>Mauritius</td><td>62582982.32</td></tr><tr><td>Moldova</td><td>310105678.65</td></tr><tr><td>Vietnam</td><td>6764613349.50</td></tr><tr><td>Slovak Republic</td><td>28814384.26</td></tr><tr><td>Mali</td><td>715383815.33</td></tr><tr><td>Maldives</td><td>32077812.22</td></tr><tr><td>Sudan</td><td>233225457.13</td></tr><tr><td>East Asia and Pacific</td><td>15575158.41</td></tr><tr><td>South Sudan</td><td>720239141.61</td></tr><tr><td>Caucasus</td><td>671315.05</td></tr><tr><td>Syrian Arab Republic</td><td>370366.81</td></tr><tr><td>South Asia</td><td>49951886.10</td></tr><tr><td>World</td><td>7998154.80</td></tr><tr><td>Middle East and North Africa</td><td>3523531.53</td></tr><tr><td>Togo</td><td>151563111.65</td></tr><tr><td>Andean Countries</td><td>6051052.49</td></tr><tr><td>Turkmenistan</td><td>581263.52</td></tr><tr><td>Central African Republic</td><td>167920866.63</td></tr><tr><td>Eastern Africa</td><td>152016782.34</td></tr><tr><td>Liberia</td><td>927374027.04</td></tr><tr><td>Central Africa</td><td>538553747.41</td></tr><tr><td>Vanuatu</td><td>81486565.57</td></tr><tr><td>Palau</td><td>400000.00</td></tr><tr><td>Equatorial Guinea</td><td>30000.00</td></tr><tr><td>Pacific Islands</td><td>6325337.66</td></tr><tr><td>Zimbabwe</td><td>26146584.47</td></tr><tr><td>Antigua and Barbuda</td><td>552731.76</td></tr><tr><td>Botswana</td><td>339568734.57</td></tr><tr><td>Asia</td><td>470408.51</td></tr><tr><td>Fiji</td><td>13211053.54</td></tr><tr><td>Tuvalu</td><td>15272027.69</td></tr><tr><td>Myanmar</td><td>286143843.84</td></tr><tr><td>Marshall Islands</td><td>143992.00</td></tr><tr><td>Somalia</td><td>41375946.16</td></tr><tr><td>Suriname</td><td>37000.00</td></tr><tr><td>Micronesia, Federated States of</td><td>37787425.50</td></tr></tbody></table></div>"
      ]
     },
     "metadata": {
      "application/vnd.databricks.v1+output": {
       "addedWidgets": {},
       "aggData": [],
       "aggError": "",
       "aggOverflow": false,
       "aggSchema": [],
       "aggSeriesLimitReached": false,
       "aggType": "",
       "arguments": {},
       "columnCustomDisplayInfos": {},
       "data": [
        [
         "Chad",
         "223601095.99"
        ],
        [
         "Paraguay",
         "312654005.40"
        ],
        [
         "Senegal",
         "1129419229.25"
        ],
        [
         "Cabo Verde",
         "132216973.75"
        ],
        [
         "Western Balkans",
         "29219242.19"
        ],
        [
         "Kiribati",
         "77448472.76"
        ],
        [
         "Guyana",
         "47683002.24"
        ],
        [
         "Philippines",
         "1174666389.60"
        ],
        [
         "Eritrea",
         "182287685.10"
        ],
        [
         "Djibouti",
         "109043008.38"
        ],
        [
         "Latin America",
         "11202643.09"
        ],
        [
         "Tonga",
         "85304702.26"
        ],
        [
         "Turkey",
         "2839801399.44"
        ],
        [
         "Malawi",
         "624368169.22"
        ],
        [
         "Iraq",
         "1233598125.56"
        ],
        [
         "Comoros",
         "23975672.96"
        ],
        [
         "Cambodia",
         "354590830.10"
        ],
        [
         "Afghanistan",
         "4038329869.76"
        ],
        [
         "Rwanda",
         "424807869.92"
        ],
        [
         "Jordan",
         "295837091.82"
        ],
        [
         "Kosovo",
         "98613688.13"
        ],
        [
         "Sri Lanka",
         "593068273.45"
        ],
        [
         "Congo, Democratic Republic of",
         "3099829838.55"
        ],
        [
         "Africa",
         "4241284631.58"
        ],
        [
         "Dominica",
         "8158182.91"
        ],
        [
         "Algeria",
         "70485263.87"
        ],
        [
         "Argentina",
         "7227734355.89"
        ],
        [
         "Angola",
         "567982334.43"
        ],
        [
         "Ecuador",
         "1952058998.58"
        ],
        [
         "Lesotho",
         "189748897.01"
        ],
        [
         "Albania",
         "800666015.92"
        ],
        [
         "Madagascar",
         "862521364.28"
        ],
        [
         "Ghana",
         "1210196684.08"
        ],
        [
         "Nicaragua",
         "526041367.40"
        ],
        [
         "St. Lucia",
         "40966453.94"
        ],
        [
         "Benin",
         "377222291.31"
        ],
        [
         "Sierra Leone",
         "235900546.55"
        ],
        [
         "Peru",
         "731060597.54"
        ],
        [
         "India",
         "18803255974.53"
        ],
        [
         "China",
         "17471407861.32"
        ],
        [
         "Congo, Republic of",
         "349154012.79"
        ],
        [
         "St. Kitts and Nevis",
         "9163542.21"
        ],
        [
         "Belarus",
         "1026409530.02"
        ],
        [
         "Central Asia",
         "125005799.53"
        ],
        [
         "Timor-Leste",
         "238863554.55"
        ],
        [
         "Sao Tome and Principe",
         "8448726.74"
        ],
        [
         "Tajikistan",
         "308914856.08"
        ],
        [
         "Chile",
         "35758171.07"
        ],
        [
         "Central America",
         "5624849.58"
        ],
        [
         "Croatia",
         "1343664636.52"
        ],
        [
         "Burundi",
         "321890295.48"
        ],
        [
         "Venezuela, Republica Bolivariana de",
         "9120612.56"
        ],
        [
         "Nigeria",
         "3628668399.11"
        ],
        [
         "Bolivia",
         "368148888.84"
        ],
        [
         "Gabon",
         "81436737.64"
        ],
        [
         "Lithuania",
         "83172162.81"
        ],
        [
         "Mauritania",
         "232945228.64"
        ],
        [
         "Niger",
         "484248283.11"
        ],
        [
         "Bangladesh",
         "4237774397.43"
        ],
        [
         "Barbados",
         "4645342.43"
        ],
        [
         "Europe and Central Asia",
         "7936002.31"
        ],
        [
         "Russian Federation",
         "3292233554.32"
        ],
        [
         "Thailand",
         "77580800.44"
        ],
        [
         "Swaziland",
         "29795854.22"
        ],
        [
         "Gambia, The",
         "87475847.68"
        ],
        [
         "Bhutan",
         "63872993.15"
        ],
        [
         "Morocco",
         "452771830.22"
        ],
        [
         "Caribbean",
         "31860025.97"
        ],
        [
         "Panama",
         "227322143.12"
        ],
        [
         "Ukraine",
         "2079377409.88"
        ],
        [
         "Western Africa",
         "1912871006.03"
        ],
        [
         "Uruguay",
         "304397082.44"
        ],
        [
         "Mexico",
         "1218350886.06"
        ],
        [
         "Cote d'Ivoire",
         "576905458.00"
        ],
        [
         "Macedonia, former Yugoslav Republic of",
         "423562702.28"
        ],
        [
         "Georgia",
         "1209877973.49"
        ],
        [
         "Montenegro",
         "170352643.76"
        ],
        [
         "Indonesia",
         "3296791275.48"
        ],
        [
         "Mongolia",
         "179393055.66"
        ],
        [
         "Guatemala",
         "261648843.95"
        ],
        [
         "Yemen, Republic of",
         "1409600721.39"
        ],
        [
         "Azerbaijan",
         "3888039333.95"
        ],
        [
         "Grenada",
         "36647262.06"
        ],
        [
         "Armenia",
         "614005732.57"
        ],
        [
         "Tunisia",
         "1007827303.32"
        ],
        [
         "Honduras",
         "401682486.47"
        ],
        [
         "Trinidad and Tobago",
         "7730200.18"
        ],
        [
         "OECS Countries",
         "58363671.75"
        ],
        [
         "Uganda",
         "1593828162.11"
        ],
        [
         "Southern Africa",
         "11301079.84"
        ],
        [
         "Namibia",
         "606917.71"
        ],
        [
         "Zambia",
         "593945510.18"
        ],
        [
         "Ethiopia",
         "4612266885.07"
        ],
        [
         "Jamaica",
         "39123546.93"
        ],
        [
         "Latvia",
         "5909812.72"
        ],
        [
         "Guinea",
         "335269683.44"
        ],
        [
         "Seychelles",
         "3023456.23"
        ],
        [
         "Uzbekistan",
         "966780648.24"
        ],
        [
         "Samoa",
         "106527948.44"
        ],
        [
         "Kyrgyz Republic",
         "415973928.76"
        ],
        [
         "Mozambique",
         "1598386728.06"
        ],
        [
         "Czech Republic",
         "144865.00"
        ],
        [
         "Brazil",
         "9149722836.44"
        ],
        [
         "Belize",
         "15557610.47"
        ],
        [
         "St. Vincent and the Grenadines",
         "22626817.05"
        ],
        [
         "West Bank and Gaza",
         "263485385.13"
        ],
        [
         "Kenya",
         "2856797790.69"
        ],
        [
         "Lebanon",
         "1128577811.79"
        ],
        [
         "Lao People's Democratic Republic",
         "283493080.20"
        ],
        [
         "Slovenia",
         "2093849.38"
        ],
        [
         "Dominican Republic",
         "249731121.87"
        ],
        [
         "Tanzania",
         "1588446397.63"
        ],
        [
         "Bosnia and Herzegovina",
         "511852376.24"
        ],
        [
         "Haiti",
         "569672445.28"
        ],
        [
         "Poland",
         "1065836960.70"
        ],
        [
         "Cameroon",
         "632050400.38"
        ],
        [
         "Papua New Guinea",
         "352378779.03"
        ],
        [
         "Romania",
         "1461993267.81"
        ],
        [
         "Guinea-Bissau",
         "78808694.44"
        ],
        [
         "Bulgaria",
         "565693819.47"
        ],
        [
         "Solomon Islands",
         "41051283.94"
        ],
        [
         "Nepal",
         "868524091.88"
        ],
        [
         "Egypt, Arab Republic of",
         "5499074063.37"
        ],
        [
         "Kazakhstan",
         "3564597973.96"
        ],
        [
         "El Salvador",
         "280876010.23"
        ],
        [
         "Costa Rica",
         "105930972.66"
        ],
        [
         "Serbia",
         "1729679255.83"
        ],
        [
         "Burkina Faso",
         "770978862.44"
        ],
        [
         "South Africa",
         "3072498194.63"
        ],
        [
         "Red Sea and Gulf of Aden",
         "170305.00"
        ],
        [
         "Colombia",
         "1026818693.62"
        ],
        [
         "Mekong",
         "1806484.78"
        ],
        [
         "Hungary",
         "56547036.03"
        ],
        [
         "Pakistan",
         "4997625017.26"
        ],
        [
         "Iran, Islamic Republic of",
         "1092251130.02"
        ],
        [
         "Mauritius",
         "62582982.32"
        ],
        [
         "Moldova",
         "310105678.65"
        ],
        [
         "Vietnam",
         "6764613349.50"
        ],
        [
         "Slovak Republic",
         "28814384.26"
        ],
        [
         "Mali",
         "715383815.33"
        ],
        [
         "Maldives",
         "32077812.22"
        ],
        [
         "Sudan",
         "233225457.13"
        ],
        [
         "East Asia and Pacific",
         "15575158.41"
        ],
        [
         "South Sudan",
         "720239141.61"
        ],
        [
         "Caucasus",
         "671315.05"
        ],
        [
         "Syrian Arab Republic",
         "370366.81"
        ],
        [
         "South Asia",
         "49951886.10"
        ],
        [
         "World",
         "7998154.80"
        ],
        [
         "Middle East and North Africa",
         "3523531.53"
        ],
        [
         "Togo",
         "151563111.65"
        ],
        [
         "Andean Countries",
         "6051052.49"
        ],
        [
         "Turkmenistan",
         "581263.52"
        ],
        [
         "Central African Republic",
         "167920866.63"
        ],
        [
         "Eastern Africa",
         "152016782.34"
        ],
        [
         "Liberia",
         "927374027.04"
        ],
        [
         "Central Africa",
         "538553747.41"
        ],
        [
         "Vanuatu",
         "81486565.57"
        ],
        [
         "Palau",
         "400000.00"
        ],
        [
         "Equatorial Guinea",
         "30000.00"
        ],
        [
         "Pacific Islands",
         "6325337.66"
        ],
        [
         "Zimbabwe",
         "26146584.47"
        ],
        [
         "Antigua and Barbuda",
         "552731.76"
        ],
        [
         "Botswana",
         "339568734.57"
        ],
        [
         "Asia",
         "470408.51"
        ],
        [
         "Fiji",
         "13211053.54"
        ],
        [
         "Tuvalu",
         "15272027.69"
        ],
        [
         "Myanmar",
         "286143843.84"
        ],
        [
         "Marshall Islands",
         "143992.00"
        ],
        [
         "Somalia",
         "41375946.16"
        ],
        [
         "Suriname",
         "37000.00"
        ],
        [
         "Micronesia, Federated States of",
         "37787425.50"
        ]
       ],
       "datasetInfos": [],
       "dbfsResultPath": null,
       "isJsonSchema": true,
       "metadata": {},
       "overflow": false,
       "plotOptions": {
        "customPlotOptions": {},
        "displayType": "table",
        "pivotAggregation": null,
        "pivotColumns": null,
        "xColumns": null,
        "yColumns": null
       },
       "removedWidgets": [],
       "schema": [
        {
         "metadata": "{}",
         "name": "Borrower Country",
         "type": "\"string\""
        },
        {
         "metadata": "{}",
         "name": "Total_Amt_spent",
         "type": "\"decimal(20,2)\""
        }
       ],
       "type": "table"
      }
     },
     "output_type": "display_data"
    },
    {
     "data": {
      "text/html": [
       "<style scoped>\n",
       "  .table-result-container {\n",
       "    max-height: 300px;\n",
       "    overflow: auto;\n",
       "  }\n",
       "  table, th, td {\n",
       "    border: 1px solid black;\n",
       "    border-collapse: collapse;\n",
       "  }\n",
       "  th, td {\n",
       "    padding: 5px;\n",
       "  }\n",
       "  th {\n",
       "    text-align: left;\n",
       "  }\n",
       "</style><div class='table-result-container'><table class='table-result'><thead style='background-color: white'><tr><th>Project Name</th><th>Projects_count</th></tr></thead><tbody><tr><td>COMM DEVT</td><td>1097</td></tr><tr><td>VN-RURAL ENERGY 2</td><td>1015</td></tr><tr><td>Proj. in Support of Restruc. of Health</td><td>775</td></tr><tr><td>DRC-Emerg MS Rehab & Recovery ERL (FY03)</td><td>652</td></tr><tr><td>CO Consolidation of Nat. Publ Mgmt Inf.</td><td>638</td></tr><tr><td>GT Support Rural Econ.Dev. Program</td><td>601</td></tr><tr><td>SIEP</td><td>539</td></tr><tr><td>BD: Municipal Services</td><td>522</td></tr><tr><td>SV Income Support and Employability</td><td>513</td></tr><tr><td>AF: Edu. Qlty. Improvement Program II</td><td>499</td></tr><tr><td>NI PFM Modernization TAL</td><td>493</td></tr><tr><td>VIETNAM WATER RESOURCES ASSISTANCE</td><td>491</td></tr><tr><td>VN-SYSTEM ENERGY, EQUITIZATION & RENEWAB</td><td>487</td></tr><tr><td>BD: HNP Sector Program</td><td>464</td></tr><tr><td>NI (CRL) Roads Rehab & Maintenance IV</td><td>455</td></tr><tr><td>HN Trade Facilitatio & Productivity Enha</td><td>422</td></tr><tr><td>BI-Pub Works & Employ Creation (FY01)</td><td>413</td></tr><tr><td>BD: Primary Education Dev. Program III</td><td>404</td></tr><tr><td>Gujarat Emergency Earthquake Reconstruct</td><td>403</td></tr><tr><td>GT (APL2)LAND ADMINISTRATION</td><td>402</td></tr><tr><td>AF: NSP II</td><td>391</td></tr><tr><td>VN-URBAN UPGRADING</td><td>376</td></tr><tr><td>BO Agricultural Innovation and Services</td><td>367</td></tr><tr><td>BD: Rural Elect. Renewable Energy Dev.</td><td>363</td></tr><tr><td>CI - Emerg.Basic Edu Supp Proj (BESP)</td><td>362</td></tr><tr><td>AF: National Solidarity Program III</td><td>353</td></tr><tr><td>DRC Priv Sec Dev Competitiveness</td><td>352</td></tr><tr><td>NP: Rural Access Improve. & Decentraliza</td><td>350</td></tr><tr><td>HT MST Infra. & Instit. Emerg Recov.j</td><td>344</td></tr><tr><td>VN-Distribution Efficiency Project</td><td>334</td></tr><tr><td>TZ-Water Sector Support SIL</td><td>326</td></tr><tr><td>MX: III BASIC HEALTH CARE PROJECT</td><td>319</td></tr><tr><td>NP: Road Sector Development Project</td><td>308</td></tr><tr><td>NG-Com Based Urb Dev (FY02)</td><td>306</td></tr><tr><td>AP Econ Restructuring</td><td>300</td></tr><tr><td>AF: ARTF - CB for Results Facility</td><td>293</td></tr><tr><td>MG-Integ Growth Poles</td><td>287</td></tr><tr><td>VN-Rural Distribution Project</td><td>286</td></tr><tr><td>MR-Urb Dev Prgm (FY02)</td><td>284</td></tr><tr><td>High Priority Reopening & Maintenance</td><td>276</td></tr><tr><td>MX (CRL1)Savings & Rurl Finance(BANSEFI)</td><td>270</td></tr><tr><td>CO Bogota Urban Services Project</td><td>266</td></tr><tr><td>NG-HIV/AIDS Prog. Dev. II  (FY09)</td><td>265</td></tr><tr><td>ID-UPP2</td><td>260</td></tr><tr><td>VN-Rural Transport 3</td><td>260</td></tr><tr><td>VN -Northern Mountains Poverty Reduction</td><td>257</td></tr><tr><td>BO Investing in Children and Youth</td><td>256</td></tr><tr><td>HT Education for All Project - Phase II</td><td>255</td></tr><tr><td>HLT SEC ENHANC</td><td>253</td></tr><tr><td>GT INTEGRATED FINANCIAL MNGT III -TA</td><td>253</td></tr><tr><td>BD: Health Sector Development Program</td><td>252</td></tr><tr><td>KE-Health SWAP (FY10)</td><td>251</td></tr><tr><td>IN: UP WSRP</td><td>245</td></tr><tr><td>Rajasthan Power I</td><td>241</td></tr><tr><td>SIF 2</td><td>241</td></tr><tr><td>HN Education Quality, Governance & Insti</td><td>239</td></tr><tr><td>VN-RRD RWSS</td><td>236</td></tr><tr><td>MX Savings and Credit Sector Loan</td><td>232</td></tr><tr><td>GW-Priv Sec Rehab & Dev (FY02)</td><td>230</td></tr><tr><td>Land Regis & Cadastre Modernization Proj</td><td>226</td></tr><tr><td>BJ-GEF Forests & Adjcnt Lnds Mgmt (FY06)</td><td>225</td></tr><tr><td>BD: Rural Transport Improvement Project</td><td>224</td></tr><tr><td>DRC-Emerg Demob Reintegr ERL (FY04)</td><td>219</td></tr><tr><td>LOCAL SERVICES DELIVERY</td><td>219</td></tr><tr><td>LK:Higher Educ. for Twenty First Century</td><td>219</td></tr><tr><td>SN-Priv Inv Promotion SIL (FY03)</td><td>218</td></tr><tr><td>MG-Emerg Supp to Critical Ed, Health, Nu</td><td>218</td></tr><tr><td>CI-Post-Conflict Assistance (FY08)</td><td>217</td></tr><tr><td>NP: Second HNP and HIV/AIDS Project</td><td>215</td></tr><tr><td>AF-Forest and Adjacent Land MGMT (PSG)</td><td>211</td></tr><tr><td>E-LRN SUPRT (APL #1)</td><td>210</td></tr><tr><td>HEALTH SYSTEM</td><td>205</td></tr><tr><td>DRC-Multi-Modal Transp</td><td>205</td></tr><tr><td>IR - Earthquake Emergency Response</td><td>204</td></tr><tr><td>EDUC MOD</td><td>200</td></tr><tr><td>CNSLTD COLLECT & PENS ADM REF</td><td>199</td></tr><tr><td>MW-Priv & Utility Reform  (FY00)</td><td>197</td></tr><tr><td>KAR WSHD DEVELOPMENT</td><td>195</td></tr><tr><td>MD Competitiveness Enhancement</td><td>195</td></tr><tr><td>BR Tocantins Sustainable Regional Dev</td><td>192</td></tr><tr><td>IN: AP RURAL POV REDUCTION</td><td>190</td></tr><tr><td>NG- Health System Dev. II (FY02)</td><td>187</td></tr><tr><td>LB - First Municipal Infrastructure</td><td>186</td></tr><tr><td>UP Sodic Lands II</td><td>185</td></tr><tr><td>VN-TRANS & DISTRIB 2</td><td>185</td></tr><tr><td>HN (CRL1) Rural Infrastructure Project</td><td>182</td></tr><tr><td>IR - Urban Upgrading and Housing Reform</td><td>182</td></tr><tr><td>HN Social Protection</td><td>182</td></tr><tr><td>ZM-ZAMSIF (FY00)</td><td>180</td></tr><tr><td>Telecommunications APL (FY07)</td><td>179</td></tr><tr><td>GN-Education for All APL (FY02)</td><td>175</td></tr><tr><td>AF: ARTF-Management Capacity Program</td><td>175</td></tr><tr><td>SV Education Quality Improvement</td><td>172</td></tr><tr><td>BO PART RURAL INVESTMENT PROJECT</td><td>170</td></tr><tr><td>CN-IAIL III</td><td>170</td></tr><tr><td>AR Unleashing Productive Innovation</td><td>170</td></tr><tr><td>MUNI DEVT AND DECENTRLZN 2</td><td>169</td></tr><tr><td>MG-MultiSec STI/HIV/AIDS Prev II (FY06)</td><td>169</td></tr><tr><td>PE Trade Facil. and Prod. Improv. T. A.</td><td>168</td></tr><tr><td>Emergency National Solidarity Project</td><td>168</td></tr><tr><td>EG - SOHAG Rural Development</td><td>167</td></tr><tr><td>VN -Natural Disaster Risk Mngt Project</td><td>167</td></tr><tr><td>VN-Land Administration Project</td><td>167</td></tr><tr><td>HN Improving Public Sector Performance</td><td>167</td></tr><tr><td>QUAL EDUC IN RUR AREAS OF MD</td><td>165</td></tr><tr><td>MX Irrigation & Drainage Modernization</td><td>165</td></tr><tr><td>HEALTH SERVICES AND SOCIAL ASSISTANCE</td><td>164</td></tr><tr><td>HT Cholera Emergency Response Project</td><td>164</td></tr><tr><td>MG-Gov & Inst Dev TAL (FY04)</td><td>163</td></tr><tr><td>LAND REGIS & CADASTRE</td><td>163</td></tr><tr><td>PK: Second Poverty Alleviation Fund Proj</td><td>163</td></tr><tr><td>West Africa Agric Prod Progrm (WAAPP-1B)</td><td>163</td></tr><tr><td>HEALTH 2</td><td>161</td></tr><tr><td>EDUC SECT DEVT 2</td><td>161</td></tr><tr><td>LAND REGISTRATION</td><td>160</td></tr><tr><td>PK:Electricity Distribution & Transmissi</td><td>160</td></tr><tr><td>CO-(APL1)Disaster VulnerabilityReduction</td><td>159</td></tr><tr><td>LC Disaster Management Project II</td><td>158</td></tr><tr><td>NI Comm. and Family Health Care Services</td><td>158</td></tr><tr><td>SV Local Government Strengthening</td><td>157</td></tr><tr><td>REG & REAL ESTATE (CRL)</td><td>156</td></tr><tr><td>CN-Wenchuan Earthquake Recovery Project</td><td>156</td></tr><tr><td>BF-Transp Sec SIM (FY03)</td><td>155</td></tr><tr><td>HT (APL1) Education For All</td><td>155</td></tr><tr><td>PY Water & Sanit. Sector Modernization</td><td>154</td></tr><tr><td>UG-Local Govt Mgt Svc Del  Pjt (FY08)</td><td>154</td></tr><tr><td>AG & RURAL DEVT</td><td>152</td></tr><tr><td>MX  Basic Education Dev Phase III</td><td>151</td></tr><tr><td>HT Emerg Bridge Reconst & Vulnerab Reduc</td><td>149</td></tr><tr><td>System Enhancement for Health (SEHAT)</td><td>149</td></tr><tr><td>TB/AIDS CONTROL</td><td>148</td></tr><tr><td>CN-Basic Health (HLTH8)</td><td>147</td></tr><tr><td>NG-Privatization Supt SIL (FY01)</td><td>147</td></tr><tr><td>NG-Natl Urb Water Sec Ref SIM 2 (FY06)</td><td>147</td></tr><tr><td>NI PUBLIC SECTOR TA</td><td>146</td></tr><tr><td>West Africa Agric Prod Progrm (WAAPP-1C)</td><td>146</td></tr><tr><td>3A-SRB M. Water Res. Dvpt. APL (FY06)</td><td>144</td></tr><tr><td>GH-Energy Dev & Access  SIL (FY08)</td><td>144</td></tr><tr><td>KH-Second Health Sector Support Program</td><td>144</td></tr><tr><td>AF: ARTF-2nd Judicial Reform Project</td><td>144</td></tr><tr><td>BR Health Network Formation & Quality Im</td><td>144</td></tr><tr><td>IN: KARNATAKA RWSS II</td><td>143</td></tr><tr><td>3A-NBI-Institutional Strengthening Proj</td><td>143</td></tr><tr><td>PH-LGU FINANCE & DEV.</td><td>141</td></tr><tr><td>MEXICO: KNOWLEDGE AND INNOVATION</td><td>141</td></tr><tr><td>VN-ROAD NETWORK IMPROVEMT</td><td>141</td></tr><tr><td>MA-Irrigation Based Community Dev.</td><td>140</td></tr><tr><td>3A-Niger Basin Water Resources</td><td>140</td></tr><tr><td>EC Power&Comm.Sect Moderniz.&Rural Servi</td><td>139</td></tr><tr><td>GH-Partn w/ Trad Authorities (FY03)</td><td>138</td></tr><tr><td>GT Enhancing MSME Productivity Project</td><td>138</td></tr><tr><td>DRC-Enhancing Governance Capacity (FY08)</td><td>136</td></tr><tr><td>Second Skills Development Project</td><td>136</td></tr><tr><td>NI Rural Roads Infrastructure Imp.</td><td>136</td></tr><tr><td>HT Emergency Recov.& Disaster Management</td><td>135</td></tr><tr><td>HN WATER AND SANITATION PROGRAM</td><td>135</td></tr><tr><td>NI Second Land Administration Project</td><td>135</td></tr><tr><td>MG-Mineral Res Gov SIL (FY03)</td><td>134</td></tr><tr><td>HN Road Rehabilitation & Improvement II</td><td>134</td></tr><tr><td>BR Pernambuco Sustainable Water</td><td>133</td></tr><tr><td>MUNICIPAL DEVELOPMENT</td><td>133</td></tr><tr><td>NG-Urb Water Sec Reform 1 SIL (FY04)</td><td>132</td></tr><tr><td>AF: Strengthening Health Activities</td><td>132</td></tr><tr><td>HEALTH & SOC PROT</td><td>132</td></tr><tr><td>RCIP - Phase 3</td><td>132</td></tr><tr><td>BR Santa Catarina Rural Competitiveness</td><td>132</td></tr><tr><td>AF: National Emergency Rural Access Proj</td><td>131</td></tr><tr><td>LAND ADMIN & MGT</td><td>131</td></tr><tr><td>VE CARACAS SLUM UPGRADE</td><td>130</td></tr><tr><td>CG-Emerg Infrast Rehab & Living Cond Imp</td><td>130</td></tr><tr><td>3A-CEMAC Transp Transit Facil (FY07)</td><td>130</td></tr><tr><td>POST-CHERNOBYL RECOVERY</td><td>130</td></tr><tr><td>CI - Emerg. Youth Empl & Skills Dev. Pro</td><td>130</td></tr><tr><td>EDUC REFORM</td><td>129</td></tr><tr><td>CN - Agricultural Technology Transfer</td><td>129</td></tr><tr><td>AF: ARTF-On-Farm Water Management (OFWM)</td><td>129</td></tr><tr><td>AF: Rural Enterprise Devt Program</td><td>128</td></tr><tr><td>AO-Water Sector Institutional Dvlp</td><td>127</td></tr><tr><td>HN Financial Sector Technical Assistance</td><td>125</td></tr><tr><td>REAL PROP REG & CADASTRE</td><td>125</td></tr><tr><td>HEALTH (SERBIA)</td><td>125</td></tr><tr><td>EG-INTEGRATED IRRIGATION IMPR. & MGT</td><td>125</td></tr><tr><td>SOCIAL PROT DEV</td><td>125</td></tr><tr><td>STATE STATS SYST 2</td><td>125</td></tr><tr><td>BO Streng. Stat Capacity & Inf Based Evi</td><td>125</td></tr><tr><td>NI Social Protection</td><td>125</td></tr><tr><td>GD (4APL) Hurricane Ivan Emerg. Rec.</td><td>124</td></tr><tr><td>IN: TN IAM WARM</td><td>124</td></tr><tr><td>DRC Ag Rehab & Recovery SIL (FY10)</td><td>124</td></tr><tr><td>INT. NUTRIENT POLLUTION CONTROL</td><td>124</td></tr><tr><td>HLTH SEC TECH (JERP)</td><td>124</td></tr><tr><td>Serving People, Improving Health Project</td><td>124</td></tr><tr><td>COASTAL ZONE MGMT (APL #1)</td><td>123</td></tr><tr><td>CV-Growth & Compet Pjt (FY03)</td><td>122</td></tr><tr><td>AJK Community Infrastructure & Services</td><td>122</td></tr><tr><td>DJ-SOCIAL DEVELOPMENT AND PUBLIC WORKS</td><td>121</td></tr><tr><td>VN-COASTAL CITIES ENVMT SANIT.</td><td>121</td></tr><tr><td>VN-MKG DELTA TRANSPORT INFRA DEV</td><td>121</td></tr><tr><td>BR-(APL) RS (Pelotas) Integr. Mun. Dev.</td><td>121</td></tr><tr><td>ZR-Health Sec Rehab Supt (FY06)</td><td>120</td></tr><tr><td>VN-Trung Son Hydropower Project</td><td>120</td></tr><tr><td>DRC Urban Water Supply Project (FY09)</td><td>120</td></tr><tr><td>TP-FUNDAMENTAL SCHOOL QUALITY PROJECT</td><td>119</td></tr><tr><td>BO-Exp. Access to Reduc Hlth Ineq (APL3)</td><td>119</td></tr><tr><td>IN: Integrated Coastal Zone Mgmt Project</td><td>119</td></tr><tr><td>BJ-Decentralized Community Driven Servic</td><td>119</td></tr><tr><td>HN Safer Municipalities</td><td>119</td></tr><tr><td>MG-Priv Sec Dev 2 (FY02)</td><td>118</td></tr><tr><td>SV Strengthening Public Health Care Syst</td><td>118</td></tr><tr><td>SIF</td><td>117</td></tr><tr><td>NI LAND ADMINISTRATION PROJECT</td><td>117</td></tr><tr><td>HEALTH SECTR REFORM</td><td>117</td></tr><tr><td>Inst. Devt. for Education</td><td>117</td></tr><tr><td>URBAN INFRASTRUCTURE</td><td>117</td></tr><tr><td>LS: Basic Education FTI Grant</td><td>117</td></tr><tr><td>MX WATER RESOURCES MANA</td><td>116</td></tr><tr><td>VN - Agriculture Competitiveness Project</td><td>116</td></tr><tr><td>CCT</td><td>116</td></tr><tr><td>CO (APL2) Rural Education APL II</td><td>116</td></tr><tr><td>LS - Smallholder Agriculture Dev Project</td><td>116</td></tr><tr><td>LB - Cultural Heritage and Urban Dev.</td><td>114</td></tr><tr><td>PE Rural Electrification</td><td>114</td></tr><tr><td>BJ-Decentral City Mgmt 2 (FY06)</td><td>114</td></tr><tr><td>PH Mindanao Rural Dev. Project - Phase 2</td><td>114</td></tr><tr><td>FTI-3</td><td>114</td></tr><tr><td>BR MST Acre Social Economic Inclusion</td><td>114</td></tr><tr><td>EDUC EXCEL & EQUITY</td><td>113</td></tr><tr><td>REG & MUNI INFRA DEV</td><td>113</td></tr><tr><td>PK: Tax Administration Reform Project</td><td>112</td></tr><tr><td>HEALTH SECT REF</td><td>112</td></tr><tr><td>Emergency Services Support Prog MDTF</td><td>112</td></tr><tr><td>SD-North Sudan Livestock (FY07)</td><td>112</td></tr><tr><td>GH-Road Sec Dev Project (FY02)</td><td>110</td></tr><tr><td>SL-Power & Water SIL (FY05)</td><td>110</td></tr><tr><td>DRC-Emerg Econ & Soc Reunif ERL (FY04)</td><td>110</td></tr><tr><td>VN-WATER SUPPLY DEV.</td><td>110</td></tr><tr><td>Reg&Domestic Pwr Mkt  Dev.  (FY07)</td><td>110</td></tr><tr><td>TZ-Soc Action Fund 2 SIL (FY05)</td><td>110</td></tr><tr><td>GT SECOND RURAL AND MAIN ROADS PROJ.</td><td>109</td></tr><tr><td>NI Greater Managua Water and Sanitation</td><td>109</td></tr><tr><td>PY 4th RURAL WATER SUPPLY & SANITATION</td><td>108</td></tr><tr><td>KH-BIO & PROTEC AREAS M</td><td>108</td></tr><tr><td>KH BIO & PROT AREA M</td><td>108</td></tr><tr><td>Afghanistan: Natural Resources Devt</td><td>108</td></tr><tr><td>HEALTH SEC REF 2 (APL #2) (CRL)</td><td>108</td></tr><tr><td>CR EQUITY AND EFFICIENCY OF EDUCATION</td><td>108</td></tr><tr><td>VN-Avian & Human Influenza Control &Prep</td><td>108</td></tr><tr><td>CUSTOMS DEVT</td><td>107</td></tr><tr><td>DO-EARLY CHILDHOOD EDUCATION PROJECT</td><td>107</td></tr><tr><td>NP: POWER DEVELOPMENT PROJECT</td><td>107</td></tr><tr><td>MZ Tech & Voc Edu & Training (FY06)</td><td>107</td></tr><tr><td>EC Chimborazo Dev Invest Proj (PIDD)</td><td>107</td></tr><tr><td>NE - Agro-Pastoral Export Promotion Proj</td><td>107</td></tr><tr><td>SD-Basic Education Project (FY09)</td><td>107</td></tr><tr><td>MG-Rural Transp APL 2 (FY03)</td><td>106</td></tr><tr><td>Nile Cooperation for Results Project</td><td>106</td></tr><tr><td>Education Sector Strategy Support</td><td>106</td></tr><tr><td>GT Strengthening Maya IPs Resilience CC</td><td>106</td></tr><tr><td>SOC SERV DEVT</td><td>105</td></tr><tr><td>REAL ESTATE CADASTRE (SERBIA)</td><td>105</td></tr><tr><td>AISP</td><td>105</td></tr><tr><td>MX Savings & Credit Sector Strengthening</td><td>104</td></tr><tr><td>CI-Edu & Training Supt (FY98)</td><td>104</td></tr><tr><td>ID-Eastern Indonesia Region Transp. 2</td><td>104</td></tr><tr><td>HEALTH SYSTEM IMPROVEMENT PROJECT</td><td>104</td></tr><tr><td>Transmission Efficiency Project (TEP)</td><td>104</td></tr><tr><td>RURAL EDUC</td><td>103</td></tr><tr><td>SEISMIC RISK MITIGATION</td><td>103</td></tr><tr><td>VN-2ND HIGHER EDUCATION</td><td>103</td></tr><tr><td>INLAND WATERS PROJECT</td><td>103</td></tr><tr><td>LAND ADMIN & MGMT PROJ</td><td>102</td></tr><tr><td>VN - Forest Sector Development Project</td><td>102</td></tr><tr><td>MZ-Water Services & Inst. Support</td><td>102</td></tr><tr><td>CN-LIAO RIVER BASIN</td><td>101</td></tr><tr><td>UG-Priv Sec Competitiveness 2</td><td>101</td></tr><tr><td>MUN WATER & WW</td><td>101</td></tr><tr><td>KH- RURAL INVESTMENT & LOCAL GOVERNANCE</td><td>101</td></tr><tr><td>VN-Mekong Regional Health Support Proj</td><td>101</td></tr><tr><td>LR-Health Systems Reconstruction (FY07)</td><td>101</td></tr><tr><td>LR - Education GPE Program (FY11)</td><td>101</td></tr><tr><td>HEALTH SECTR DEVT</td><td>100</td></tr><tr><td>BR PROSANEAR 2</td><td>100</td></tr><tr><td>RY-WATER SECTOR SUPPORT</td><td>100</td></tr><tr><td>E Afr Trade & Transp Facil (FY06)</td><td>100</td></tr><tr><td>AGRIC ACQUIS COHESION</td><td>100</td></tr><tr><td>KE-Water & Sanitation Srv Impr (FY08)</td><td>100</td></tr><tr><td>Afghanistan Health Sector Emergency Reha</td><td>99</td></tr><tr><td>TZ-Loc Govt Supt SIL (FY05)</td><td>99</td></tr><tr><td>NI Hurricane Felix Emergency Recovery</td><td>99</td></tr><tr><td>BD:Emergency 2007 Cyclone Recovery &Rest</td><td>99</td></tr><tr><td>MN-Index-Based Livestock Insurance</td><td>98</td></tr><tr><td>IN: RAJ WSRP</td><td>98</td></tr><tr><td>ST. PETERSBURG ECON DEVT</td><td>98</td></tr><tr><td>Planning & Fin Mgt Capacity Building</td><td>98</td></tr><tr><td>PNG-GAZELLE RESTORATION II</td><td>97</td></tr><tr><td>SV-Earthquake Emergency Rec. & Health</td><td>97</td></tr><tr><td>NE-Urban Water and Sanitation Project</td><td>97</td></tr><tr><td>CN-Health IX</td><td>96</td></tr><tr><td>CG-Transp & Gov CB (FY02)</td><td>96</td></tr><tr><td>NE-Inst Strngt & Hlth Sec Prgm (FY06)</td><td>96</td></tr><tr><td>NI Road Rehab. and Maintenance III</td><td>96</td></tr><tr><td>PRIV & REST OF BANKS/ENTPRS TA</td><td>96</td></tr><tr><td>BD: Social Investment Program Project</td><td>96</td></tr><tr><td>BR FED.WTR MGT</td><td>96</td></tr><tr><td>ROAD MAINT</td><td>96</td></tr><tr><td>IN: TN Health Systems</td><td>96</td></tr><tr><td>COMM & BASIC HEALTH</td><td>96</td></tr><tr><td>COASTAL CITIES POLLUTION CONTROL 2</td><td>96</td></tr><tr><td>PE Justice Services Improv. II</td><td>96</td></tr><tr><td>FORESTRY</td><td>95</td></tr><tr><td>HN ECONOMIC & FIN.MANAGEMENT PROJECT</td><td>95</td></tr><tr><td>NG-Lagos Urb Trans SIL (FY03)</td><td>95</td></tr><tr><td>TP-Health Sector Strategic Plan Support</td><td>95</td></tr><tr><td>VN-PRIMARY EDUC FOR DISADVANTAGED CHILRE</td><td>94</td></tr><tr><td>TZ-Private Sector/MSME Competitiveness</td><td>94</td></tr><tr><td>CN-Liaoning Medium Cities Infrastructure</td><td>94</td></tr><tr><td>SD-Northern-MDTF Health (FY07)</td><td>94</td></tr><tr><td>BD: Water Management Improvement Project</td><td>94</td></tr><tr><td>MOLDOVA eTRANSFORMATION</td><td>94</td></tr><tr><td>HR Science & Technology</td><td>93</td></tr><tr><td>ZM-SEED (FY05)</td><td>93</td></tr><tr><td>VN - MEKONG DELTA WATER</td><td>93</td></tr><tr><td>RO Knowledge Economy</td><td>93</td></tr><tr><td>Education Quality Improvement Program</td><td>93</td></tr><tr><td>UG-Energy for Rural Transformation APL2</td><td>93</td></tr><tr><td>NI FCPF REDD Readiness</td><td>93</td></tr><tr><td>HT Improving Maternal and Child Health</td><td>93</td></tr><tr><td>GN-Multi-Sectoral AIDS SIL (FY03)</td><td>92</td></tr><tr><td>AR PROV AG DEVT I</td><td>92</td></tr><tr><td>BR GOIAS STATE HIGHWAY MANAGEMENT</td><td>92</td></tr><tr><td>ZR-Multisectoral HIV/AIDS (FY04)</td><td>92</td></tr><tr><td>AR(APL1) Matanza-Riachuelo Development</td><td>92</td></tr><tr><td>CN-Economic Reform Implementation</td><td>92</td></tr><tr><td>3A-West Africa Fisheries - Phase 1</td><td>92</td></tr><tr><td>AR Sustainable Natural Res Mgt</td><td>92</td></tr><tr><td>HN Disaster Risk Management Project</td><td>92</td></tr><tr><td>RURAL LAND TITLING & CADASTRE</td><td>91</td></tr><tr><td>JUDICIAL REFORM</td><td>91</td></tr><tr><td>SOC INF RETROFIT</td><td>91</td></tr><tr><td>JUDICIAL MOD</td><td>91</td></tr><tr><td>SOC PROT</td><td>90</td></tr><tr><td>MW-Sec Natl Water Dev Project SIL (FY07)</td><td>90</td></tr><tr><td>HT Meeting Teacher Needs for EFA</td><td>90</td></tr><tr><td>EC Public Sector Financial Management</td><td>89</td></tr><tr><td>MG-Transp Infrastr Invest Prj (FY04)</td><td>89</td></tr><tr><td>Financial & Legal Sec TA</td><td>89</td></tr><tr><td>VN - COMMUNITY BASED RURAL INFRA.</td><td>89</td></tr><tr><td>AR CRL1 APL1 Buenos Aires Infrastr SIDP</td><td>89</td></tr><tr><td>CN-Jilin Food Safety</td><td>89</td></tr><tr><td>JSDF-CO-Rethink.Improve Gender Equity</td><td>89</td></tr><tr><td>ET-Water Sply & Sanitation SIL (FY04)</td><td>88</td></tr><tr><td>MZ-Decentr Planning &Fin SIL (FY04)</td><td>88</td></tr><tr><td>MG-Env Prgm 3</td><td>88</td></tr><tr><td>RIJEKA GATEWAY</td><td>88</td></tr><tr><td>ID-UPP3</td><td>88</td></tr><tr><td>KH-EFA-FTI Catalytic Trust Fund</td><td>88</td></tr><tr><td>BR Sao Paulo Feeder Roads Project</td><td>88</td></tr><tr><td>Financial Education & Financial Literacy</td><td>88</td></tr><tr><td>VN Forest Protection and Rural Dev.</td><td>87</td></tr><tr><td>TJEFA - TJ FTI CF</td><td>87</td></tr><tr><td>IRRIG/DRAINAGE REHAB (SERBIA)</td><td>87</td></tr><tr><td>RY-RURAL WATER SUPPLY & SANITATION</td><td>86</td></tr><tr><td>RW-Pub Sec CB TAL (FY05)</td><td>86</td></tr><tr><td>WS-INFRA ASSET MGMT APL2</td><td>86</td></tr><tr><td>GD Grenada Disaster Management</td><td>86</td></tr><tr><td>PFM CAPACITY BUILDING</td><td>86</td></tr><tr><td>AF:Agricultural Inputs Project</td><td>86</td></tr><tr><td>ENERGY EFF</td><td>85</td></tr><tr><td>PE NATIONAL RURAL WATER SUPPLY AND</td><td>85</td></tr><tr><td>Rural Infrastr (FY00) - (PNIR)</td><td>85</td></tr><tr><td>GT UNIVERSALIZATION OF BASIC EDUCATION</td><td>85</td></tr><tr><td>SL-Bumbuna Env. and Social SIL (FY05)</td><td>85</td></tr><tr><td>CF-Emergency Urban Infrastruct ERL (F07)</td><td>85</td></tr><tr><td>OIP-2</td><td>85</td></tr><tr><td>BO Participatory Rural Investment II</td><td>85</td></tr><tr><td>Natl Horticulture & Livestock Project</td><td>85</td></tr><tr><td>VN-2nd Northern Mountains Poverty Redctn</td><td>85</td></tr><tr><td>Floods Emergency Recovery Project</td><td>85</td></tr><tr><td>CG-Emerg Rec & Com Supt ERL (FY03)</td><td>84</td></tr><tr><td>DISTRICT HEAT</td><td>84</td></tr><tr><td>BO Urban Infrastructure Project</td><td>84</td></tr><tr><td>NI Rural Water Supply and Sanitation</td><td>84</td></tr><tr><td>IN: AP and Telangana Road Sector Project</td><td>84</td></tr><tr><td>TG:Emergency Infra.Rehab. & Energy Proj.</td><td>84</td></tr><tr><td>Judicial Services & Smart Infrastr Proj</td><td>84</td></tr><tr><td>AF: Emer Irrig Rehab</td><td>83</td></tr><tr><td>URB INFRA & SERV DEL</td><td>83</td></tr><tr><td>EG-Natural Gas Connections Project</td><td>83</td></tr><tr><td>REAL ESTATE REG.</td><td>83</td></tr><tr><td>AO-Market Oriented Smallholder Agr</td><td>83</td></tr><tr><td>INTEGRATED LAND ADMIN SYSTEM</td><td>83</td></tr><tr><td>UG-Kampala Inst & Infrast Dev Prj (FY08)</td><td>83</td></tr><tr><td>HT Disaster Risk Mngmt & Reconstruction</td><td>83</td></tr><tr><td>IN: MAHAR WSIP</td><td>82</td></tr><tr><td>CN-BEIJING ENVIRONMENT II</td><td>82</td></tr><tr><td>CN-Wuhan Urban Transport</td><td>82</td></tr><tr><td> NG-Electricity and Gas Improvement</td><td>82</td></tr><tr><td>Afghanistan SDNRP II</td><td>82</td></tr><tr><td>UG-Health Syst. Strength. Project (FY10)</td><td>82</td></tr><tr><td>IN: POWERGRID V</td><td>82</td></tr><tr><td>IN: Haryana Power System Improv Project</td><td>82</td></tr><tr><td>NI Micro, Small & Medium Enterprise Dev.</td><td>82</td></tr><tr><td>IN: UP Roads</td><td>82</td></tr><tr><td>BI-Road Sec Dev SIM (FY04)</td><td>81</td></tr><tr><td>IDP ECON DEVT SUPPORT</td><td>81</td></tr><tr><td>NI Offgrid Rural Electrification (PERZA)</td><td>81</td></tr><tr><td>BD:National Agricultural Technology Proj</td><td>81</td></tr><tr><td>BR-Second Minas Gerais Dev't PArtnership</td><td>81</td></tr><tr><td>Transmission, Distribution and Disaster</td><td>81</td></tr><tr><td>Support to the General Auditor's Office</td><td>81</td></tr><tr><td>JO - Educ. Reform for Knowledge Econ.I</td><td>80</td></tr><tr><td>ENERGY LOSS REDUCTION</td><td>80</td></tr><tr><td>GT (CRL1) Education Quality and Sec. Edu</td><td>80</td></tr><tr><td>VN-RURAL ENERGY</td><td>80</td></tr><tr><td>CO- Antioquia Secondary Education Projec</td><td>80</td></tr><tr><td>NAT'L WATER SUPPLY & SAN</td><td>80</td></tr><tr><td>PK:Land Records Mgmt & Information Syst.</td><td>80</td></tr><tr><td>SL EFA/ FTI Program</td><td>80</td></tr><tr><td>VC Disaster Management</td><td>80</td></tr><tr><td>PUB. EMPLMNT  FOR SUST. AGR. & WATER MGT</td><td>80</td></tr><tr><td>PNG - Urban Youth Employment Project</td><td>80</td></tr><tr><td>HT Business Development and Investment</td><td>80</td></tr><tr><td>HLT SEC MGT</td><td>79</td></tr><tr><td>ED SECT DEV (APL #1)</td><td>79</td></tr><tr><td>IQ-TF Emergency Textbook Provision</td><td>79</td></tr><tr><td>AVIAN FLU - XK</td><td>79</td></tr><tr><td>LIFELINE ROADS IMPROVEMENT PROJECT</td><td>79</td></tr><tr><td>BI-Demobilization & Reint Prj (FY04)</td><td>79</td></tr><tr><td>SZ-Health, HIV/AIDS & TB Project (FY11)</td><td>79</td></tr><tr><td>HT Rebuilding Energy Infrastr & Access</td><td>79</td></tr><tr><td>HIGHWAY 2</td><td>78</td></tr><tr><td>PK: Sindh On-Farm Water Management Proj</td><td>78</td></tr><tr><td>CI-Emerg Multi-Sect HIV/AIDS Proj (FY08)</td><td>78</td></tr><tr><td>RW-Rural Sec Supt APL (FY01)</td><td>78</td></tr><tr><td>East Afr Publ Hlth Laborat Net (FY10)</td><td>78</td></tr><tr><td>AO-Econ Mgmt TA (FY03)</td><td>78</td></tr><tr><td>TZ-Forest Conserv & Mgmt SIL (FY02)</td><td>78</td></tr><tr><td>BO PICAR Comm. Investment in Rural Areas</td><td>78</td></tr><tr><td>AF: ARTF-Civil Service Capacity Building</td><td>77</td></tr><tr><td>SEC/LOC ROADS</td><td>77</td></tr><tr><td>TD-Public Financial Mgmt CB</td><td>77</td></tr><tr><td>MZ-Maputo Municipal Development Program</td><td>77</td></tr><tr><td>TO-Transport Sector Consolidation</td><td>77</td></tr><tr><td>NG-Natl Energy Dev SIL (FY06)</td><td>77</td></tr><tr><td>LB - ESPISP 2</td><td>77</td></tr><tr><td>HN- HEALTH SYSTEM REFORM PROJECT</td><td>77</td></tr><tr><td>IN: MUMBAI URBAN TRANSPORT PROJECT</td><td>77</td></tr><tr><td>CO Strength. Public Info, M&E for RMgmt.</td><td>77</td></tr><tr><td>GH-eGhana SIL (FY07)</td><td>77</td></tr><tr><td>GH-Trade Gateway & Inv SIL (FY99)</td><td>77</td></tr><tr><td>PK: HIGHWAYS REHAB</td><td>77</td></tr><tr><td>NI 2nd Support to the Education Sector</td><td>77</td></tr><tr><td>DANUBE ENTS POLLUT REDUC (GEF) (SERBIA)</td><td>77</td></tr><tr><td>PG-ROAD MAINT.  & REHAB</td><td>76</td></tr><tr><td>VN -ICT Development</td><td>76</td></tr><tr><td>JUDICIAL REFORM SUPPORT</td><td>76</td></tr><tr><td>LS-ESDP II APL - Phase 2 (FY04)</td><td>76</td></tr><tr><td>PUB INVST CAP BLDG</td><td>76</td></tr><tr><td>EG: Household Gas Connection Projec</td><td>76</td></tr><tr><td>RY-Groundwater & Soil Conserv Proj</td><td>75</td></tr><tr><td>WATER MGMT IMPRVMT</td><td>75</td></tr><tr><td>Saint Lucia - Disaster Management</td><td>75</td></tr><tr><td>PE Regional Transport Decentralization</td><td>75</td></tr><tr><td>ML-Agr & Producer Org (FY02) - (PASAOP)</td><td>75</td></tr><tr><td>RY-PORT CITIES DEVELOPMENT PROGRAM</td><td>75</td></tr><tr><td>tien shan ecosystem (DROPPED)</td><td>75</td></tr><tr><td>DO Youth Development Project</td><td>75</td></tr><tr><td>BI-Health Project (FY09)</td><td>75</td></tr><tr><td>FLOOD EMERGENCY</td><td>75</td></tr><tr><td>VN-Project Preparation TA Facility</td><td>75</td></tr><tr><td>REAL ESTATE CADASTRE</td><td>75</td></tr><tr><td>RY URBAN WTR SUPPLY & SANITATION APL</td><td>75</td></tr><tr><td>CR Higher Education</td><td>75</td></tr><tr><td>SOC ASST SYS MOD</td><td>74</td></tr><tr><td>HN Nutrition and Social Protection</td><td>74</td></tr><tr><td>IN: Assam Agric Competitiveness</td><td>74</td></tr><tr><td>LB - Municipal Infrastructure</td><td>74</td></tr><tr><td>PPIBL</td><td>74</td></tr><tr><td>UY POWER TRANSMISSION & DISTRIBUTION</td><td>74</td></tr><tr><td> ET-Dec Serv Del CB (FY03)</td><td>74</td></tr><tr><td>CN-Anhui Highway Rehab & Improvement</td><td>74</td></tr><tr><td>GT COMPETITIVENESS PROJECT</td><td>74</td></tr><tr><td>TRANSPORT</td><td>74</td></tr><tr><td>KH - Trade Development Support Program</td><td>74</td></tr><tr><td>BO JSDF Early Childhood Care & Developmt</td><td>74</td></tr><tr><td>ZA-GEF Maloti/Drakens Cnsrv & Dev (FY02)</td><td>73</td></tr><tr><td>IR - Bam Earthquake Emergency Reconstr.</td><td>73</td></tr><tr><td>MN-UB SERVICES IMPROVMT 2</td><td>73</td></tr><tr><td>SIF 3</td><td>73</td></tr><tr><td>NG-Econ Reform & Govern SIL (FY05)</td><td>73</td></tr><tr><td>BO Road Rehab. & Maintenance Project</td><td>73</td></tr><tr><td>SECOND LAND & REAL ESTATE REGISTRATION</td><td>73</td></tr><tr><td>LR-Emergency Senior Executive Svce (FY08</td><td>73</td></tr><tr><td>ZM-Emergency Drought Recovery ERL (FY03)</td><td>73</td></tr><tr><td>TG:Agricultural Sector Support Project</td><td>73</td></tr><tr><td>LB - Community Development Project</td><td>72</td></tr><tr><td>HEALTH REF IMP</td><td>72</td></tr><tr><td>HN (CRL) Barrio-Ciudad Project</td><td>72</td></tr><tr><td>Emergency Infrastructure Reconstruction</td><td>72</td></tr><tr><td>IN: Power System Development  Project IV</td><td>72</td></tr><tr><td>IN: Third National HIV/AIDS Control Proj</td><td>72</td></tr><tr><td>AF: Emergency Communications Development</td><td>72</td></tr><tr><td>SOC & ECON REC</td><td>72</td></tr><tr><td>CEMAC Regional Institutions Support</td><td>72</td></tr><tr><td>BUKHARA & SAMARKAND SEWERAGE PROJECT</td><td>72</td></tr><tr><td>DRC-Growth w/ Gov in Mineral Sector</td><td>72</td></tr><tr><td>CM - Competitive Value Chains</td><td>72</td></tr><tr><td>EC Growing with our GUAGUAS (JSDF)</td><td>72</td></tr><tr><td>6R (APL1A) Communic. Infrast. Prog.</td><td>72</td></tr><tr><td>GH-Com Based Rural Dev (FY05)</td><td>71</td></tr><tr><td>4E-GEF-Livestock Waste Management</td><td>71</td></tr><tr><td>3A-Afr Emergency Locust Prj (FY05)</td><td>71</td></tr><tr><td>KE-Electricity SIL (2010)</td><td>71</td></tr><tr><td>PK: PIFRA II</td><td>71</td></tr><tr><td>BD: Clean Air & Sustainable Environment</td><td>71</td></tr><tr><td>AGRIBUSINESS & MARKETING</td><td>71</td></tr><tr><td>CO Sustainable Development Inv Project</td><td>71</td></tr><tr><td>HT Transport and Territorial Devopment</td><td>71</td></tr><tr><td>UG-Econ & Fin Mgmt (FY00)</td><td>71</td></tr><tr><td>Eastern Africa Agricultural Productivity</td><td>71</td></tr><tr><td>SN  EFA-FTI Catalytic Fund</td><td>71</td></tr><tr><td>eBenin Project</td><td>71</td></tr><tr><td>IQ-Youth Livelihoods Dev in Southern IQ</td><td>71</td></tr><tr><td>CO - Science Technology & Innovation</td><td>71</td></tr><tr><td>SOC INS TA</td><td>70</td></tr><tr><td>AF:  Skills Development Project</td><td>70</td></tr><tr><td>IN: Karnataka Health System Dev</td><td>70</td></tr><tr><td>Emergency Recovery Project</td><td>70</td></tr><tr><td>AR-Essential Public Health Functions</td><td>70</td></tr><tr><td>KH-Typhoon Ketsana Emergency Operation</td><td>70</td></tr><tr><td>Health and Population Program</td><td>69</td></tr><tr><td>PY Road Maintenance</td><td>69</td></tr><tr><td>HT CDD Project (PRODEP)</td><td>69</td></tr><tr><td>AR B.A.URB.TSP</td><td>69</td></tr><tr><td>DO Financial Sector Technical Assistance</td><td>69</td></tr><tr><td>PRIV, RSTRCT & BANKRUPTCY OF STATE ENTS</td><td>69</td></tr><tr><td>UG-HIV/AIDS Control SIL (FY01)</td><td>69</td></tr><tr><td>CI-Transp Sec Adj</td><td>69</td></tr><tr><td>KH-Land Management and Administration</td><td>68</td></tr><tr><td>XK Business Env TA</td><td>68</td></tr><tr><td>HYDROMETEO SYST MOD</td><td>68</td></tr><tr><td>PE- Rural Education</td><td>68</td></tr><tr><td>LR-Agric. & Infra. Dev. Proj. ERL (FY08)</td><td>68</td></tr><tr><td>SN-Local Authorities Development Program</td><td>68</td></tr><tr><td>CN-Huai River Basin Flood Management an.</td><td>68</td></tr><tr><td>BO Pilot Program for Climate Resil Ph 1</td><td>68</td></tr><tr><td>CO PUBLIC FINANC. MANAGEMENT PROJECT II</td><td>68</td></tr><tr><td>KG Redu Tech Barriers for Enterpr & Trad</td><td>67</td></tr><tr><td>AF: Strengthening Higher Educ. Program</td><td>67</td></tr><tr><td>Water Sector Improvement Project</td><td>67</td></tr><tr><td>PK: Public Sect Capacity Building Proj</td><td>67</td></tr><tr><td>AGR STRENGTHENING AND ACCESSION PROJECT</td><td>67</td></tr><tr><td>AF: Hort. & Livestock Project</td><td>67</td></tr><tr><td>CAPACITY BLDG ECON MGT</td><td>67</td></tr><tr><td>4M Mekong Int. Water Resources MGMT</td><td>67</td></tr><tr><td>AO-Emerg Demob & Reinteg ERL (FY03)</td><td>67</td></tr><tr><td>ID-Initiatives for Local Govern. Reform</td><td>67</td></tr><tr><td>BR-RJ Sustainable Rural Development</td><td>67</td></tr><tr><td>REG FISC TA</td><td>66</td></tr><tr><td>KH-Land Allocation for Soc.and Eco. Dev.</td><td>66</td></tr><tr><td>IN: Tsunami ERC</td><td>66</td></tr><tr><td>AR RENEW.ENERGY R.MKTS</td><td>66</td></tr><tr><td>VN-Regional Blood Transfusion Centers</td><td>66</td></tr><tr><td>JO-SECOND TOURISM DEV.</td><td>66</td></tr><tr><td>ENERGY EFFICIENCY IN PUBLIC BUILDINGS</td><td>66</td></tr><tr><td>GH:Gas and Oil Capacity Building Project</td><td>66</td></tr><tr><td>Pacific Aviation Investment - Kiribati</td><td>66</td></tr><tr><td>BUKHARA/SAMARKAND WS</td><td>66</td></tr><tr><td>LS-Integr Transp SIL (FY07)</td><td>65</td></tr><tr><td>Payment System and Bank Modernization 2</td><td>65</td></tr><tr><td>IN: Karn Municipal Reform</td><td>65</td></tr><tr><td>MZ-TFCA & Tourism Dev (FY06)</td><td>65</td></tr><tr><td>FERGHANA VALLEY WATER RES</td><td>65</td></tr><tr><td>MDTF FOR PUBLIC ADMIN REFORM</td><td>65</td></tr><tr><td>KH-Demand for Good Governance</td><td>65</td></tr><tr><td>ROAD MGMT SAFETY</td><td>65</td></tr><tr><td>AF: Pension Admin and Safety Net</td><td>65</td></tr><tr><td>CM-Energy Sector Development SIL (FY08)</td><td>65</td></tr><tr><td>RY SOCIAL FUND DEVPT</td><td>65</td></tr><tr><td>REAL ESTATE REGISTRATION PROJECT</td><td>65</td></tr><tr><td>ID-USDRP</td><td>64</td></tr><tr><td>PUBLIC SECTOR REFORM TA</td><td>64</td></tr><tr><td>RY- Second Rural Access Project</td><td>64</td></tr><tr><td>BD: Public Procurement Reform Project II</td><td>64</td></tr><tr><td>CI-Emergency Urban Infrast. ERL (FY08)</td><td>64</td></tr><tr><td>HLTH SYS MOD (APL2)</td><td>64</td></tr><tr><td>MG-Governance & Inst. Dev. II TAL</td><td>64</td></tr><tr><td>MN-Energy Sector</td><td>64</td></tr><tr><td>KE:Transport Sector Support Project</td><td>64</td></tr><tr><td>VN- GPE-VNEN Project</td><td>64</td></tr><tr><td>MX Forests and Climate Change (SIL)</td><td>64</td></tr><tr><td>Ebola Emergency Response Project</td><td>64</td></tr><tr><td>MZ-Higher Education SIM (FY02)</td><td>63</td></tr><tr><td>RUR ENT & AGRIC DEVT</td><td>63</td></tr><tr><td>Cambodia - Public Fin. Mgmt. & Accnt.</td><td>63</td></tr><tr><td>MINE CLOSURE, ENV & SOCIO-ECO REG (CRL)</td><td>63</td></tr><tr><td>HAZ MITIG</td><td>63</td></tr><tr><td>TZ-Rural Water Sply (FY02)</td><td>63</td></tr><tr><td>UG-Energy for Rural Transform (FY02)</td><td>63</td></tr><tr><td>NAT RES MGMT</td><td>63</td></tr><tr><td>GH-Agr Srvcs APL (FY01)</td><td>63</td></tr><tr><td>Mali Energy Support Project SIL (FY09)</td><td>63</td></tr><tr><td>UY Support to Public Schools Proj</td><td>63</td></tr><tr><td>LB - Education Development Project</td><td>62</td></tr><tr><td>HYDROPOWER REHAB</td><td>62</td></tr><tr><td>Emergency School Construction & Rehab.</td><td>62</td></tr><tr><td>6A GEF-Adaptation to the Impact of Glaci</td><td>62</td></tr><tr><td>GPOBA W3 - Honduras OBA Fund</td><td>62</td></tr><tr><td>COTTON SEC RECOV</td><td>62</td></tr><tr><td>CO-(APL2) Disaster Vulnerability Reduct.</td><td>62</td></tr><tr><td>ID: Dam Operational Improvement (DOISP)</td><td>62</td></tr><tr><td>Rwanda Electricity Access Scale-up Proj.</td><td>62</td></tr><tr><td>SOLID WASTE MGT 2</td><td>62</td></tr><tr><td>EDUC QUAL & REL (APL#2)</td><td>62</td></tr><tr><td>MW-Proj to Improve Education Quality in</td><td>62</td></tr><tr><td>AO-Municipal Health Serv Strength (FY10)</td><td>62</td></tr><tr><td>DISASTER HAZARD MITIGATION</td><td>62</td></tr><tr><td>MUN HEATING</td><td>62</td></tr><tr><td>CO Support Nat'l Urban Transit Program</td><td>62</td></tr><tr><td>MZ-Roads & Bridges MMP (FY02)</td><td>61</td></tr><tr><td>ADCP-II</td><td>61</td></tr><tr><td>BR - Road Transport Project</td><td>61</td></tr><tr><td>ODRA RIVER BASIN FLOOD PROT</td><td>61</td></tr><tr><td>UG-Post Primary Educ & Trg APL-1 (FY09)</td><td>61</td></tr><tr><td>WATER SUPPLY AND SANITATION</td><td>61</td></tr><tr><td>RURAL INFRA REHAB</td><td>61</td></tr><tr><td>PHSecond Agrarian Reform Communities Dev</td><td>61</td></tr><tr><td>DRC Public Service Reform and Rejuv</td><td>61</td></tr><tr><td>SMALL TOWNS INFRA & CAP BLDG</td><td>60</td></tr><tr><td>RW-Compet & Enterprise Dev (FY01)</td><td>60</td></tr><tr><td>ML-Transp Sec SIL 2 (FY07)</td><td>60</td></tr><tr><td>ML-Rural Com. Dev. (PACR)</td><td>60</td></tr><tr><td>NG-Min Res Sustain Mgmt (FY05)</td><td>60</td></tr><tr><td>CM-Pub/Priv Partnership & Growth (FY00)</td><td>60</td></tr><tr><td>SN-Long Term Water Sec SIL (FY01)</td><td>60</td></tr><tr><td>ID-HIGHER EDUCATION</td><td>60</td></tr><tr><td>JUDICIAL REFORM  2</td><td>60</td></tr><tr><td>RY-SANA'A BASIN WATER MGMNT</td><td>60</td></tr><tr><td>TP-Education Sector Support</td><td>60</td></tr><tr><td>AR PROSAP2 2nd Prov Agric Dev</td><td>60</td></tr><tr><td>CN-SHANGHAI URB ENVMT APL1</td><td>60</td></tr><tr><td>EMERGENCY RECOVERY</td><td>60</td></tr><tr><td>6O Regional Disaster Vuln Reduct. Projs</td><td>60</td></tr><tr><td>3A- EN Watershed Management (SIP)</td><td>60</td></tr><tr><td>1ST DECEN.CITY MGMT.</td><td>60</td></tr><tr><td>CENTRAL ASIA HYDROMET MODERNIZATION</td><td>60</td></tr><tr><td>MG-Urban Infrastructure Project</td><td>60</td></tr><tr><td>GH-Natl Func Lit Prgm (FY99)</td><td>59</td></tr><tr><td>NERETVA/TREBISNJICA RIVER BASIN GEF</td><td>59</td></tr><tr><td>KE-Energy Sec Recovery Prj (FY05)</td><td>59</td></tr><tr><td>IQ-TF EMERG.  WATER, SANITATION  & URBAN</td><td>59</td></tr><tr><td>BOR REG DEVT</td><td>59</td></tr><tr><td>BR-Bahia Poor Urban Areas Integrated Dev</td><td>59</td></tr><tr><td>VN-Priority Infra Investment</td><td>59</td></tr><tr><td>STATE STATS SYST</td><td>59</td></tr><tr><td>PE Real Property Rights II</td><td>59</td></tr><tr><td>AVIAN FLU - MD</td><td>59</td></tr><tr><td>LR-Econ. Gov. & Institut. Ref. TAL</td><td>59</td></tr><tr><td>LR:EGIRP -Additional Financing</td><td>59</td></tr><tr><td>DO Emergency Recovery & Disaster Mgmt</td><td>59</td></tr><tr><td>The AO-Local Dev. Program SIL (FY10)</td><td>59</td></tr><tr><td>RY Sec. Educ. Dev. and Girls Access</td><td>59</td></tr><tr><td>Afghanistan ICT Sector Development Proje</td><td>59</td></tr><tr><td>SV Fiscal Mgmt and Public Sector Perf TA</td><td>59</td></tr><tr><td>ZA-GEF CAPE Action Plan (FY04)</td><td>58</td></tr><tr><td>MUNICIPAL SERVICES</td><td>58</td></tr><tr><td>RARP</td><td>58</td></tr><tr><td>IDF ENVIRONMENTAL AND SOCIAL SAFEGUARDS</td><td>58</td></tr><tr><td>CM-Urban and Water D. SIL (FY07)</td><td>58</td></tr><tr><td>NP: Irrig & Water Res Mgmt Proj</td><td>58</td></tr><tr><td>MX Basic Ed. APL II</td><td>58</td></tr><tr><td>MZ-Natl Water 2 (FY99)</td><td>58</td></tr><tr><td>MN-Governance Assistance</td><td>58</td></tr><tr><td> JUSTICE SECTOR SUPPORT PROJECT</td><td>58</td></tr><tr><td>CHILD WELFARE REF</td><td>58</td></tr><tr><td>CI-IVC PNGTER Rural Land Management</td><td>58</td></tr><tr><td>BR Mato Grosso do Sul Road</td><td>58</td></tr><tr><td>ET-ICT Assisted Dev SIM (FY05)</td><td>58</td></tr><tr><td>VN-Urban Water Supply and Wastewater</td><td>58</td></tr><tr><td>MR-Mining Sec TA SIL 2 (FY04)-(PRISM 2)</td><td>57</td></tr><tr><td>PENSION ADMIN</td><td>57</td></tr><tr><td>COASTAL CITIES POLLUTION CONTROL (APL#1)</td><td>57</td></tr><tr><td>VN-Northern Upland Health Support Proje</td><td>57</td></tr><tr><td>BJ- Multi Sectoral HIV/AIDS SIL 2 (FY07)</td><td>57</td></tr><tr><td>KH-Cambodia Education Sector Support</td><td>57</td></tr><tr><td>IN - MAHAR RWSS</td><td>57</td></tr><tr><td>AF: Kabul Urban Reconstruction Project</td><td>57</td></tr><tr><td>RURAL DEV (APL #1)</td><td>57</td></tr><tr><td>AR APL2 Buenos Aires Infrastructure</td><td>57</td></tr><tr><td>3A-Abidjan-Lagos Trade & Transp. Facilit</td><td>57</td></tr><tr><td>EMS & INVEST PLANNING (DEMSIP)</td><td>57</td></tr><tr><td>ID-PPITA</td><td>57</td></tr><tr><td>KH-PROV & PERI-URB WATER</td><td>57</td></tr><tr><td>Increasing Resilience to Climate Change</td><td>57</td></tr><tr><td>Pacific Aviation Investment - Tonga</td><td>57</td></tr><tr><td>IRR/DRAIN REHAB (APL #1)</td><td>57</td></tr><tr><td>HEALTH & SP 2</td><td>57</td></tr><tr><td>CF - LONDO ('Stand-Up') Project</td><td>57</td></tr><tr><td>BR-Energy Sector TA Project</td><td>56</td></tr><tr><td>IN: Madhya Pradesh Water Sector Restruct</td><td>56</td></tr><tr><td>IRRIG DEVT</td><td>56</td></tr><tr><td>NG-Lagos Metropolitan Dev & Governance</td><td>56</td></tr><tr><td>MZ-HIV/AIDS Response SIL (FY03)</td><td>56</td></tr><tr><td>ML-Urb Dev & Decentr (FY97)</td><td>56</td></tr><tr><td>ET-Urban WSS SIL FY07)</td><td>56</td></tr><tr><td>RY-Public Finance Modernization Project</td><td>56</td></tr><tr><td>VN-Central North Region Health Support</td><td>56</td></tr><tr><td>CN-CHONGQING URBAN ENVMT</td><td>56</td></tr><tr><td>DRC FIP Improved Forested Landscape Mgmt</td><td>56</td></tr><tr><td>AO-Emerg MS Recovery ERL (FY05)</td><td>55</td></tr><tr><td>RISP (APL #2)</td><td>55</td></tr><tr><td>HEALTH SYST MOD</td><td>55</td></tr><tr><td>3A-West &Central Afr Air Tran TAL (FY06)</td><td>55</td></tr><tr><td>SN-Urb Mobility Improvement APL (FY00)</td><td>55</td></tr><tr><td>TN-Water Sector Investment</td><td>55</td></tr><tr><td>PA Water&Sanitation in Low-Income Comm.</td><td>55</td></tr><tr><td>SN-HIV/AIDS Prevent & Control APL (FY02)</td><td>55</td></tr><tr><td>AR Lifelong Learning Project</td><td>55</td></tr><tr><td>AFR:Central African Backbone - APL1A</td><td>55</td></tr><tr><td>LA -TA for Hydropower and Mining sectors</td><td>55</td></tr><tr><td>EU FOOD FACILITY SUPPORT</td><td>55</td></tr><tr><td>Pacific Aviation Investment - Tuvalu</td><td>55</td></tr><tr><td>MX GEF Sustain. Rural Dev</td><td>55</td></tr><tr><td>SUSTAINABLE ENERGY (GEF)</td><td>55</td></tr><tr><td>SS-Local Governance&Service Delivery</td><td>55</td></tr><tr><td>DR Public Expenditures Mgmt  (RE)</td><td>55</td></tr><tr><td>LS-Utilities Sec Reform SIL (FY01)</td><td>54</td></tr><tr><td>PNG-Smallholder Agriculture Development</td><td>54</td></tr><tr><td>EG-HEALTH SECTOR</td><td>54</td></tr><tr><td>ID-Support for Poor and Disadvant Areas</td><td>54</td></tr><tr><td>ARP II-INTEGRAT'D SOLID WASTE MGT</td><td>54</td></tr><tr><td>NI Sustainable Rural WSS Sector</td><td>54</td></tr><tr><td>SN-Quality EFA APL 2 (FY07)</td><td>54</td></tr><tr><td>REGIONAL AND LOCAL RDS PROG SUPPORT PROJ</td><td>54</td></tr><tr><td>MV: Pension and Social Protection Admin.</td><td>54</td></tr><tr><td>BR Pernambuco Educ Results& Account.</td><td>54</td></tr><tr><td>FOREST DEVT/CNSRV TA</td><td>54</td></tr><tr><td>GY - UG Science and Technology Support</td><td>54</td></tr><tr><td>DRC Western Growth Poles Project</td><td>54</td></tr><tr><td>Somalia Capacity Injection</td><td>54</td></tr><tr><td>CO Agricultural Transition Project</td><td>53</td></tr><tr><td>RY-IRRIGATION IMPROVEMENT</td><td>53</td></tr><tr><td>MX-GEF Integrated Energy Services</td><td>53</td></tr><tr><td>ZM-Road Rehab Maintenance Prj (FY04)</td><td>53</td></tr><tr><td>MW-Infrastr Srvcs SIM</td><td>53</td></tr><tr><td>LA - Nam Theun Social & Environment</td><td>53</td></tr><tr><td>AVIAN FLU - BA</td><td>53</td></tr><tr><td>IN: TN ROADS</td><td>53</td></tr><tr><td>IN: Punjab Rural Water Supply&Sanitation</td><td>53</td></tr><tr><td>ET-Protection of Basic Services (FY06)</td><td>53</td></tr><tr><td>BG TTFSE 2</td><td>53</td></tr><tr><td>CLEAN UP & LAND RECLAM</td><td>53</td></tr><tr><td>BR CEARA WTR MGT PROGERIRH SIM</td><td>53</td></tr><tr><td>PH-2nd Social Expenditure Management</td><td>53</td></tr><tr><td>TD-Pop & AIDS 2 SIL (FY02)</td><td>53</td></tr><tr><td>E-SOCIETY & INNOVATION</td><td>53</td></tr><tr><td>ID-Health Professional Education Quality</td><td>53</td></tr><tr><td>ID-W. JAVA ENVMT MGMT</td><td>53</td></tr><tr><td>Mongolia Multi-Sector TA</td><td>53</td></tr><tr><td>SOLID WASTE MGMT</td><td>53</td></tr><tr><td>KARST ECOSYS CONSV (GEF)</td><td>53</td></tr><tr><td>UG-Water Mgmt & Dev. Project</td><td>53</td></tr><tr><td>VN-NORRED</td><td>53</td></tr><tr><td>MG-Com Dev Fund SIL (FY01)</td><td>52</td></tr><tr><td>Southern Afr Power Mrkt APL 1 (FY04)</td><td>52</td></tr><tr><td>ER-AIDS, Mal, STD, TB Cntrl APL (FY01)</td><td>52</td></tr><tr><td>VN-HANOI URBAN TRANSPORT</td><td>52</td></tr><tr><td>CM-Edu Dev CB (FY05)</td><td>52</td></tr><tr><td>SB-Rural Development Program</td><td>52</td></tr><tr><td>MZ-Water Resources Dev I SIL</td><td>52</td></tr><tr><td>VN-School Education Quality Assurance</td><td>52</td></tr><tr><td>TZ-Partic Agr Dev & Empwrmnt SIL (FY03)</td><td>52</td></tr><tr><td>UG-Priv & Utility Sec Reform (FY01)</td><td>52</td></tr><tr><td>CM-Agricultural Competitiveness Project</td><td>52</td></tr><tr><td>La Guajira Water and Sanit.</td><td>52</td></tr><tr><td>CF:Supp to Vulnerable Grps Community Dev</td><td>52</td></tr><tr><td>PH-Participatory Irrigation Development</td><td>52</td></tr><tr><td>REG DEV 1</td><td>52</td></tr><tr><td>KE Enhancing Wat Security & Climate Res</td><td>52</td></tr><tr><td>HT Cultural Heritage and Tourism Sector</td><td>52</td></tr><tr><td>QUAL EDUC EQUAL ACCESS (APL #1)</td><td>51</td></tr><tr><td>LK: E-Sri Lanka Development</td><td>51</td></tr><tr><td>PUB FIN MGMT TA</td><td>51</td></tr><tr><td>VN-Avian Influenza Emergency Recovery Pr</td><td>51</td></tr><tr><td>RAILWAYS REFORM</td><td>51</td></tr><tr><td>TRANSPORT RESTRUCTURING</td><td>51</td></tr><tr><td>MUNICIPAL INFRASTRUCTURE DEVELOPMENT</td><td>51</td></tr><tr><td>NI Rural Telecom</td><td>51</td></tr><tr><td>SL-Natl Soc Action (FY03)</td><td>51</td></tr><tr><td>BR-Bahia Integr.Hway Mngmt.</td><td>51</td></tr><tr><td>RY  TAIZ MUNICIPAL DEV & FLOOD PROTEC</td><td>51</td></tr><tr><td>BR-RECIFE URBAN UPGRADING PROJECT</td><td>51</td></tr><tr><td>Protected Areas Consolidation and Admin</td><td>51</td></tr><tr><td>HN EMERG DISASTER MGMT (TAL)</td><td>51</td></tr><tr><td>Karnataka Highways</td><td>51</td></tr><tr><td>MG-Health Sector Support II (FY00)</td><td>51</td></tr><tr><td>TVEM</td><td>51</td></tr><tr><td>Myanmar Emergency CDD</td><td>51</td></tr><tr><td>Erosion & Watershed Mgt Project</td><td>51</td></tr><tr><td>LK: Transforming School Education</td><td>51</td></tr><tr><td>Global Partnership For Education Program</td><td>51</td></tr><tr><td>PE Basic Education</td><td>51</td></tr><tr><td>Support to Community Seed Funds</td><td>51</td></tr><tr><td>RUR ENT SUPPORT</td><td>50</td></tr><tr><td>TT POSTAL SERV. REFORM</td><td>50</td></tr><tr><td>GH-Small Towns Water Sply & Sanit (FY05)</td><td>50</td></tr><tr><td>XK Fin. Sect. Strengthen.&Market Infrast</td><td>50</td></tr><tr><td>ID-Health Workforce & Services (PHP 3)</td><td>50</td></tr><tr><td>GH-Urban Env Sanitation 2 ( FY04)</td><td>50</td></tr><tr><td>NG-Malaria Control Booster Project (07)</td><td>50</td></tr><tr><td>BASIC EDUC</td><td>50</td></tr><tr><td>TZ-Central Transp Corridor Prj (FY04)</td><td>50</td></tr><tr><td>ID - Coral Reef Rehab and Mgmt Prog II</td><td>50</td></tr><tr><td>IRRIG DAM SAFETY 2</td><td>50</td></tr><tr><td>HOUSING & COMMUNAL SERVICES</td><td>50</td></tr><tr><td>ACIP</td><td>50</td></tr><tr><td>TD-Edu Sec Reform SIL (FY03)</td><td>50</td></tr><tr><td>PE Water Resources Mgmt.</td><td>50</td></tr><tr><td>Cabo Verde - Transport Sector Reform</td><td>50</td></tr><tr><td>EG-Farm-level Irrigation Modernization</td><td>50</td></tr><tr><td>CN-Guangzhou City Transport</td><td>50</td></tr><tr><td>AGRICULTURE COMPETITIVENESS PROJ. (GEF)</td><td>50</td></tr><tr><td>DISEASE PREVENTION & CTRL</td><td>50</td></tr><tr><td>Lao PDR Trade Development Facility 2</td><td>50</td></tr><tr><td>Irrigated Agriculture Improvement</td><td>50</td></tr><tr><td>SL-Inst Reform & Cap Bldg TAL (FY04)</td><td>49</td></tr><tr><td>CN-Sustainable Coastal Resources Dev.</td><td>49</td></tr><tr><td>BD Private Sector Infrastructure Dev</td><td>49</td></tr><tr><td>BISHKEK AND OSH URBAN INFRASTRUCTURE</td><td>49</td></tr><tr><td>SUST FORESTRY PILOT</td><td>49</td></tr><tr><td>NI Poverty Red.&Local Dev. FISE</td><td>49</td></tr><tr><td>LR-Urban and Rural Infra. Rehab. Project</td><td>49</td></tr><tr><td>RY Rainfed Agriculture and Livestock</td><td>49</td></tr><tr><td>HT Electricity Project</td><td>49</td></tr><tr><td>BD: Higher Education Quality Enhancement</td><td>49</td></tr><tr><td>PNG Productive Partnerships in Agr.</td><td>49</td></tr><tr><td>SN-Casamance Emerg Reconstr Supt (FY05)</td><td>49</td></tr><tr><td>CESAR</td><td>49</td></tr><tr><td>CM-Sanitation APL</td><td>49</td></tr><tr><td>EG-Giza North Power Project</td><td>49</td></tr><tr><td>BJ-Increased Access to Energy SIL</td><td>49</td></tr><tr><td>VN-Managing Natural Hazards Project</td><td>49</td></tr><tr><td>SN - Electricity Sector Support (FY12)</td><td>49</td></tr><tr><td>Vietnam Road Asset Management Project</td><td>49</td></tr><tr><td>Emergency Community Empowerment Project</td><td>48</td></tr><tr><td>IN: RCH II</td><td>48</td></tr><tr><td>DEVSTAT</td><td>48</td></tr><tr><td>TZ - Urban Sector Rehabilitation</td><td>48</td></tr><tr><td>TREASURY DEVT (APL#1)</td><td>48</td></tr><tr><td>IR - Northern Cities Water Supply & Sani</td><td>48</td></tr><tr><td>GY - EFA-FAST TRACK INITIATIVE</td><td>48</td></tr><tr><td>MZ-APL2 Roads & Bridges</td><td>48</td></tr><tr><td>EU NATURA 2000</td><td>48</td></tr><tr><td>NELSAP Rusumo Falls MP SIL (FY14)</td><td>48</td></tr><tr><td>LA-Khammouane Development Project</td><td>48</td></tr><tr><td>CN-2nd National Railways (Zhe-Gan Line)</td><td>48</td></tr><tr><td>WAPP APL4 (Phase 1) CSLG</td><td>48</td></tr><tr><td>TG-Community Dev. Project ERL (FY08)</td><td>48</td></tr><tr><td>KH-HE Quality and Capacity Improve Proj</td><td>48</td></tr><tr><td>MN-Mining Infrastructure Investment Supp</td><td>48</td></tr><tr><td>Cultural Heritage 2</td><td>48</td></tr><tr><td>RESULTS-BASED HEALTH</td><td>48</td></tr><tr><td>ENERGY 2</td><td>48</td></tr><tr><td>Tonga Cyclone Reconstruction</td><td>48</td></tr><tr><td>SN-Participatory Loc Dev Prgm (FY06)</td><td>47</td></tr><tr><td>AR NAT HWY REHAB&MAINT</td><td>47</td></tr><tr><td>TZ-Songo Gas Dev & Power Gen (FY02)</td><td>47</td></tr><tr><td>IR - Ahwaz & Shiraz Water Supply & Sanit</td><td>47</td></tr><tr><td>CN- GEF-Thermal Power Efficiency</td><td>47</td></tr><tr><td>LA-Fin. Management Capacity Building Cr.</td><td>47</td></tr><tr><td>HIV/AIDS Prevention Project</td><td>47</td></tr><tr><td>CO - Justice Services Strenghtening</td><td>47</td></tr><tr><td>BZ Municipal Development</td><td>47</td></tr><tr><td>BO Rural Alliances Project II</td><td>47</td></tr><tr><td>HN Power Sector Efficiency Enhancement</td><td>47</td></tr><tr><td>GH-Transport Project SIL (FY09)</td><td>47</td></tr><tr><td>SME ACCESS TO FINANCE</td><td>47</td></tr><tr><td>IN: Industrial Pollution Management</td><td>47</td></tr><tr><td>CG Support to Economic Diversification</td><td>47</td></tr><tr><td>VN-Northern Delta Transport Dev</td><td>47</td></tr><tr><td>MG-Emerg Infra Preservation & Vulnerabil</td><td>47</td></tr><tr><td>Scaling-Up Participatory Sustainable</td><td>47</td></tr><tr><td>TN-Education PAQSET II</td><td>47</td></tr><tr><td>NWFP ON-FARM WATER MANAGEMENT PROJECT</td><td>46</td></tr><tr><td>SL-Health Sec Reconstr & Dev (FY03)</td><td>46</td></tr><tr><td>BO Decent Infras for Rur Transformation</td><td>46</td></tr><tr><td>SN-Dakar -Diamniado Toll Highway Project</td><td>46</td></tr><tr><td>AF: Public Financial Management Reform</td><td>46</td></tr><tr><td>Nepal Health Sector Program Project</td><td>46</td></tr><tr><td>PENSION & SOC ASST</td><td>46</td></tr><tr><td>IRRIG REHAB</td><td>46</td></tr><tr><td>AO-MS ERL 2</td><td>46</td></tr><tr><td>MN- Administrative Regulation</td><td>46</td></tr><tr><td>REG AND CADASTRE</td><td>46</td></tr><tr><td>CN-W. Region Rural Water & Sanitation</td><td>46</td></tr><tr><td>BR RGN State Integrated Water Res Mgmt</td><td>46</td></tr><tr><td>AL Busi Env Ref & Insti Streng</td><td>46</td></tr><tr><td>ET-Energy Access SIL (FY03)</td><td>46</td></tr><tr><td>PFM MODERNIZATION (APL#1)</td><td>46</td></tr><tr><td>DRC-Education Sector Project (FY07)</td><td>46</td></tr><tr><td>IN: Sustainable Urban Transport Project</td><td>46</td></tr><tr><td>MW - Agric  Dev  Prog Support Project</td><td>46</td></tr><tr><td>ET-General Educ Quality Improv. (FY09)</td><td>46</td></tr><tr><td>NE-Water Sec SIL (FY01)</td><td>46</td></tr><tr><td>TZ-Strategic Cities Project</td><td>46</td></tr><tr><td>PE (APL2)Agric Research and Extension</td><td>46</td></tr><tr><td>PK:Flood Emergency Cash Transfer Project</td><td>46</td></tr><tr><td>TZ-Dar Water Supply & Sanitation (FY03)</td><td>46</td></tr><tr><td>BR MST Tocantins Integrated Sust. Reg.</td><td>46</td></tr><tr><td>Legal & Judicial Capacity Building</td><td>46</td></tr><tr><td>3A-Niger Basin Water Resources 2A</td><td>46</td></tr><tr><td>NWRMP-1</td><td>46</td></tr><tr><td>BD: Rural Electricity T and Distribution</td><td>46</td></tr><tr><td>Health System Strengthening & Support</td><td>46</td></tr><tr><td>LA-SUSTAINABLE FORESTRY FOR RURAL DEV.</td><td>45</td></tr><tr><td>BF-Compet & Enterprise Dev (FY03)</td><td>45</td></tr><tr><td>CN-ZHEJIANG URBAN ENVMT</td><td>45</td></tr><tr><td>NG-Federal Roads Development</td><td>45</td></tr><tr><td>DUSHANBE WS</td><td>45</td></tr><tr><td>DJ-FLOOD EMERGENCY REHABILITATION</td><td>45</td></tr><tr><td>BR  Bahia State Integ Proj Rur Pov</td><td>45</td></tr><tr><td>KE-Northern Corridor Trnsprt SIL (FY04)</td><td>45</td></tr><tr><td>Iraq Emergency Health Project</td><td>45</td></tr><tr><td>AF: ARTF-Public Fin. Mgmt. Reform II</td><td>45</td></tr><tr><td>LR-Emergency Infrastructure ERL (FY06)</td><td>45</td></tr><tr><td>MR-Edu Sec Dev APL (FY02) - (PNDSE)</td><td>45</td></tr><tr><td>TRANS AG REFORM</td><td>45</td></tr><tr><td>NP: Social Safety Nets Project</td><td>45</td></tr><tr><td>Emergency Social Protection Project</td><td>45</td></tr><tr><td>CG-Health Sector Service Dev Proj (FY08)</td><td>45</td></tr><tr><td>NAT'L WATER SUPPLY & SAN II</td><td>45</td></tr><tr><td>AF: Urban Water Sector</td><td>45</td></tr><tr><td>ADDL  FIN  FOOD SECURITY & SEED & IMPORT</td><td>45</td></tr><tr><td>Enterprise Dev (FY00)</td><td>45</td></tr><tr><td> YF Innovation Serbia</td><td>45</td></tr><tr><td>Science and Technology II</td><td>45</td></tr><tr><td>SYR DARYA CONTROL N. ARAL SEA</td><td>45</td></tr><tr><td>HN COMMUNITY-BASED EDUCATION PROJECT</td><td>45</td></tr><tr><td>GY Poverty Reduction and Public Mgmt.</td><td>45</td></tr><tr><td>LS-Water Sector Imp. Proj (Second Phase)</td><td>44</td></tr><tr><td>LA-Health Services Improvement Project</td><td>44</td></tr><tr><td>POPS STOCKPILES MGMT AND DESTRUCTION</td><td>44</td></tr><tr><td>AF: PSD Support Project</td><td>44</td></tr><tr><td>Econ Empowerment of Adolescent Girls</td><td>44</td></tr><tr><td> DRC- Forest and Nature Conserv. - PFCN</td><td>44</td></tr><tr><td>TZ-Tax Administration (FY99)</td><td>44</td></tr><tr><td>IN: KARN Tank Mgmt</td><td>44</td></tr><tr><td>GM-Gateway SIL (FY02)</td><td>44</td></tr><tr><td>HN Rural Competitiveness Project</td><td>44</td></tr><tr><td>AG SERVICES</td><td>44</td></tr><tr><td>Public/Private Partnership Program</td><td>44</td></tr><tr><td>BO-Emergency Rec and Disaster Management</td><td>44</td></tr><tr><td>CG-Water, Electricity & Urban Dev. SIL</td><td>44</td></tr><tr><td>ET: EFA FTI CF Grant 2 - GEQIP APL 1</td><td>44</td></tr><tr><td>EG Pumping Station Rehab III</td><td>44</td></tr><tr><td>Belarus POPs Stockpile Management Projec</td><td>44</td></tr><tr><td>BR AIDS-SUS</td><td>44</td></tr><tr><td>SOCIAL SAFETY NETS & EMPL</td><td>44</td></tr><tr><td>IDP Living Standards and Livelihoods</td><td>44</td></tr><tr><td>GH-Urban Water SIL (FY05)</td><td>44</td></tr><tr><td>UG-Road Sec & Inst Supt (FY98)</td><td>44</td></tr><tr><td>SRB CCA & Strategic Plan Implementation</td><td>44</td></tr><tr><td>Second Urban Infrastructure Proj (UIP2)</td><td>44</td></tr><tr><td>RAIL TRADE & TRNSPT FACIL</td><td>43</td></tr><tr><td>6C GEF MESOAMERICAN BARRIER REEF SYST</td><td>43</td></tr><tr><td>PH- Natl Rds Improv. & Mgt Ph.2</td><td>43</td></tr><tr><td>CL Pub Expenditure Management</td><td>43</td></tr><tr><td>IN: Ntnl VBD Control&Polio Eradication</td><td>43</td></tr><tr><td>BF-Health Sector Sup. & AIDS Proj (FY06)</td><td>43</td></tr><tr><td>BR-2nd APL BAHIA DEV. EDUCATION PROJECT</td><td>43</td></tr><tr><td>TRNSPT REHAB (SERBIA)</td><td>43</td></tr><tr><td>SN-Water and Sanitation SIL (FY10)</td><td>43</td></tr><tr><td>ID-PROVINCIAL HEALTH II</td><td>43</td></tr><tr><td>Sarajevo Waste Water (for. Mun. Dev.)</td><td>43</td></tr><tr><td>DO (APL2) Health Ref II</td><td>43</td></tr><tr><td>CN-Tuberculosis Control Project</td><td>43</td></tr><tr><td>ID-Strategic Roads Infrastructure</td><td>43</td></tr><tr><td>MZ-Municipal Dev SIL (FY02)</td><td>43</td></tr><tr><td>3A-W  Africa Transp. & Transit Facilitat</td><td>43</td></tr><tr><td>GH-Health Sec Prgm Supt 2 (FY03)</td><td>43</td></tr><tr><td>LB - Urban Transport Development Project</td><td>43</td></tr><tr><td>CA AIDS CONTROL (CRL)</td><td>43</td></tr><tr><td>SOC SECT DEV (SSD)</td><td>43</td></tr><tr><td>MW-Irrig, Rural Lvlihds & Agr SIL (FY06)</td><td>43</td></tr><tr><td>POWER TRANSMISSION</td><td>43</td></tr><tr><td>AO-HAMSET SIL (FY05)</td><td>42</td></tr><tr><td>TN Higher Education Reform Support II</td><td>42</td></tr><tr><td>GH Land Administration (FY04)</td><td>42</td></tr><tr><td>IN: Coal-Fired Generation Rehabilitation</td><td>42</td></tr><tr><td>RW-Urb Infrastr & City Mgmt APL (FY06)</td><td>42</td></tr><tr><td>CI - Urgent Electr. Sector Rehab. (FY09)</td><td>42</td></tr><tr><td>LK:Dam Safety & Water Resources Planning</td><td>42</td></tr><tr><td>AF: Irrigation Restoration &Development</td><td>42</td></tr><tr><td>HEALTH SYS MOD (APL #1)</td><td>42</td></tr><tr><td>LR-Comm. Empowerment  II</td><td>42</td></tr><tr><td>AR-Provincial Road InfrastructureProject</td><td>42</td></tr><tr><td>PILOT RECONSTRUCTION PROJECT</td><td>42</td></tr><tr><td>DJ Crisis Response-SSN project</td><td>42</td></tr><tr><td>MZ - Energy Reform and Access APL-1</td><td>42</td></tr><tr><td>LK - Road Sector Assistance</td><td>42</td></tr></tbody></table>Showing the first 1000 rows.</div>"
      ]
     },
     "metadata": {
      "application/vnd.databricks.v1+output": {
       "addedWidgets": {},
       "aggData": [],
       "aggError": "",
       "aggOverflow": false,
       "aggSchema": [],
       "aggSeriesLimitReached": false,
       "aggType": "",
       "arguments": {},
       "columnCustomDisplayInfos": {},
       "data": [
        [
         "COMM DEVT",
         1097
        ],
        [
         "VN-RURAL ENERGY 2",
         1015
        ],
        [
         "Proj. in Support of Restruc. of Health",
         775
        ],
        [
         "DRC-Emerg MS Rehab & Recovery ERL (FY03)",
         652
        ],
        [
         "CO Consolidation of Nat. Publ Mgmt Inf.",
         638
        ],
        [
         "GT Support Rural Econ.Dev. Program",
         601
        ],
        [
         "SIEP",
         539
        ],
        [
         "BD: Municipal Services",
         522
        ],
        [
         "SV Income Support and Employability",
         513
        ],
        [
         "AF: Edu. Qlty. Improvement Program II",
         499
        ],
        [
         "NI PFM Modernization TAL",
         493
        ],
        [
         "VIETNAM WATER RESOURCES ASSISTANCE",
         491
        ],
        [
         "VN-SYSTEM ENERGY, EQUITIZATION & RENEWAB",
         487
        ],
        [
         "BD: HNP Sector Program",
         464
        ],
        [
         "NI (CRL) Roads Rehab & Maintenance IV",
         455
        ],
        [
         "HN Trade Facilitatio & Productivity Enha",
         422
        ],
        [
         "BI-Pub Works & Employ Creation (FY01)",
         413
        ],
        [
         "BD: Primary Education Dev. Program III",
         404
        ],
        [
         "Gujarat Emergency Earthquake Reconstruct",
         403
        ],
        [
         "GT (APL2)LAND ADMINISTRATION",
         402
        ],
        [
         "AF: NSP II",
         391
        ],
        [
         "VN-URBAN UPGRADING",
         376
        ],
        [
         "BO Agricultural Innovation and Services",
         367
        ],
        [
         "BD: Rural Elect. Renewable Energy Dev.",
         363
        ],
        [
         "CI - Emerg.Basic Edu Supp Proj (BESP)",
         362
        ],
        [
         "AF: National Solidarity Program III",
         353
        ],
        [
         "DRC Priv Sec Dev Competitiveness",
         352
        ],
        [
         "NP: Rural Access Improve. & Decentraliza",
         350
        ],
        [
         "HT MST Infra. & Instit. Emerg Recov.j",
         344
        ],
        [
         "VN-Distribution Efficiency Project",
         334
        ],
        [
         "TZ-Water Sector Support SIL",
         326
        ],
        [
         "MX: III BASIC HEALTH CARE PROJECT",
         319
        ],
        [
         "NP: Road Sector Development Project",
         308
        ],
        [
         "NG-Com Based Urb Dev (FY02)",
         306
        ],
        [
         "AP Econ Restructuring",
         300
        ],
        [
         "AF: ARTF - CB for Results Facility",
         293
        ],
        [
         "MG-Integ Growth Poles",
         287
        ],
        [
         "VN-Rural Distribution Project",
         286
        ],
        [
         "MR-Urb Dev Prgm (FY02)",
         284
        ],
        [
         "High Priority Reopening & Maintenance",
         276
        ],
        [
         "MX (CRL1)Savings & Rurl Finance(BANSEFI)",
         270
        ],
        [
         "CO Bogota Urban Services Project",
         266
        ],
        [
         "NG-HIV/AIDS Prog. Dev. II  (FY09)",
         265
        ],
        [
         "ID-UPP2",
         260
        ],
        [
         "VN-Rural Transport 3",
         260
        ],
        [
         "VN -Northern Mountains Poverty Reduction",
         257
        ],
        [
         "BO Investing in Children and Youth",
         256
        ],
        [
         "HT Education for All Project - Phase II",
         255
        ],
        [
         "HLT SEC ENHANC",
         253
        ],
        [
         "GT INTEGRATED FINANCIAL MNGT III -TA",
         253
        ],
        [
         "BD: Health Sector Development Program",
         252
        ],
        [
         "KE-Health SWAP (FY10)",
         251
        ],
        [
         "IN: UP WSRP",
         245
        ],
        [
         "Rajasthan Power I",
         241
        ],
        [
         "SIF 2",
         241
        ],
        [
         "HN Education Quality, Governance & Insti",
         239
        ],
        [
         "VN-RRD RWSS",
         236
        ],
        [
         "MX Savings and Credit Sector Loan",
         232
        ],
        [
         "GW-Priv Sec Rehab & Dev (FY02)",
         230
        ],
        [
         "Land Regis & Cadastre Modernization Proj",
         226
        ],
        [
         "BJ-GEF Forests & Adjcnt Lnds Mgmt (FY06)",
         225
        ],
        [
         "BD: Rural Transport Improvement Project",
         224
        ],
        [
         "DRC-Emerg Demob Reintegr ERL (FY04)",
         219
        ],
        [
         "LOCAL SERVICES DELIVERY",
         219
        ],
        [
         "LK:Higher Educ. for Twenty First Century",
         219
        ],
        [
         "SN-Priv Inv Promotion SIL (FY03)",
         218
        ],
        [
         "MG-Emerg Supp to Critical Ed, Health, Nu",
         218
        ],
        [
         "CI-Post-Conflict Assistance (FY08)",
         217
        ],
        [
         "NP: Second HNP and HIV/AIDS Project",
         215
        ],
        [
         "AF-Forest and Adjacent Land MGMT (PSG)",
         211
        ],
        [
         "E-LRN SUPRT (APL #1)",
         210
        ],
        [
         "HEALTH SYSTEM",
         205
        ],
        [
         "DRC-Multi-Modal Transp",
         205
        ],
        [
         "IR - Earthquake Emergency Response",
         204
        ],
        [
         "EDUC MOD",
         200
        ],
        [
         "CNSLTD COLLECT & PENS ADM REF",
         199
        ],
        [
         "MW-Priv & Utility Reform  (FY00)",
         197
        ],
        [
         "KAR WSHD DEVELOPMENT",
         195
        ],
        [
         "MD Competitiveness Enhancement",
         195
        ],
        [
         "BR Tocantins Sustainable Regional Dev",
         192
        ],
        [
         "IN: AP RURAL POV REDUCTION",
         190
        ],
        [
         "NG- Health System Dev. II (FY02)",
         187
        ],
        [
         "LB - First Municipal Infrastructure",
         186
        ],
        [
         "UP Sodic Lands II",
         185
        ],
        [
         "VN-TRANS & DISTRIB 2",
         185
        ],
        [
         "HN (CRL1) Rural Infrastructure Project",
         182
        ],
        [
         "IR - Urban Upgrading and Housing Reform",
         182
        ],
        [
         "HN Social Protection",
         182
        ],
        [
         "ZM-ZAMSIF (FY00)",
         180
        ],
        [
         "Telecommunications APL (FY07)",
         179
        ],
        [
         "GN-Education for All APL (FY02)",
         175
        ],
        [
         "AF: ARTF-Management Capacity Program",
         175
        ],
        [
         "SV Education Quality Improvement",
         172
        ],
        [
         "BO PART RURAL INVESTMENT PROJECT",
         170
        ],
        [
         "CN-IAIL III",
         170
        ],
        [
         "AR Unleashing Productive Innovation",
         170
        ],
        [
         "MUNI DEVT AND DECENTRLZN 2",
         169
        ],
        [
         "MG-MultiSec STI/HIV/AIDS Prev II (FY06)",
         169
        ],
        [
         "PE Trade Facil. and Prod. Improv. T. A.",
         168
        ],
        [
         "Emergency National Solidarity Project",
         168
        ],
        [
         "EG - SOHAG Rural Development",
         167
        ],
        [
         "VN -Natural Disaster Risk Mngt Project",
         167
        ],
        [
         "VN-Land Administration Project",
         167
        ],
        [
         "HN Improving Public Sector Performance",
         167
        ],
        [
         "QUAL EDUC IN RUR AREAS OF MD",
         165
        ],
        [
         "MX Irrigation & Drainage Modernization",
         165
        ],
        [
         "HEALTH SERVICES AND SOCIAL ASSISTANCE",
         164
        ],
        [
         "HT Cholera Emergency Response Project",
         164
        ],
        [
         "MG-Gov & Inst Dev TAL (FY04)",
         163
        ],
        [
         "LAND REGIS & CADASTRE",
         163
        ],
        [
         "PK: Second Poverty Alleviation Fund Proj",
         163
        ],
        [
         "West Africa Agric Prod Progrm (WAAPP-1B)",
         163
        ],
        [
         "HEALTH 2",
         161
        ],
        [
         "EDUC SECT DEVT 2",
         161
        ],
        [
         "LAND REGISTRATION",
         160
        ],
        [
         "PK:Electricity Distribution & Transmissi",
         160
        ],
        [
         "CO-(APL1)Disaster VulnerabilityReduction",
         159
        ],
        [
         "LC Disaster Management Project II",
         158
        ],
        [
         "NI Comm. and Family Health Care Services",
         158
        ],
        [
         "SV Local Government Strengthening",
         157
        ],
        [
         "REG & REAL ESTATE (CRL)",
         156
        ],
        [
         "CN-Wenchuan Earthquake Recovery Project",
         156
        ],
        [
         "BF-Transp Sec SIM (FY03)",
         155
        ],
        [
         "HT (APL1) Education For All",
         155
        ],
        [
         "PY Water & Sanit. Sector Modernization",
         154
        ],
        [
         "UG-Local Govt Mgt Svc Del  Pjt (FY08)",
         154
        ],
        [
         "AG & RURAL DEVT",
         152
        ],
        [
         "MX  Basic Education Dev Phase III",
         151
        ],
        [
         "HT Emerg Bridge Reconst & Vulnerab Reduc",
         149
        ],
        [
         "System Enhancement for Health (SEHAT)",
         149
        ],
        [
         "TB/AIDS CONTROL",
         148
        ],
        [
         "CN-Basic Health (HLTH8)",
         147
        ],
        [
         "NG-Privatization Supt SIL (FY01)",
         147
        ],
        [
         "NG-Natl Urb Water Sec Ref SIM 2 (FY06)",
         147
        ],
        [
         "NI PUBLIC SECTOR TA",
         146
        ],
        [
         "West Africa Agric Prod Progrm (WAAPP-1C)",
         146
        ],
        [
         "3A-SRB M. Water Res. Dvpt. APL (FY06)",
         144
        ],
        [
         "GH-Energy Dev & Access  SIL (FY08)",
         144
        ],
        [
         "KH-Second Health Sector Support Program",
         144
        ],
        [
         "AF: ARTF-2nd Judicial Reform Project",
         144
        ],
        [
         "BR Health Network Formation & Quality Im",
         144
        ],
        [
         "IN: KARNATAKA RWSS II",
         143
        ],
        [
         "3A-NBI-Institutional Strengthening Proj",
         143
        ],
        [
         "PH-LGU FINANCE & DEV.",
         141
        ],
        [
         "MEXICO: KNOWLEDGE AND INNOVATION",
         141
        ],
        [
         "VN-ROAD NETWORK IMPROVEMT",
         141
        ],
        [
         "MA-Irrigation Based Community Dev.",
         140
        ],
        [
         "3A-Niger Basin Water Resources",
         140
        ],
        [
         "EC Power&Comm.Sect Moderniz.&Rural Servi",
         139
        ],
        [
         "GH-Partn w/ Trad Authorities (FY03)",
         138
        ],
        [
         "GT Enhancing MSME Productivity Project",
         138
        ],
        [
         "DRC-Enhancing Governance Capacity (FY08)",
         136
        ],
        [
         "Second Skills Development Project",
         136
        ],
        [
         "NI Rural Roads Infrastructure Imp.",
         136
        ],
        [
         "HT Emergency Recov.& Disaster Management",
         135
        ],
        [
         "HN WATER AND SANITATION PROGRAM",
         135
        ],
        [
         "NI Second Land Administration Project",
         135
        ],
        [
         "MG-Mineral Res Gov SIL (FY03)",
         134
        ],
        [
         "HN Road Rehabilitation & Improvement II",
         134
        ],
        [
         "BR Pernambuco Sustainable Water",
         133
        ],
        [
         "MUNICIPAL DEVELOPMENT",
         133
        ],
        [
         "NG-Urb Water Sec Reform 1 SIL (FY04)",
         132
        ],
        [
         "AF: Strengthening Health Activities",
         132
        ],
        [
         "HEALTH & SOC PROT",
         132
        ],
        [
         "RCIP - Phase 3",
         132
        ],
        [
         "BR Santa Catarina Rural Competitiveness",
         132
        ],
        [
         "AF: National Emergency Rural Access Proj",
         131
        ],
        [
         "LAND ADMIN & MGT",
         131
        ],
        [
         "VE CARACAS SLUM UPGRADE",
         130
        ],
        [
         "CG-Emerg Infrast Rehab & Living Cond Imp",
         130
        ],
        [
         "3A-CEMAC Transp Transit Facil (FY07)",
         130
        ],
        [
         "POST-CHERNOBYL RECOVERY",
         130
        ],
        [
         "CI - Emerg. Youth Empl & Skills Dev. Pro",
         130
        ],
        [
         "EDUC REFORM",
         129
        ],
        [
         "CN - Agricultural Technology Transfer",
         129
        ],
        [
         "AF: ARTF-On-Farm Water Management (OFWM)",
         129
        ],
        [
         "AF: Rural Enterprise Devt Program",
         128
        ],
        [
         "AO-Water Sector Institutional Dvlp",
         127
        ],
        [
         "HN Financial Sector Technical Assistance",
         125
        ],
        [
         "REAL PROP REG & CADASTRE",
         125
        ],
        [
         "HEALTH (SERBIA)",
         125
        ],
        [
         "EG-INTEGRATED IRRIGATION IMPR. & MGT",
         125
        ],
        [
         "SOCIAL PROT DEV",
         125
        ],
        [
         "STATE STATS SYST 2",
         125
        ],
        [
         "BO Streng. Stat Capacity & Inf Based Evi",
         125
        ],
        [
         "NI Social Protection",
         125
        ],
        [
         "GD (4APL) Hurricane Ivan Emerg. Rec.",
         124
        ],
        [
         "IN: TN IAM WARM",
         124
        ],
        [
         "DRC Ag Rehab & Recovery SIL (FY10)",
         124
        ],
        [
         "INT. NUTRIENT POLLUTION CONTROL",
         124
        ],
        [
         "HLTH SEC TECH (JERP)",
         124
        ],
        [
         "Serving People, Improving Health Project",
         124
        ],
        [
         "COASTAL ZONE MGMT (APL #1)",
         123
        ],
        [
         "CV-Growth & Compet Pjt (FY03)",
         122
        ],
        [
         "AJK Community Infrastructure & Services",
         122
        ],
        [
         "DJ-SOCIAL DEVELOPMENT AND PUBLIC WORKS",
         121
        ],
        [
         "VN-COASTAL CITIES ENVMT SANIT.",
         121
        ],
        [
         "VN-MKG DELTA TRANSPORT INFRA DEV",
         121
        ],
        [
         "BR-(APL) RS (Pelotas) Integr. Mun. Dev.",
         121
        ],
        [
         "ZR-Health Sec Rehab Supt (FY06)",
         120
        ],
        [
         "VN-Trung Son Hydropower Project",
         120
        ],
        [
         "DRC Urban Water Supply Project (FY09)",
         120
        ],
        [
         "TP-FUNDAMENTAL SCHOOL QUALITY PROJECT",
         119
        ],
        [
         "BO-Exp. Access to Reduc Hlth Ineq (APL3)",
         119
        ],
        [
         "IN: Integrated Coastal Zone Mgmt Project",
         119
        ],
        [
         "BJ-Decentralized Community Driven Servic",
         119
        ],
        [
         "HN Safer Municipalities",
         119
        ],
        [
         "MG-Priv Sec Dev 2 (FY02)",
         118
        ],
        [
         "SV Strengthening Public Health Care Syst",
         118
        ],
        [
         "SIF",
         117
        ],
        [
         "NI LAND ADMINISTRATION PROJECT",
         117
        ],
        [
         "HEALTH SECTR REFORM",
         117
        ],
        [
         "Inst. Devt. for Education",
         117
        ],
        [
         "URBAN INFRASTRUCTURE",
         117
        ],
        [
         "LS: Basic Education FTI Grant",
         117
        ],
        [
         "MX WATER RESOURCES MANA",
         116
        ],
        [
         "VN - Agriculture Competitiveness Project",
         116
        ],
        [
         "CCT",
         116
        ],
        [
         "CO (APL2) Rural Education APL II",
         116
        ],
        [
         "LS - Smallholder Agriculture Dev Project",
         116
        ],
        [
         "LB - Cultural Heritage and Urban Dev.",
         114
        ],
        [
         "PE Rural Electrification",
         114
        ],
        [
         "BJ-Decentral City Mgmt 2 (FY06)",
         114
        ],
        [
         "PH Mindanao Rural Dev. Project - Phase 2",
         114
        ],
        [
         "FTI-3",
         114
        ],
        [
         "BR MST Acre Social Economic Inclusion",
         114
        ],
        [
         "EDUC EXCEL & EQUITY",
         113
        ],
        [
         "REG & MUNI INFRA DEV",
         113
        ],
        [
         "PK: Tax Administration Reform Project",
         112
        ],
        [
         "HEALTH SECT REF",
         112
        ],
        [
         "Emergency Services Support Prog MDTF",
         112
        ],
        [
         "SD-North Sudan Livestock (FY07)",
         112
        ],
        [
         "GH-Road Sec Dev Project (FY02)",
         110
        ],
        [
         "SL-Power & Water SIL (FY05)",
         110
        ],
        [
         "DRC-Emerg Econ & Soc Reunif ERL (FY04)",
         110
        ],
        [
         "VN-WATER SUPPLY DEV.",
         110
        ],
        [
         "Reg&Domestic Pwr Mkt  Dev.  (FY07)",
         110
        ],
        [
         "TZ-Soc Action Fund 2 SIL (FY05)",
         110
        ],
        [
         "GT SECOND RURAL AND MAIN ROADS PROJ.",
         109
        ],
        [
         "NI Greater Managua Water and Sanitation",
         109
        ],
        [
         "PY 4th RURAL WATER SUPPLY & SANITATION",
         108
        ],
        [
         "KH-BIO & PROTEC AREAS M",
         108
        ],
        [
         "KH BIO & PROT AREA M",
         108
        ],
        [
         "Afghanistan: Natural Resources Devt",
         108
        ],
        [
         "HEALTH SEC REF 2 (APL #2) (CRL)",
         108
        ],
        [
         "CR EQUITY AND EFFICIENCY OF EDUCATION",
         108
        ],
        [
         "VN-Avian & Human Influenza Control &Prep",
         108
        ],
        [
         "CUSTOMS DEVT",
         107
        ],
        [
         "DO-EARLY CHILDHOOD EDUCATION PROJECT",
         107
        ],
        [
         "NP: POWER DEVELOPMENT PROJECT",
         107
        ],
        [
         "MZ Tech & Voc Edu & Training (FY06)",
         107
        ],
        [
         "EC Chimborazo Dev Invest Proj (PIDD)",
         107
        ],
        [
         "NE - Agro-Pastoral Export Promotion Proj",
         107
        ],
        [
         "SD-Basic Education Project (FY09)",
         107
        ],
        [
         "MG-Rural Transp APL 2 (FY03)",
         106
        ],
        [
         "Nile Cooperation for Results Project",
         106
        ],
        [
         "Education Sector Strategy Support",
         106
        ],
        [
         "GT Strengthening Maya IPs Resilience CC",
         106
        ],
        [
         "SOC SERV DEVT",
         105
        ],
        [
         "REAL ESTATE CADASTRE (SERBIA)",
         105
        ],
        [
         "AISP",
         105
        ],
        [
         "MX Savings & Credit Sector Strengthening",
         104
        ],
        [
         "CI-Edu & Training Supt (FY98)",
         104
        ],
        [
         "ID-Eastern Indonesia Region Transp. 2",
         104
        ],
        [
         "HEALTH SYSTEM IMPROVEMENT PROJECT",
         104
        ],
        [
         "Transmission Efficiency Project (TEP)",
         104
        ],
        [
         "RURAL EDUC",
         103
        ],
        [
         "SEISMIC RISK MITIGATION",
         103
        ],
        [
         "VN-2ND HIGHER EDUCATION",
         103
        ],
        [
         "INLAND WATERS PROJECT",
         103
        ],
        [
         "LAND ADMIN & MGMT PROJ",
         102
        ],
        [
         "VN - Forest Sector Development Project",
         102
        ],
        [
         "MZ-Water Services & Inst. Support",
         102
        ],
        [
         "CN-LIAO RIVER BASIN",
         101
        ],
        [
         "UG-Priv Sec Competitiveness 2",
         101
        ],
        [
         "MUN WATER & WW",
         101
        ],
        [
         "KH- RURAL INVESTMENT & LOCAL GOVERNANCE",
         101
        ],
        [
         "VN-Mekong Regional Health Support Proj",
         101
        ],
        [
         "LR-Health Systems Reconstruction (FY07)",
         101
        ],
        [
         "LR - Education GPE Program (FY11)",
         101
        ],
        [
         "HEALTH SECTR DEVT",
         100
        ],
        [
         "BR PROSANEAR 2",
         100
        ],
        [
         "RY-WATER SECTOR SUPPORT",
         100
        ],
        [
         "E Afr Trade & Transp Facil (FY06)",
         100
        ],
        [
         "AGRIC ACQUIS COHESION",
         100
        ],
        [
         "KE-Water & Sanitation Srv Impr (FY08)",
         100
        ],
        [
         "Afghanistan Health Sector Emergency Reha",
         99
        ],
        [
         "TZ-Loc Govt Supt SIL (FY05)",
         99
        ],
        [
         "NI Hurricane Felix Emergency Recovery",
         99
        ],
        [
         "BD:Emergency 2007 Cyclone Recovery &Rest",
         99
        ],
        [
         "MN-Index-Based Livestock Insurance",
         98
        ],
        [
         "IN: RAJ WSRP",
         98
        ],
        [
         "ST. PETERSBURG ECON DEVT",
         98
        ],
        [
         "Planning & Fin Mgt Capacity Building",
         98
        ],
        [
         "PNG-GAZELLE RESTORATION II",
         97
        ],
        [
         "SV-Earthquake Emergency Rec. & Health",
         97
        ],
        [
         "NE-Urban Water and Sanitation Project",
         97
        ],
        [
         "CN-Health IX",
         96
        ],
        [
         "CG-Transp & Gov CB (FY02)",
         96
        ],
        [
         "NE-Inst Strngt & Hlth Sec Prgm (FY06)",
         96
        ],
        [
         "NI Road Rehab. and Maintenance III",
         96
        ],
        [
         "PRIV & REST OF BANKS/ENTPRS TA",
         96
        ],
        [
         "BD: Social Investment Program Project",
         96
        ],
        [
         "BR FED.WTR MGT",
         96
        ],
        [
         "ROAD MAINT",
         96
        ],
        [
         "IN: TN Health Systems",
         96
        ],
        [
         "COMM & BASIC HEALTH",
         96
        ],
        [
         "COASTAL CITIES POLLUTION CONTROL 2",
         96
        ],
        [
         "PE Justice Services Improv. II",
         96
        ],
        [
         "FORESTRY",
         95
        ],
        [
         "HN ECONOMIC & FIN.MANAGEMENT PROJECT",
         95
        ],
        [
         "NG-Lagos Urb Trans SIL (FY03)",
         95
        ],
        [
         "TP-Health Sector Strategic Plan Support",
         95
        ],
        [
         "VN-PRIMARY EDUC FOR DISADVANTAGED CHILRE",
         94
        ],
        [
         "TZ-Private Sector/MSME Competitiveness",
         94
        ],
        [
         "CN-Liaoning Medium Cities Infrastructure",
         94
        ],
        [
         "SD-Northern-MDTF Health (FY07)",
         94
        ],
        [
         "BD: Water Management Improvement Project",
         94
        ],
        [
         "MOLDOVA eTRANSFORMATION",
         94
        ],
        [
         "HR Science & Technology",
         93
        ],
        [
         "ZM-SEED (FY05)",
         93
        ],
        [
         "VN - MEKONG DELTA WATER",
         93
        ],
        [
         "RO Knowledge Economy",
         93
        ],
        [
         "Education Quality Improvement Program",
         93
        ],
        [
         "UG-Energy for Rural Transformation APL2",
         93
        ],
        [
         "NI FCPF REDD Readiness",
         93
        ],
        [
         "HT Improving Maternal and Child Health",
         93
        ],
        [
         "GN-Multi-Sectoral AIDS SIL (FY03)",
         92
        ],
        [
         "AR PROV AG DEVT I",
         92
        ],
        [
         "BR GOIAS STATE HIGHWAY MANAGEMENT",
         92
        ],
        [
         "ZR-Multisectoral HIV/AIDS (FY04)",
         92
        ],
        [
         "AR(APL1) Matanza-Riachuelo Development",
         92
        ],
        [
         "CN-Economic Reform Implementation",
         92
        ],
        [
         "3A-West Africa Fisheries - Phase 1",
         92
        ],
        [
         "AR Sustainable Natural Res Mgt",
         92
        ],
        [
         "HN Disaster Risk Management Project",
         92
        ],
        [
         "RURAL LAND TITLING & CADASTRE",
         91
        ],
        [
         "JUDICIAL REFORM",
         91
        ],
        [
         "SOC INF RETROFIT",
         91
        ],
        [
         "JUDICIAL MOD",
         91
        ],
        [
         "SOC PROT",
         90
        ],
        [
         "MW-Sec Natl Water Dev Project SIL (FY07)",
         90
        ],
        [
         "HT Meeting Teacher Needs for EFA",
         90
        ],
        [
         "EC Public Sector Financial Management",
         89
        ],
        [
         "MG-Transp Infrastr Invest Prj (FY04)",
         89
        ],
        [
         "Financial & Legal Sec TA",
         89
        ],
        [
         "VN - COMMUNITY BASED RURAL INFRA.",
         89
        ],
        [
         "AR CRL1 APL1 Buenos Aires Infrastr SIDP",
         89
        ],
        [
         "CN-Jilin Food Safety",
         89
        ],
        [
         "JSDF-CO-Rethink.Improve Gender Equity",
         89
        ],
        [
         "ET-Water Sply & Sanitation SIL (FY04)",
         88
        ],
        [
         "MZ-Decentr Planning &Fin SIL (FY04)",
         88
        ],
        [
         "MG-Env Prgm 3",
         88
        ],
        [
         "RIJEKA GATEWAY",
         88
        ],
        [
         "ID-UPP3",
         88
        ],
        [
         "KH-EFA-FTI Catalytic Trust Fund",
         88
        ],
        [
         "BR Sao Paulo Feeder Roads Project",
         88
        ],
        [
         "Financial Education & Financial Literacy",
         88
        ],
        [
         "VN Forest Protection and Rural Dev.",
         87
        ],
        [
         "TJEFA - TJ FTI CF",
         87
        ],
        [
         "IRRIG/DRAINAGE REHAB (SERBIA)",
         87
        ],
        [
         "RY-RURAL WATER SUPPLY & SANITATION",
         86
        ],
        [
         "RW-Pub Sec CB TAL (FY05)",
         86
        ],
        [
         "WS-INFRA ASSET MGMT APL2",
         86
        ],
        [
         "GD Grenada Disaster Management",
         86
        ],
        [
         "PFM CAPACITY BUILDING",
         86
        ],
        [
         "AF:Agricultural Inputs Project",
         86
        ],
        [
         "ENERGY EFF",
         85
        ],
        [
         "PE NATIONAL RURAL WATER SUPPLY AND",
         85
        ],
        [
         "Rural Infrastr (FY00) - (PNIR)",
         85
        ],
        [
         "GT UNIVERSALIZATION OF BASIC EDUCATION",
         85
        ],
        [
         "SL-Bumbuna Env. and Social SIL (FY05)",
         85
        ],
        [
         "CF-Emergency Urban Infrastruct ERL (F07)",
         85
        ],
        [
         "OIP-2",
         85
        ],
        [
         "BO Participatory Rural Investment II",
         85
        ],
        [
         "Natl Horticulture & Livestock Project",
         85
        ],
        [
         "VN-2nd Northern Mountains Poverty Redctn",
         85
        ],
        [
         "Floods Emergency Recovery Project",
         85
        ],
        [
         "CG-Emerg Rec & Com Supt ERL (FY03)",
         84
        ],
        [
         "DISTRICT HEAT",
         84
        ],
        [
         "BO Urban Infrastructure Project",
         84
        ],
        [
         "NI Rural Water Supply and Sanitation",
         84
        ],
        [
         "IN: AP and Telangana Road Sector Project",
         84
        ],
        [
         "TG:Emergency Infra.Rehab. & Energy Proj.",
         84
        ],
        [
         "Judicial Services & Smart Infrastr Proj",
         84
        ],
        [
         "AF: Emer Irrig Rehab",
         83
        ],
        [
         "URB INFRA & SERV DEL",
         83
        ],
        [
         "EG-Natural Gas Connections Project",
         83
        ],
        [
         "REAL ESTATE REG.",
         83
        ],
        [
         "AO-Market Oriented Smallholder Agr",
         83
        ],
        [
         "INTEGRATED LAND ADMIN SYSTEM",
         83
        ],
        [
         "UG-Kampala Inst & Infrast Dev Prj (FY08)",
         83
        ],
        [
         "HT Disaster Risk Mngmt & Reconstruction",
         83
        ],
        [
         "IN: MAHAR WSIP",
         82
        ],
        [
         "CN-BEIJING ENVIRONMENT II",
         82
        ],
        [
         "CN-Wuhan Urban Transport",
         82
        ],
        [
         " NG-Electricity and Gas Improvement",
         82
        ],
        [
         "Afghanistan SDNRP II",
         82
        ],
        [
         "UG-Health Syst. Strength. Project (FY10)",
         82
        ],
        [
         "IN: POWERGRID V",
         82
        ],
        [
         "IN: Haryana Power System Improv Project",
         82
        ],
        [
         "NI Micro, Small & Medium Enterprise Dev.",
         82
        ],
        [
         "IN: UP Roads",
         82
        ],
        [
         "BI-Road Sec Dev SIM (FY04)",
         81
        ],
        [
         "IDP ECON DEVT SUPPORT",
         81
        ],
        [
         "NI Offgrid Rural Electrification (PERZA)",
         81
        ],
        [
         "BD:National Agricultural Technology Proj",
         81
        ],
        [
         "BR-Second Minas Gerais Dev't PArtnership",
         81
        ],
        [
         "Transmission, Distribution and Disaster",
         81
        ],
        [
         "Support to the General Auditor's Office",
         81
        ],
        [
         "JO - Educ. Reform for Knowledge Econ.I",
         80
        ],
        [
         "ENERGY LOSS REDUCTION",
         80
        ],
        [
         "GT (CRL1) Education Quality and Sec. Edu",
         80
        ],
        [
         "VN-RURAL ENERGY",
         80
        ],
        [
         "CO- Antioquia Secondary Education Projec",
         80
        ],
        [
         "NAT'L WATER SUPPLY & SAN",
         80
        ],
        [
         "PK:Land Records Mgmt & Information Syst.",
         80
        ],
        [
         "SL EFA/ FTI Program",
         80
        ],
        [
         "VC Disaster Management",
         80
        ],
        [
         "PUB. EMPLMNT  FOR SUST. AGR. & WATER MGT",
         80
        ],
        [
         "PNG - Urban Youth Employment Project",
         80
        ],
        [
         "HT Business Development and Investment",
         80
        ],
        [
         "HLT SEC MGT",
         79
        ],
        [
         "ED SECT DEV (APL #1)",
         79
        ],
        [
         "IQ-TF Emergency Textbook Provision",
         79
        ],
        [
         "AVIAN FLU - XK",
         79
        ],
        [
         "LIFELINE ROADS IMPROVEMENT PROJECT",
         79
        ],
        [
         "BI-Demobilization & Reint Prj (FY04)",
         79
        ],
        [
         "SZ-Health, HIV/AIDS & TB Project (FY11)",
         79
        ],
        [
         "HT Rebuilding Energy Infrastr & Access",
         79
        ],
        [
         "HIGHWAY 2",
         78
        ],
        [
         "PK: Sindh On-Farm Water Management Proj",
         78
        ],
        [
         "CI-Emerg Multi-Sect HIV/AIDS Proj (FY08)",
         78
        ],
        [
         "RW-Rural Sec Supt APL (FY01)",
         78
        ],
        [
         "East Afr Publ Hlth Laborat Net (FY10)",
         78
        ],
        [
         "AO-Econ Mgmt TA (FY03)",
         78
        ],
        [
         "TZ-Forest Conserv & Mgmt SIL (FY02)",
         78
        ],
        [
         "BO PICAR Comm. Investment in Rural Areas",
         78
        ],
        [
         "AF: ARTF-Civil Service Capacity Building",
         77
        ],
        [
         "SEC/LOC ROADS",
         77
        ],
        [
         "TD-Public Financial Mgmt CB",
         77
        ],
        [
         "MZ-Maputo Municipal Development Program",
         77
        ],
        [
         "TO-Transport Sector Consolidation",
         77
        ],
        [
         "NG-Natl Energy Dev SIL (FY06)",
         77
        ],
        [
         "LB - ESPISP 2",
         77
        ],
        [
         "HN- HEALTH SYSTEM REFORM PROJECT",
         77
        ],
        [
         "IN: MUMBAI URBAN TRANSPORT PROJECT",
         77
        ],
        [
         "CO Strength. Public Info, M&E for RMgmt.",
         77
        ],
        [
         "GH-eGhana SIL (FY07)",
         77
        ],
        [
         "GH-Trade Gateway & Inv SIL (FY99)",
         77
        ],
        [
         "PK: HIGHWAYS REHAB",
         77
        ],
        [
         "NI 2nd Support to the Education Sector",
         77
        ],
        [
         "DANUBE ENTS POLLUT REDUC (GEF) (SERBIA)",
         77
        ],
        [
         "PG-ROAD MAINT.  & REHAB",
         76
        ],
        [
         "VN -ICT Development",
         76
        ],
        [
         "JUDICIAL REFORM SUPPORT",
         76
        ],
        [
         "LS-ESDP II APL - Phase 2 (FY04)",
         76
        ],
        [
         "PUB INVST CAP BLDG",
         76
        ],
        [
         "EG: Household Gas Connection Projec",
         76
        ],
        [
         "RY-Groundwater & Soil Conserv Proj",
         75
        ],
        [
         "WATER MGMT IMPRVMT",
         75
        ],
        [
         "Saint Lucia - Disaster Management",
         75
        ],
        [
         "PE Regional Transport Decentralization",
         75
        ],
        [
         "ML-Agr & Producer Org (FY02) - (PASAOP)",
         75
        ],
        [
         "RY-PORT CITIES DEVELOPMENT PROGRAM",
         75
        ],
        [
         "tien shan ecosystem (DROPPED)",
         75
        ],
        [
         "DO Youth Development Project",
         75
        ],
        [
         "BI-Health Project (FY09)",
         75
        ],
        [
         "FLOOD EMERGENCY",
         75
        ],
        [
         "VN-Project Preparation TA Facility",
         75
        ],
        [
         "REAL ESTATE CADASTRE",
         75
        ],
        [
         "RY URBAN WTR SUPPLY & SANITATION APL",
         75
        ],
        [
         "CR Higher Education",
         75
        ],
        [
         "SOC ASST SYS MOD",
         74
        ],
        [
         "HN Nutrition and Social Protection",
         74
        ],
        [
         "IN: Assam Agric Competitiveness",
         74
        ],
        [
         "LB - Municipal Infrastructure",
         74
        ],
        [
         "PPIBL",
         74
        ],
        [
         "UY POWER TRANSMISSION & DISTRIBUTION",
         74
        ],
        [
         " ET-Dec Serv Del CB (FY03)",
         74
        ],
        [
         "CN-Anhui Highway Rehab & Improvement",
         74
        ],
        [
         "GT COMPETITIVENESS PROJECT",
         74
        ],
        [
         "TRANSPORT",
         74
        ],
        [
         "KH - Trade Development Support Program",
         74
        ],
        [
         "BO JSDF Early Childhood Care & Developmt",
         74
        ],
        [
         "ZA-GEF Maloti/Drakens Cnsrv & Dev (FY02)",
         73
        ],
        [
         "IR - Bam Earthquake Emergency Reconstr.",
         73
        ],
        [
         "MN-UB SERVICES IMPROVMT 2",
         73
        ],
        [
         "SIF 3",
         73
        ],
        [
         "NG-Econ Reform & Govern SIL (FY05)",
         73
        ],
        [
         "BO Road Rehab. & Maintenance Project",
         73
        ],
        [
         "SECOND LAND & REAL ESTATE REGISTRATION",
         73
        ],
        [
         "LR-Emergency Senior Executive Svce (FY08",
         73
        ],
        [
         "ZM-Emergency Drought Recovery ERL (FY03)",
         73
        ],
        [
         "TG:Agricultural Sector Support Project",
         73
        ],
        [
         "LB - Community Development Project",
         72
        ],
        [
         "HEALTH REF IMP",
         72
        ],
        [
         "HN (CRL) Barrio-Ciudad Project",
         72
        ],
        [
         "Emergency Infrastructure Reconstruction",
         72
        ],
        [
         "IN: Power System Development  Project IV",
         72
        ],
        [
         "IN: Third National HIV/AIDS Control Proj",
         72
        ],
        [
         "AF: Emergency Communications Development",
         72
        ],
        [
         "SOC & ECON REC",
         72
        ],
        [
         "CEMAC Regional Institutions Support",
         72
        ],
        [
         "BUKHARA & SAMARKAND SEWERAGE PROJECT",
         72
        ],
        [
         "DRC-Growth w/ Gov in Mineral Sector",
         72
        ],
        [
         "CM - Competitive Value Chains",
         72
        ],
        [
         "EC Growing with our GUAGUAS (JSDF)",
         72
        ],
        [
         "6R (APL1A) Communic. Infrast. Prog.",
         72
        ],
        [
         "GH-Com Based Rural Dev (FY05)",
         71
        ],
        [
         "4E-GEF-Livestock Waste Management",
         71
        ],
        [
         "3A-Afr Emergency Locust Prj (FY05)",
         71
        ],
        [
         "KE-Electricity SIL (2010)",
         71
        ],
        [
         "PK: PIFRA II",
         71
        ],
        [
         "BD: Clean Air & Sustainable Environment",
         71
        ],
        [
         "AGRIBUSINESS & MARKETING",
         71
        ],
        [
         "CO Sustainable Development Inv Project",
         71
        ],
        [
         "HT Transport and Territorial Devopment",
         71
        ],
        [
         "UG-Econ & Fin Mgmt (FY00)",
         71
        ],
        [
         "Eastern Africa Agricultural Productivity",
         71
        ],
        [
         "SN  EFA-FTI Catalytic Fund",
         71
        ],
        [
         "eBenin Project",
         71
        ],
        [
         "IQ-Youth Livelihoods Dev in Southern IQ",
         71
        ],
        [
         "CO - Science Technology & Innovation",
         71
        ],
        [
         "SOC INS TA",
         70
        ],
        [
         "AF:  Skills Development Project",
         70
        ],
        [
         "IN: Karnataka Health System Dev",
         70
        ],
        [
         "Emergency Recovery Project",
         70
        ],
        [
         "AR-Essential Public Health Functions",
         70
        ],
        [
         "KH-Typhoon Ketsana Emergency Operation",
         70
        ],
        [
         "Health and Population Program",
         69
        ],
        [
         "PY Road Maintenance",
         69
        ],
        [
         "HT CDD Project (PRODEP)",
         69
        ],
        [
         "AR B.A.URB.TSP",
         69
        ],
        [
         "DO Financial Sector Technical Assistance",
         69
        ],
        [
         "PRIV, RSTRCT & BANKRUPTCY OF STATE ENTS",
         69
        ],
        [
         "UG-HIV/AIDS Control SIL (FY01)",
         69
        ],
        [
         "CI-Transp Sec Adj",
         69
        ],
        [
         "KH-Land Management and Administration",
         68
        ],
        [
         "XK Business Env TA",
         68
        ],
        [
         "HYDROMETEO SYST MOD",
         68
        ],
        [
         "PE- Rural Education",
         68
        ],
        [
         "LR-Agric. & Infra. Dev. Proj. ERL (FY08)",
         68
        ],
        [
         "SN-Local Authorities Development Program",
         68
        ],
        [
         "CN-Huai River Basin Flood Management an.",
         68
        ],
        [
         "BO Pilot Program for Climate Resil Ph 1",
         68
        ],
        [
         "CO PUBLIC FINANC. MANAGEMENT PROJECT II",
         68
        ],
        [
         "KG Redu Tech Barriers for Enterpr & Trad",
         67
        ],
        [
         "AF: Strengthening Higher Educ. Program",
         67
        ],
        [
         "Water Sector Improvement Project",
         67
        ],
        [
         "PK: Public Sect Capacity Building Proj",
         67
        ],
        [
         "AGR STRENGTHENING AND ACCESSION PROJECT",
         67
        ],
        [
         "AF: Hort. & Livestock Project",
         67
        ],
        [
         "CAPACITY BLDG ECON MGT",
         67
        ],
        [
         "4M Mekong Int. Water Resources MGMT",
         67
        ],
        [
         "AO-Emerg Demob & Reinteg ERL (FY03)",
         67
        ],
        [
         "ID-Initiatives for Local Govern. Reform",
         67
        ],
        [
         "BR-RJ Sustainable Rural Development",
         67
        ],
        [
         "REG FISC TA",
         66
        ],
        [
         "KH-Land Allocation for Soc.and Eco. Dev.",
         66
        ],
        [
         "IN: Tsunami ERC",
         66
        ],
        [
         "AR RENEW.ENERGY R.MKTS",
         66
        ],
        [
         "VN-Regional Blood Transfusion Centers",
         66
        ],
        [
         "JO-SECOND TOURISM DEV.",
         66
        ],
        [
         "ENERGY EFFICIENCY IN PUBLIC BUILDINGS",
         66
        ],
        [
         "GH:Gas and Oil Capacity Building Project",
         66
        ],
        [
         "Pacific Aviation Investment - Kiribati",
         66
        ],
        [
         "BUKHARA/SAMARKAND WS",
         66
        ],
        [
         "LS-Integr Transp SIL (FY07)",
         65
        ],
        [
         "Payment System and Bank Modernization 2",
         65
        ],
        [
         "IN: Karn Municipal Reform",
         65
        ],
        [
         "MZ-TFCA & Tourism Dev (FY06)",
         65
        ],
        [
         "FERGHANA VALLEY WATER RES",
         65
        ],
        [
         "MDTF FOR PUBLIC ADMIN REFORM",
         65
        ],
        [
         "KH-Demand for Good Governance",
         65
        ],
        [
         "ROAD MGMT SAFETY",
         65
        ],
        [
         "AF: Pension Admin and Safety Net",
         65
        ],
        [
         "CM-Energy Sector Development SIL (FY08)",
         65
        ],
        [
         "RY SOCIAL FUND DEVPT",
         65
        ],
        [
         "REAL ESTATE REGISTRATION PROJECT",
         65
        ],
        [
         "ID-USDRP",
         64
        ],
        [
         "PUBLIC SECTOR REFORM TA",
         64
        ],
        [
         "RY- Second Rural Access Project",
         64
        ],
        [
         "BD: Public Procurement Reform Project II",
         64
        ],
        [
         "CI-Emergency Urban Infrast. ERL (FY08)",
         64
        ],
        [
         "HLTH SYS MOD (APL2)",
         64
        ],
        [
         "MG-Governance & Inst. Dev. II TAL",
         64
        ],
        [
         "MN-Energy Sector",
         64
        ],
        [
         "KE:Transport Sector Support Project",
         64
        ],
        [
         "VN- GPE-VNEN Project",
         64
        ],
        [
         "MX Forests and Climate Change (SIL)",
         64
        ],
        [
         "Ebola Emergency Response Project",
         64
        ],
        [
         "MZ-Higher Education SIM (FY02)",
         63
        ],
        [
         "RUR ENT & AGRIC DEVT",
         63
        ],
        [
         "Cambodia - Public Fin. Mgmt. & Accnt.",
         63
        ],
        [
         "MINE CLOSURE, ENV & SOCIO-ECO REG (CRL)",
         63
        ],
        [
         "HAZ MITIG",
         63
        ],
        [
         "TZ-Rural Water Sply (FY02)",
         63
        ],
        [
         "UG-Energy for Rural Transform (FY02)",
         63
        ],
        [
         "NAT RES MGMT",
         63
        ],
        [
         "GH-Agr Srvcs APL (FY01)",
         63
        ],
        [
         "Mali Energy Support Project SIL (FY09)",
         63
        ],
        [
         "UY Support to Public Schools Proj",
         63
        ],
        [
         "LB - Education Development Project",
         62
        ],
        [
         "HYDROPOWER REHAB",
         62
        ],
        [
         "Emergency School Construction & Rehab.",
         62
        ],
        [
         "6A GEF-Adaptation to the Impact of Glaci",
         62
        ],
        [
         "GPOBA W3 - Honduras OBA Fund",
         62
        ],
        [
         "COTTON SEC RECOV",
         62
        ],
        [
         "CO-(APL2) Disaster Vulnerability Reduct.",
         62
        ],
        [
         "ID: Dam Operational Improvement (DOISP)",
         62
        ],
        [
         "Rwanda Electricity Access Scale-up Proj.",
         62
        ],
        [
         "SOLID WASTE MGT 2",
         62
        ],
        [
         "EDUC QUAL & REL (APL#2)",
         62
        ],
        [
         "MW-Proj to Improve Education Quality in",
         62
        ],
        [
         "AO-Municipal Health Serv Strength (FY10)",
         62
        ],
        [
         "DISASTER HAZARD MITIGATION",
         62
        ],
        [
         "MUN HEATING",
         62
        ],
        [
         "CO Support Nat'l Urban Transit Program",
         62
        ],
        [
         "MZ-Roads & Bridges MMP (FY02)",
         61
        ],
        [
         "ADCP-II",
         61
        ],
        [
         "BR - Road Transport Project",
         61
        ],
        [
         "ODRA RIVER BASIN FLOOD PROT",
         61
        ],
        [
         "UG-Post Primary Educ & Trg APL-1 (FY09)",
         61
        ],
        [
         "WATER SUPPLY AND SANITATION",
         61
        ],
        [
         "RURAL INFRA REHAB",
         61
        ],
        [
         "PHSecond Agrarian Reform Communities Dev",
         61
        ],
        [
         "DRC Public Service Reform and Rejuv",
         61
        ],
        [
         "SMALL TOWNS INFRA & CAP BLDG",
         60
        ],
        [
         "RW-Compet & Enterprise Dev (FY01)",
         60
        ],
        [
         "ML-Transp Sec SIL 2 (FY07)",
         60
        ],
        [
         "ML-Rural Com. Dev. (PACR)",
         60
        ],
        [
         "NG-Min Res Sustain Mgmt (FY05)",
         60
        ],
        [
         "CM-Pub/Priv Partnership & Growth (FY00)",
         60
        ],
        [
         "SN-Long Term Water Sec SIL (FY01)",
         60
        ],
        [
         "ID-HIGHER EDUCATION",
         60
        ],
        [
         "JUDICIAL REFORM  2",
         60
        ],
        [
         "RY-SANA'A BASIN WATER MGMNT",
         60
        ],
        [
         "TP-Education Sector Support",
         60
        ],
        [
         "AR PROSAP2 2nd Prov Agric Dev",
         60
        ],
        [
         "CN-SHANGHAI URB ENVMT APL1",
         60
        ],
        [
         "EMERGENCY RECOVERY",
         60
        ],
        [
         "6O Regional Disaster Vuln Reduct. Projs",
         60
        ],
        [
         "3A- EN Watershed Management (SIP)",
         60
        ],
        [
         "1ST DECEN.CITY MGMT.",
         60
        ],
        [
         "CENTRAL ASIA HYDROMET MODERNIZATION",
         60
        ],
        [
         "MG-Urban Infrastructure Project",
         60
        ],
        [
         "GH-Natl Func Lit Prgm (FY99)",
         59
        ],
        [
         "NERETVA/TREBISNJICA RIVER BASIN GEF",
         59
        ],
        [
         "KE-Energy Sec Recovery Prj (FY05)",
         59
        ],
        [
         "IQ-TF EMERG.  WATER, SANITATION  & URBAN",
         59
        ],
        [
         "BOR REG DEVT",
         59
        ],
        [
         "BR-Bahia Poor Urban Areas Integrated Dev",
         59
        ],
        [
         "VN-Priority Infra Investment",
         59
        ],
        [
         "STATE STATS SYST",
         59
        ],
        [
         "PE Real Property Rights II",
         59
        ],
        [
         "AVIAN FLU - MD",
         59
        ],
        [
         "LR-Econ. Gov. & Institut. Ref. TAL",
         59
        ],
        [
         "LR:EGIRP -Additional Financing",
         59
        ],
        [
         "DO Emergency Recovery & Disaster Mgmt",
         59
        ],
        [
         "The AO-Local Dev. Program SIL (FY10)",
         59
        ],
        [
         "RY Sec. Educ. Dev. and Girls Access",
         59
        ],
        [
         "Afghanistan ICT Sector Development Proje",
         59
        ],
        [
         "SV Fiscal Mgmt and Public Sector Perf TA",
         59
        ],
        [
         "ZA-GEF CAPE Action Plan (FY04)",
         58
        ],
        [
         "MUNICIPAL SERVICES",
         58
        ],
        [
         "RARP",
         58
        ],
        [
         "IDF ENVIRONMENTAL AND SOCIAL SAFEGUARDS",
         58
        ],
        [
         "CM-Urban and Water D. SIL (FY07)",
         58
        ],
        [
         "NP: Irrig & Water Res Mgmt Proj",
         58
        ],
        [
         "MX Basic Ed. APL II",
         58
        ],
        [
         "MZ-Natl Water 2 (FY99)",
         58
        ],
        [
         "MN-Governance Assistance",
         58
        ],
        [
         " JUSTICE SECTOR SUPPORT PROJECT",
         58
        ],
        [
         "CHILD WELFARE REF",
         58
        ],
        [
         "CI-IVC PNGTER Rural Land Management",
         58
        ],
        [
         "BR Mato Grosso do Sul Road",
         58
        ],
        [
         "ET-ICT Assisted Dev SIM (FY05)",
         58
        ],
        [
         "VN-Urban Water Supply and Wastewater",
         58
        ],
        [
         "MR-Mining Sec TA SIL 2 (FY04)-(PRISM 2)",
         57
        ],
        [
         "PENSION ADMIN",
         57
        ],
        [
         "COASTAL CITIES POLLUTION CONTROL (APL#1)",
         57
        ],
        [
         "VN-Northern Upland Health Support Proje",
         57
        ],
        [
         "BJ- Multi Sectoral HIV/AIDS SIL 2 (FY07)",
         57
        ],
        [
         "KH-Cambodia Education Sector Support",
         57
        ],
        [
         "IN - MAHAR RWSS",
         57
        ],
        [
         "AF: Kabul Urban Reconstruction Project",
         57
        ],
        [
         "RURAL DEV (APL #1)",
         57
        ],
        [
         "AR APL2 Buenos Aires Infrastructure",
         57
        ],
        [
         "3A-Abidjan-Lagos Trade & Transp. Facilit",
         57
        ],
        [
         "EMS & INVEST PLANNING (DEMSIP)",
         57
        ],
        [
         "ID-PPITA",
         57
        ],
        [
         "KH-PROV & PERI-URB WATER",
         57
        ],
        [
         "Increasing Resilience to Climate Change",
         57
        ],
        [
         "Pacific Aviation Investment - Tonga",
         57
        ],
        [
         "IRR/DRAIN REHAB (APL #1)",
         57
        ],
        [
         "HEALTH & SP 2",
         57
        ],
        [
         "CF - LONDO ('Stand-Up') Project",
         57
        ],
        [
         "BR-Energy Sector TA Project",
         56
        ],
        [
         "IN: Madhya Pradesh Water Sector Restruct",
         56
        ],
        [
         "IRRIG DEVT",
         56
        ],
        [
         "NG-Lagos Metropolitan Dev & Governance",
         56
        ],
        [
         "MZ-HIV/AIDS Response SIL (FY03)",
         56
        ],
        [
         "ML-Urb Dev & Decentr (FY97)",
         56
        ],
        [
         "ET-Urban WSS SIL FY07)",
         56
        ],
        [
         "RY-Public Finance Modernization Project",
         56
        ],
        [
         "VN-Central North Region Health Support",
         56
        ],
        [
         "CN-CHONGQING URBAN ENVMT",
         56
        ],
        [
         "DRC FIP Improved Forested Landscape Mgmt",
         56
        ],
        [
         "AO-Emerg MS Recovery ERL (FY05)",
         55
        ],
        [
         "RISP (APL #2)",
         55
        ],
        [
         "HEALTH SYST MOD",
         55
        ],
        [
         "3A-West &Central Afr Air Tran TAL (FY06)",
         55
        ],
        [
         "SN-Urb Mobility Improvement APL (FY00)",
         55
        ],
        [
         "TN-Water Sector Investment",
         55
        ],
        [
         "PA Water&Sanitation in Low-Income Comm.",
         55
        ],
        [
         "SN-HIV/AIDS Prevent & Control APL (FY02)",
         55
        ],
        [
         "AR Lifelong Learning Project",
         55
        ],
        [
         "AFR:Central African Backbone - APL1A",
         55
        ],
        [
         "LA -TA for Hydropower and Mining sectors",
         55
        ],
        [
         "EU FOOD FACILITY SUPPORT",
         55
        ],
        [
         "Pacific Aviation Investment - Tuvalu",
         55
        ],
        [
         "MX GEF Sustain. Rural Dev",
         55
        ],
        [
         "SUSTAINABLE ENERGY (GEF)",
         55
        ],
        [
         "SS-Local Governance&Service Delivery",
         55
        ],
        [
         "DR Public Expenditures Mgmt  (RE)",
         55
        ],
        [
         "LS-Utilities Sec Reform SIL (FY01)",
         54
        ],
        [
         "PNG-Smallholder Agriculture Development",
         54
        ],
        [
         "EG-HEALTH SECTOR",
         54
        ],
        [
         "ID-Support for Poor and Disadvant Areas",
         54
        ],
        [
         "ARP II-INTEGRAT'D SOLID WASTE MGT",
         54
        ],
        [
         "NI Sustainable Rural WSS Sector",
         54
        ],
        [
         "SN-Quality EFA APL 2 (FY07)",
         54
        ],
        [
         "REGIONAL AND LOCAL RDS PROG SUPPORT PROJ",
         54
        ],
        [
         "MV: Pension and Social Protection Admin.",
         54
        ],
        [
         "BR Pernambuco Educ Results& Account.",
         54
        ],
        [
         "FOREST DEVT/CNSRV TA",
         54
        ],
        [
         "GY - UG Science and Technology Support",
         54
        ],
        [
         "DRC Western Growth Poles Project",
         54
        ],
        [
         "Somalia Capacity Injection",
         54
        ],
        [
         "CO Agricultural Transition Project",
         53
        ],
        [
         "RY-IRRIGATION IMPROVEMENT",
         53
        ],
        [
         "MX-GEF Integrated Energy Services",
         53
        ],
        [
         "ZM-Road Rehab Maintenance Prj (FY04)",
         53
        ],
        [
         "MW-Infrastr Srvcs SIM",
         53
        ],
        [
         "LA - Nam Theun Social & Environment",
         53
        ],
        [
         "AVIAN FLU - BA",
         53
        ],
        [
         "IN: TN ROADS",
         53
        ],
        [
         "IN: Punjab Rural Water Supply&Sanitation",
         53
        ],
        [
         "ET-Protection of Basic Services (FY06)",
         53
        ],
        [
         "BG TTFSE 2",
         53
        ],
        [
         "CLEAN UP & LAND RECLAM",
         53
        ],
        [
         "BR CEARA WTR MGT PROGERIRH SIM",
         53
        ],
        [
         "PH-2nd Social Expenditure Management",
         53
        ],
        [
         "TD-Pop & AIDS 2 SIL (FY02)",
         53
        ],
        [
         "E-SOCIETY & INNOVATION",
         53
        ],
        [
         "ID-Health Professional Education Quality",
         53
        ],
        [
         "ID-W. JAVA ENVMT MGMT",
         53
        ],
        [
         "Mongolia Multi-Sector TA",
         53
        ],
        [
         "SOLID WASTE MGMT",
         53
        ],
        [
         "KARST ECOSYS CONSV (GEF)",
         53
        ],
        [
         "UG-Water Mgmt & Dev. Project",
         53
        ],
        [
         "VN-NORRED",
         53
        ],
        [
         "MG-Com Dev Fund SIL (FY01)",
         52
        ],
        [
         "Southern Afr Power Mrkt APL 1 (FY04)",
         52
        ],
        [
         "ER-AIDS, Mal, STD, TB Cntrl APL (FY01)",
         52
        ],
        [
         "VN-HANOI URBAN TRANSPORT",
         52
        ],
        [
         "CM-Edu Dev CB (FY05)",
         52
        ],
        [
         "SB-Rural Development Program",
         52
        ],
        [
         "MZ-Water Resources Dev I SIL",
         52
        ],
        [
         "VN-School Education Quality Assurance",
         52
        ],
        [
         "TZ-Partic Agr Dev & Empwrmnt SIL (FY03)",
         52
        ],
        [
         "UG-Priv & Utility Sec Reform (FY01)",
         52
        ],
        [
         "CM-Agricultural Competitiveness Project",
         52
        ],
        [
         "La Guajira Water and Sanit.",
         52
        ],
        [
         "CF:Supp to Vulnerable Grps Community Dev",
         52
        ],
        [
         "PH-Participatory Irrigation Development",
         52
        ],
        [
         "REG DEV 1",
         52
        ],
        [
         "KE Enhancing Wat Security & Climate Res",
         52
        ],
        [
         "HT Cultural Heritage and Tourism Sector",
         52
        ],
        [
         "QUAL EDUC EQUAL ACCESS (APL #1)",
         51
        ],
        [
         "LK: E-Sri Lanka Development",
         51
        ],
        [
         "PUB FIN MGMT TA",
         51
        ],
        [
         "VN-Avian Influenza Emergency Recovery Pr",
         51
        ],
        [
         "RAILWAYS REFORM",
         51
        ],
        [
         "TRANSPORT RESTRUCTURING",
         51
        ],
        [
         "MUNICIPAL INFRASTRUCTURE DEVELOPMENT",
         51
        ],
        [
         "NI Rural Telecom",
         51
        ],
        [
         "SL-Natl Soc Action (FY03)",
         51
        ],
        [
         "BR-Bahia Integr.Hway Mngmt.",
         51
        ],
        [
         "RY  TAIZ MUNICIPAL DEV & FLOOD PROTEC",
         51
        ],
        [
         "BR-RECIFE URBAN UPGRADING PROJECT",
         51
        ],
        [
         "Protected Areas Consolidation and Admin",
         51
        ],
        [
         "HN EMERG DISASTER MGMT (TAL)",
         51
        ],
        [
         "Karnataka Highways",
         51
        ],
        [
         "MG-Health Sector Support II (FY00)",
         51
        ],
        [
         "TVEM",
         51
        ],
        [
         "Myanmar Emergency CDD",
         51
        ],
        [
         "Erosion & Watershed Mgt Project",
         51
        ],
        [
         "LK: Transforming School Education",
         51
        ],
        [
         "Global Partnership For Education Program",
         51
        ],
        [
         "PE Basic Education",
         51
        ],
        [
         "Support to Community Seed Funds",
         51
        ],
        [
         "RUR ENT SUPPORT",
         50
        ],
        [
         "TT POSTAL SERV. REFORM",
         50
        ],
        [
         "GH-Small Towns Water Sply & Sanit (FY05)",
         50
        ],
        [
         "XK Fin. Sect. Strengthen.&Market Infrast",
         50
        ],
        [
         "ID-Health Workforce & Services (PHP 3)",
         50
        ],
        [
         "GH-Urban Env Sanitation 2 ( FY04)",
         50
        ],
        [
         "NG-Malaria Control Booster Project (07)",
         50
        ],
        [
         "BASIC EDUC",
         50
        ],
        [
         "TZ-Central Transp Corridor Prj (FY04)",
         50
        ],
        [
         "ID - Coral Reef Rehab and Mgmt Prog II",
         50
        ],
        [
         "IRRIG DAM SAFETY 2",
         50
        ],
        [
         "HOUSING & COMMUNAL SERVICES",
         50
        ],
        [
         "ACIP",
         50
        ],
        [
         "TD-Edu Sec Reform SIL (FY03)",
         50
        ],
        [
         "PE Water Resources Mgmt.",
         50
        ],
        [
         "Cabo Verde - Transport Sector Reform",
         50
        ],
        [
         "EG-Farm-level Irrigation Modernization",
         50
        ],
        [
         "CN-Guangzhou City Transport",
         50
        ],
        [
         "AGRICULTURE COMPETITIVENESS PROJ. (GEF)",
         50
        ],
        [
         "DISEASE PREVENTION & CTRL",
         50
        ],
        [
         "Lao PDR Trade Development Facility 2",
         50
        ],
        [
         "Irrigated Agriculture Improvement",
         50
        ],
        [
         "SL-Inst Reform & Cap Bldg TAL (FY04)",
         49
        ],
        [
         "CN-Sustainable Coastal Resources Dev.",
         49
        ],
        [
         "BD Private Sector Infrastructure Dev",
         49
        ],
        [
         "BISHKEK AND OSH URBAN INFRASTRUCTURE",
         49
        ],
        [
         "SUST FORESTRY PILOT",
         49
        ],
        [
         "NI Poverty Red.&Local Dev. FISE",
         49
        ],
        [
         "LR-Urban and Rural Infra. Rehab. Project",
         49
        ],
        [
         "RY Rainfed Agriculture and Livestock",
         49
        ],
        [
         "HT Electricity Project",
         49
        ],
        [
         "BD: Higher Education Quality Enhancement",
         49
        ],
        [
         "PNG Productive Partnerships in Agr.",
         49
        ],
        [
         "SN-Casamance Emerg Reconstr Supt (FY05)",
         49
        ],
        [
         "CESAR",
         49
        ],
        [
         "CM-Sanitation APL",
         49
        ],
        [
         "EG-Giza North Power Project",
         49
        ],
        [
         "BJ-Increased Access to Energy SIL",
         49
        ],
        [
         "VN-Managing Natural Hazards Project",
         49
        ],
        [
         "SN - Electricity Sector Support (FY12)",
         49
        ],
        [
         "Vietnam Road Asset Management Project",
         49
        ],
        [
         "Emergency Community Empowerment Project",
         48
        ],
        [
         "IN: RCH II",
         48
        ],
        [
         "DEVSTAT",
         48
        ],
        [
         "TZ - Urban Sector Rehabilitation",
         48
        ],
        [
         "TREASURY DEVT (APL#1)",
         48
        ],
        [
         "IR - Northern Cities Water Supply & Sani",
         48
        ],
        [
         "GY - EFA-FAST TRACK INITIATIVE",
         48
        ],
        [
         "MZ-APL2 Roads & Bridges",
         48
        ],
        [
         "EU NATURA 2000",
         48
        ],
        [
         "NELSAP Rusumo Falls MP SIL (FY14)",
         48
        ],
        [
         "LA-Khammouane Development Project",
         48
        ],
        [
         "CN-2nd National Railways (Zhe-Gan Line)",
         48
        ],
        [
         "WAPP APL4 (Phase 1) CSLG",
         48
        ],
        [
         "TG-Community Dev. Project ERL (FY08)",
         48
        ],
        [
         "KH-HE Quality and Capacity Improve Proj",
         48
        ],
        [
         "MN-Mining Infrastructure Investment Supp",
         48
        ],
        [
         "Cultural Heritage 2",
         48
        ],
        [
         "RESULTS-BASED HEALTH",
         48
        ],
        [
         "ENERGY 2",
         48
        ],
        [
         "Tonga Cyclone Reconstruction",
         48
        ],
        [
         "SN-Participatory Loc Dev Prgm (FY06)",
         47
        ],
        [
         "AR NAT HWY REHAB&MAINT",
         47
        ],
        [
         "TZ-Songo Gas Dev & Power Gen (FY02)",
         47
        ],
        [
         "IR - Ahwaz & Shiraz Water Supply & Sanit",
         47
        ],
        [
         "CN- GEF-Thermal Power Efficiency",
         47
        ],
        [
         "LA-Fin. Management Capacity Building Cr.",
         47
        ],
        [
         "HIV/AIDS Prevention Project",
         47
        ],
        [
         "CO - Justice Services Strenghtening",
         47
        ],
        [
         "BZ Municipal Development",
         47
        ],
        [
         "BO Rural Alliances Project II",
         47
        ],
        [
         "HN Power Sector Efficiency Enhancement",
         47
        ],
        [
         "GH-Transport Project SIL (FY09)",
         47
        ],
        [
         "SME ACCESS TO FINANCE",
         47
        ],
        [
         "IN: Industrial Pollution Management",
         47
        ],
        [
         "CG Support to Economic Diversification",
         47
        ],
        [
         "VN-Northern Delta Transport Dev",
         47
        ],
        [
         "MG-Emerg Infra Preservation & Vulnerabil",
         47
        ],
        [
         "Scaling-Up Participatory Sustainable",
         47
        ],
        [
         "TN-Education PAQSET II",
         47
        ],
        [
         "NWFP ON-FARM WATER MANAGEMENT PROJECT",
         46
        ],
        [
         "SL-Health Sec Reconstr & Dev (FY03)",
         46
        ],
        [
         "BO Decent Infras for Rur Transformation",
         46
        ],
        [
         "SN-Dakar -Diamniado Toll Highway Project",
         46
        ],
        [
         "AF: Public Financial Management Reform",
         46
        ],
        [
         "Nepal Health Sector Program Project",
         46
        ],
        [
         "PENSION & SOC ASST",
         46
        ],
        [
         "IRRIG REHAB",
         46
        ],
        [
         "AO-MS ERL 2",
         46
        ],
        [
         "MN- Administrative Regulation",
         46
        ],
        [
         "REG AND CADASTRE",
         46
        ],
        [
         "CN-W. Region Rural Water & Sanitation",
         46
        ],
        [
         "BR RGN State Integrated Water Res Mgmt",
         46
        ],
        [
         "AL Busi Env Ref & Insti Streng",
         46
        ],
        [
         "ET-Energy Access SIL (FY03)",
         46
        ],
        [
         "PFM MODERNIZATION (APL#1)",
         46
        ],
        [
         "DRC-Education Sector Project (FY07)",
         46
        ],
        [
         "IN: Sustainable Urban Transport Project",
         46
        ],
        [
         "MW - Agric  Dev  Prog Support Project",
         46
        ],
        [
         "ET-General Educ Quality Improv. (FY09)",
         46
        ],
        [
         "NE-Water Sec SIL (FY01)",
         46
        ],
        [
         "TZ-Strategic Cities Project",
         46
        ],
        [
         "PE (APL2)Agric Research and Extension",
         46
        ],
        [
         "PK:Flood Emergency Cash Transfer Project",
         46
        ],
        [
         "TZ-Dar Water Supply & Sanitation (FY03)",
         46
        ],
        [
         "BR MST Tocantins Integrated Sust. Reg.",
         46
        ],
        [
         "Legal & Judicial Capacity Building",
         46
        ],
        [
         "3A-Niger Basin Water Resources 2A",
         46
        ],
        [
         "NWRMP-1",
         46
        ],
        [
         "BD: Rural Electricity T and Distribution",
         46
        ],
        [
         "Health System Strengthening & Support",
         46
        ],
        [
         "LA-SUSTAINABLE FORESTRY FOR RURAL DEV.",
         45
        ],
        [
         "BF-Compet & Enterprise Dev (FY03)",
         45
        ],
        [
         "CN-ZHEJIANG URBAN ENVMT",
         45
        ],
        [
         "NG-Federal Roads Development",
         45
        ],
        [
         "DUSHANBE WS",
         45
        ],
        [
         "DJ-FLOOD EMERGENCY REHABILITATION",
         45
        ],
        [
         "BR  Bahia State Integ Proj Rur Pov",
         45
        ],
        [
         "KE-Northern Corridor Trnsprt SIL (FY04)",
         45
        ],
        [
         "Iraq Emergency Health Project",
         45
        ],
        [
         "AF: ARTF-Public Fin. Mgmt. Reform II",
         45
        ],
        [
         "LR-Emergency Infrastructure ERL (FY06)",
         45
        ],
        [
         "MR-Edu Sec Dev APL (FY02) - (PNDSE)",
         45
        ],
        [
         "TRANS AG REFORM",
         45
        ],
        [
         "NP: Social Safety Nets Project",
         45
        ],
        [
         "Emergency Social Protection Project",
         45
        ],
        [
         "CG-Health Sector Service Dev Proj (FY08)",
         45
        ],
        [
         "NAT'L WATER SUPPLY & SAN II",
         45
        ],
        [
         "AF: Urban Water Sector",
         45
        ],
        [
         "ADDL  FIN  FOOD SECURITY & SEED & IMPORT",
         45
        ],
        [
         "Enterprise Dev (FY00)",
         45
        ],
        [
         " YF Innovation Serbia",
         45
        ],
        [
         "Science and Technology II",
         45
        ],
        [
         "SYR DARYA CONTROL N. ARAL SEA",
         45
        ],
        [
         "HN COMMUNITY-BASED EDUCATION PROJECT",
         45
        ],
        [
         "GY Poverty Reduction and Public Mgmt.",
         45
        ],
        [
         "LS-Water Sector Imp. Proj (Second Phase)",
         44
        ],
        [
         "LA-Health Services Improvement Project",
         44
        ],
        [
         "POPS STOCKPILES MGMT AND DESTRUCTION",
         44
        ],
        [
         "AF: PSD Support Project",
         44
        ],
        [
         "Econ Empowerment of Adolescent Girls",
         44
        ],
        [
         " DRC- Forest and Nature Conserv. - PFCN",
         44
        ],
        [
         "TZ-Tax Administration (FY99)",
         44
        ],
        [
         "IN: KARN Tank Mgmt",
         44
        ],
        [
         "GM-Gateway SIL (FY02)",
         44
        ],
        [
         "HN Rural Competitiveness Project",
         44
        ],
        [
         "AG SERVICES",
         44
        ],
        [
         "Public/Private Partnership Program",
         44
        ],
        [
         "BO-Emergency Rec and Disaster Management",
         44
        ],
        [
         "CG-Water, Electricity & Urban Dev. SIL",
         44
        ],
        [
         "ET: EFA FTI CF Grant 2 - GEQIP APL 1",
         44
        ],
        [
         "EG Pumping Station Rehab III",
         44
        ],
        [
         "Belarus POPs Stockpile Management Projec",
         44
        ],
        [
         "BR AIDS-SUS",
         44
        ],
        [
         "SOCIAL SAFETY NETS & EMPL",
         44
        ],
        [
         "IDP Living Standards and Livelihoods",
         44
        ],
        [
         "GH-Urban Water SIL (FY05)",
         44
        ],
        [
         "UG-Road Sec & Inst Supt (FY98)",
         44
        ],
        [
         "SRB CCA & Strategic Plan Implementation",
         44
        ],
        [
         "Second Urban Infrastructure Proj (UIP2)",
         44
        ],
        [
         "RAIL TRADE & TRNSPT FACIL",
         43
        ],
        [
         "6C GEF MESOAMERICAN BARRIER REEF SYST",
         43
        ],
        [
         "PH- Natl Rds Improv. & Mgt Ph.2",
         43
        ],
        [
         "CL Pub Expenditure Management",
         43
        ],
        [
         "IN: Ntnl VBD Control&Polio Eradication",
         43
        ],
        [
         "BF-Health Sector Sup. & AIDS Proj (FY06)",
         43
        ],
        [
         "BR-2nd APL BAHIA DEV. EDUCATION PROJECT",
         43
        ],
        [
         "TRNSPT REHAB (SERBIA)",
         43
        ],
        [
         "SN-Water and Sanitation SIL (FY10)",
         43
        ],
        [
         "ID-PROVINCIAL HEALTH II",
         43
        ],
        [
         "Sarajevo Waste Water (for. Mun. Dev.)",
         43
        ],
        [
         "DO (APL2) Health Ref II",
         43
        ],
        [
         "CN-Tuberculosis Control Project",
         43
        ],
        [
         "ID-Strategic Roads Infrastructure",
         43
        ],
        [
         "MZ-Municipal Dev SIL (FY02)",
         43
        ],
        [
         "3A-W  Africa Transp. & Transit Facilitat",
         43
        ],
        [
         "GH-Health Sec Prgm Supt 2 (FY03)",
         43
        ],
        [
         "LB - Urban Transport Development Project",
         43
        ],
        [
         "CA AIDS CONTROL (CRL)",
         43
        ],
        [
         "SOC SECT DEV (SSD)",
         43
        ],
        [
         "MW-Irrig, Rural Lvlihds & Agr SIL (FY06)",
         43
        ],
        [
         "POWER TRANSMISSION",
         43
        ],
        [
         "AO-HAMSET SIL (FY05)",
         42
        ],
        [
         "TN Higher Education Reform Support II",
         42
        ],
        [
         "GH Land Administration (FY04)",
         42
        ],
        [
         "IN: Coal-Fired Generation Rehabilitation",
         42
        ],
        [
         "RW-Urb Infrastr & City Mgmt APL (FY06)",
         42
        ],
        [
         "CI - Urgent Electr. Sector Rehab. (FY09)",
         42
        ],
        [
         "LK:Dam Safety & Water Resources Planning",
         42
        ],
        [
         "AF: Irrigation Restoration &Development",
         42
        ],
        [
         "HEALTH SYS MOD (APL #1)",
         42
        ],
        [
         "LR-Comm. Empowerment  II",
         42
        ],
        [
         "AR-Provincial Road InfrastructureProject",
         42
        ],
        [
         "PILOT RECONSTRUCTION PROJECT",
         42
        ],
        [
         "DJ Crisis Response-SSN project",
         42
        ],
        [
         "MZ - Energy Reform and Access APL-1",
         42
        ],
        [
         "LK - Road Sector Assistance",
         42
        ]
       ],
       "datasetInfos": [],
       "dbfsResultPath": null,
       "isJsonSchema": true,
       "metadata": {},
       "overflow": true,
       "plotOptions": {
        "customPlotOptions": {},
        "displayType": "table",
        "pivotAggregation": null,
        "pivotColumns": null,
        "xColumns": null,
        "yColumns": null
       },
       "removedWidgets": [],
       "schema": [
        {
         "metadata": "{}",
         "name": "Project Name",
         "type": "\"string\""
        },
        {
         "metadata": "{}",
         "name": "Projects_count",
         "type": "\"long\""
        }
       ],
       "type": "table"
      }
     },
     "output_type": "display_data"
    },
    {
     "data": {
      "text/html": [
       "<style scoped>\n",
       "  .table-result-container {\n",
       "    max-height: 300px;\n",
       "    overflow: auto;\n",
       "  }\n",
       "  table, th, td {\n",
       "    border: 1px solid black;\n",
       "    border-collapse: collapse;\n",
       "  }\n",
       "  th, td {\n",
       "    padding: 5px;\n",
       "  }\n",
       "  th {\n",
       "    text-align: left;\n",
       "  }\n",
       "</style><div class='table-result-container'><table class='table-result'><thead style='background-color: white'><tr><th>Project Name</th><th>No_of_projects</th></tr></thead><tbody><tr><td>Gujarat Emergency Earthquake Reconstruct</td><td>403</td></tr><tr><td>AP Econ Restructuring</td><td>300</td></tr><tr><td>IN: UP WSRP</td><td>245</td></tr><tr><td>Rajasthan Power I</td><td>241</td></tr><tr><td>KAR WSHD DEVELOPMENT</td><td>195</td></tr><tr><td>IN: AP RURAL POV REDUCTION</td><td>190</td></tr><tr><td>UP Sodic Lands II</td><td>185</td></tr><tr><td>IN: KARNATAKA RWSS II</td><td>143</td></tr><tr><td>IN: TN IAM WARM</td><td>124</td></tr><tr><td>IN: Integrated Coastal Zone Mgmt Project</td><td>119</td></tr><tr><td>IN: RAJ WSRP</td><td>98</td></tr><tr><td>IN: TN Health Systems</td><td>96</td></tr><tr><td>IN: AP and Telangana Road Sector Project</td><td>84</td></tr><tr><td>IN: UP Roads</td><td>82</td></tr><tr><td>IN: MAHAR WSIP</td><td>82</td></tr><tr><td>IN: POWERGRID V</td><td>82</td></tr><tr><td>IN: Haryana Power System Improv Project</td><td>82</td></tr><tr><td>IN: MUMBAI URBAN TRANSPORT PROJECT</td><td>77</td></tr><tr><td>IN: Assam Agric Competitiveness</td><td>74</td></tr><tr><td>IN: Power System Development  Project IV</td><td>72</td></tr><tr><td>IN: Third National HIV/AIDS Control Proj</td><td>72</td></tr><tr><td>IN: Karnataka Health System Dev</td><td>70</td></tr><tr><td>Water Sector Improvement Project</td><td>67</td></tr><tr><td>IN: Tsunami ERC</td><td>66</td></tr><tr><td>IN: Karn Municipal Reform</td><td>65</td></tr><tr><td>IN - MAHAR RWSS</td><td>57</td></tr><tr><td>IN: Madhya Pradesh Water Sector Restruct</td><td>56</td></tr><tr><td>IN: TN ROADS</td><td>53</td></tr><tr><td>IN: Punjab Rural Water Supply&Sanitation</td><td>53</td></tr><tr><td>Karnataka Highways</td><td>51</td></tr><tr><td>IN: RCH II</td><td>48</td></tr><tr><td>IN: Industrial Pollution Management</td><td>47</td></tr><tr><td>IN: Sustainable Urban Transport Project</td><td>46</td></tr><tr><td>IN: KARN Tank Mgmt</td><td>44</td></tr><tr><td>IN: Ntnl VBD Control&Polio Eradication</td><td>43</td></tr><tr><td>IN: Coal-Fired Generation Rehabilitation</td><td>42</td></tr><tr><td>IN:Karnataka State Highway Improv Pro II</td><td>40</td></tr><tr><td>IN: UP WSRP II</td><td>40</td></tr><tr><td>POWERGRID II</td><td>39</td></tr><tr><td>IN: Bihar Rural Livelihoods  Project</td><td>39</td></tr><tr><td>IN: TN Urban III</td><td>39</td></tr><tr><td>IN: Bihar Kosi Flood Recovery Project</td><td>38</td></tr><tr><td>IN: Punjab State Road Sector Project</td><td>36</td></tr><tr><td>IN: HP State Roads Project</td><td>35</td></tr><tr><td>MALARIA CONTROL</td><td>34</td></tr><tr><td>IN: Maharashtra Agric. Competitiveness</td><td>33</td></tr><tr><td>IN:AP and Telangana Municipal Devlpmnt</td><td>32</td></tr><tr><td>Uttarakhand Disasater Recovery Project</td><td>32</td></tr><tr><td>IN: NAIP</td><td>31</td></tr><tr><td>IN: National Ganga River Basin Project</td><td>31</td></tr><tr><td>IN: UP Sodic III</td><td>31</td></tr><tr><td>IN:AP & TS RWSS</td><td>30</td></tr><tr><td>Natl Highways Inter-Conn</td><td>29</td></tr><tr><td>IN: TB II</td><td>27</td></tr><tr><td>IN: Hydrology II</td><td>27</td></tr><tr><td>IMMUNIZATION STRENGTHENING PROJECT</td><td>26</td></tr><tr><td>REPRODUCTIVE HEALTH1</td><td>26</td></tr><tr><td>IN: Power System Development Project III</td><td>26</td></tr><tr><td>IN:Orissa Community Tank Management Proj</td><td>26</td></tr><tr><td>IN: Eastern Dedicated Freight Corridor-I</td><td>26</td></tr><tr><td>IN: Tech Engr Educ Qual Improvement II</td><td>26</td></tr><tr><td>IN: Karnataka UWS Improvement Project</td><td>25</td></tr><tr><td>IN: Vishnugad Pipalkoti HEP</td><td>25</td></tr><tr><td>IN: RWSS for Low Income States</td><td>25</td></tr><tr><td>IN: NER Power System Improvement Proj</td><td>25</td></tr><tr><td>IN: Lucknow-Muzaffarpur National Highway</td><td>24</td></tr><tr><td>IN: Orissa State Roads</td><td>24</td></tr><tr><td>IN: Assam State Roads Project</td><td>24</td></tr><tr><td>IN: WB Minor Irrigation Project</td><td>24</td></tr><tr><td>IN: Vocational Training</td><td>24</td></tr><tr><td>Wtrshd Mgmt Hills II</td><td>23</td></tr><tr><td>UP Health Systems Development Project</td><td>22</td></tr><tr><td>IN: Kerala State Transport</td><td>22</td></tr><tr><td>IN: TN Empwr & Pov Reduction</td><td>22</td></tr><tr><td>IN: Mumbai Urban Transport Project-2A</td><td>22</td></tr><tr><td>IN: PMGSY Rural Roads Project</td><td>22</td></tr><tr><td>National Dairy Support Project</td><td>21</td></tr><tr><td>Orissa WRCP</td><td>20</td></tr><tr><td>IN: Disease Surveillance</td><td>20</td></tr><tr><td>IN: UP Health Sys Strengthening Project</td><td>19</td></tr><tr><td>IN: Bihar Social Protection</td><td>19</td></tr><tr><td>IN: Bihar Flood Mgmt Information Sys- II</td><td>18</td></tr><tr><td>Second Gujarat State Highway Project</td><td>18</td></tr><tr><td>IN: Kerala State Transport Project II</td><td>18</td></tr><tr><td>Gujarat Highways</td><td>17</td></tr><tr><td>Food & Drugs Capacity Building Project</td><td>17</td></tr><tr><td>IN:  TN Roads II</td><td>17</td></tr><tr><td>AP Comm Forest Mgmt</td><td>16</td></tr><tr><td>TUBERCULOSIS CONTROL</td><td>16</td></tr><tr><td>IN: Maharash Health Sys</td><td>16</td></tr><tr><td>Tech/Engg Quality Improvement Project</td><td>16</td></tr><tr><td>IN: Gujarat Urban Development Program</td><td>16</td></tr><tr><td>Assam Rural Infra</td><td>15</td></tr><tr><td>IN: NHAI Technical Assistance Project</td><td>15</td></tr><tr><td>IN: TN Puducherry DRR</td><td>14</td></tr><tr><td>IN: Egy Effcy at SMEs</td><td>14</td></tr><tr><td>KERALA RWSS</td><td>13</td></tr><tr><td>IN: National Rural Livelihoods Project</td><td>13</td></tr><tr><td>Accelerating Universal Access to TB Care</td><td>13</td></tr><tr><td>IN: Orissa Rural Livelihoods Project</td><td>12</td></tr><tr><td>IN: Rajasthan Rural Livelihoods Project</td><td>12</td></tr><tr><td>IN: CBldg for Urban Development</td><td>12</td></tr><tr><td>IN:National Cyclone Risk Mitigation Proj</td><td>12</td></tr><tr><td>IN: Dam Rehabilitation & Improvement</td><td>12</td></tr><tr><td>ENERGY EFFICIENCY</td><td>11</td></tr><tr><td>TA for Econ Reform Project</td><td>11</td></tr><tr><td>IN: Uttar Wtrshed</td><td>11</td></tr><tr><td>IN: Rajasthan PFM/Proc. Capacity Bldg.</td><td>11</td></tr><tr><td>TECHNOLOGY CENTER SYSTEMS PROJECT</td><td>11</td></tr><tr><td>IN: Eastern Ded Freight Corridor II</td><td>11</td></tr><tr><td>TECHN EDUC III</td><td>10</td></tr><tr><td>MP DPIP</td><td>10</td></tr><tr><td>IN: Rajasthan ACP</td><td>10</td></tr><tr><td>IN: Kerala RWSSP II</td><td>10</td></tr><tr><td>IN: Uttarakhand RWSS Project</td><td>9</td></tr><tr><td>IN: Rajasthan Road Sector Modernization</td><td>9</td></tr><tr><td>National AIDS Control Support Project</td><td>9</td></tr><tr><td>IN: Rural Roads Project</td><td>8</td></tr><tr><td>IN: Andhra Pradesh and Telangana State C</td><td>8</td></tr><tr><td>National Waterway-1 (CANW1)</td><td>8</td></tr><tr><td>Andhra Pradesh Rural Inclusive Growth Pr</td><td>8</td></tr><tr><td>Mizoram State Roads II- Reg Connectivity</td><td>8</td></tr><tr><td>Third Andhra Pradesh Irrigation Project</td><td>7</td></tr><tr><td>IN: Microf-Scaling Up Sustnble & Resp</td><td>7</td></tr><tr><td>Andhra Pradesh 24X7 Power for All</td><td>7</td></tr><tr><td>Jeevika II</td><td>7</td></tr><tr><td>RAJASTHAN DPIP</td><td>6</td></tr><tr><td>IN: Biodiver Cons & Rural Livelihoods</td><td>6</td></tr><tr><td>IN: Bihar PRI</td><td>6</td></tr><tr><td>IN: Karnataka-Improving Educ Governance</td><td>6</td></tr><tr><td>IN: West Bengal PRI</td><td>6</td></tr><tr><td>IN:Kerala Local Govt. & Service Delivery</td><td>6</td></tr><tr><td>National Cyclone Risk Mitigation Proj-II</td><td>6</td></tr><tr><td>IN: Uttarakahand Decen Watershed Dev II</td><td>6</td></tr><tr><td>UP POWER SECTOR RESTRUCTURING PROJECT</td><td>5</td></tr><tr><td>Village Energy Security - Biomass</td><td>5</td></tr><tr><td>IN:  IIFCL - India Infras Finance Co Ltd</td><td>5</td></tr><tr><td>IN: Cap Market & Pension Admn TA Loan</td><td>5</td></tr><tr><td>Odisha Disaster Recovery Project</td><td>5</td></tr><tr><td>MADRAS WAT SUP II</td><td>4</td></tr><tr><td>IN: Rampur Hydropower Project</td><td>4</td></tr><tr><td>Capacity Bldg for Road Cons. Dept. Bihar</td><td>4</td></tr><tr><td>IN: TA to Enhance Financial Access</td><td>4</td></tr><tr><td>TN Sustainable Urban Development Program</td><td>4</td></tr><tr><td>Shared Infrastructure for Solar Parks</td><td>4</td></tr><tr><td>ALLAHABAD BYPASS</td><td>3</td></tr><tr><td>TN URBAN DEV II</td><td>3</td></tr><tr><td>IN:Scaling Up Renewable EnergyTechnology</td><td>3</td></tr><tr><td>IN: Karn Urb Wtr Modernization</td><td>3</td></tr><tr><td>Tejaswini-IN: Adolescent Girls Jharkhand</td><td>3</td></tr><tr><td>Efficient & Sustainable City Bus Service</td><td>3</td></tr><tr><td>REN EGY II</td><td>2</td></tr><tr><td>IN: MIZORAM ROADS</td><td>2</td></tr><tr><td>IN: PPIAF: Business Plan for IIFCL</td><td>2</td></tr><tr><td>IN: Karnataka PFM IDF</td><td>2</td></tr><tr><td>IN: MPDPIP-II</td><td>2</td></tr><tr><td>IN: Telangana Rural Inclusive Growth Pr</td><td>2</td></tr><tr><td>Andhra Pradesh Disaster Recovery Project</td><td>2</td></tr><tr><td>IN: Low-Income Housing Finance</td><td>2</td></tr><tr><td>P150158-IN: EDFC-3</td><td>2</td></tr><tr><td>IN Punjab Rural Water Sector Imprv Proje</td><td>2</td></tr><tr><td>IN: Karn Wtrshed II</td><td>2</td></tr><tr><td>IN: BIHAR KOSI BASIN DEVELOPMENT PROJECT</td><td>2</td></tr><tr><td>IN: Climate Change & Livelihoods</td><td>2</td></tr><tr><td>Women & Child Development</td><td>1</td></tr><tr><td>Natl Agr Technology</td><td>1</td></tr><tr><td>Natl Highways III</td><td>1</td></tr><tr><td>IN: Institutional Strengthening of CAAA</td><td>1</td></tr><tr><td>Grand Trunk Road Improvement Project</td><td>1</td></tr><tr><td>DFID TA for Urban Transport</td><td>1</td></tr><tr><td>Delhi landfills (Carbon Finance)</td><td>1</td></tr><tr><td>IN: Chiller Energy Efficiency - MP</td><td>1</td></tr><tr><td>IN: Tsunami Disaster Recovery in India</td><td>1</td></tr><tr><td>IN:  Design of Emissions Trading Scheme</td><td>1</td></tr><tr><td>IN: Rajasthan Health Systems Dev</td><td>1</td></tr><tr><td>IN: ICDS Syst Strength & Nut Imp Prog</td><td>1</td></tr><tr><td> caling up of Assam PWD Computerization</td><td>1</td></tr><tr><td>UP CORE ROAD NETWORK DEVELOPMENT PROGRAM</td><td>1</td></tr><tr><td>UP Pro-Poor Tourism Development Project</td><td>1</td></tr><tr><td>IN: Karnataka Panchayats Strengthening</td><td>1</td></tr><tr><td>HP Horticulture Development Project</td><td>1</td></tr><tr><td>IN: Partial Risk Sharing Facility in EE</td><td>1</td></tr><tr><td>Karnataka Multisectoral Nutrition Pilot</td><td>1</td></tr><tr><td>Nagaland Health Project</td><td>1</td></tr><tr><td>Strengthening FMIS Capacity in Bihar</td><td>1</td></tr><tr><td>JOHAR</td><td>1</td></tr><tr><td>ASPIRe Project</td><td>1</td></tr></tbody></table></div>"
      ]
     },
     "metadata": {
      "application/vnd.databricks.v1+output": {
       "addedWidgets": {},
       "aggData": [],
       "aggError": "",
       "aggOverflow": false,
       "aggSchema": [],
       "aggSeriesLimitReached": false,
       "aggType": "",
       "arguments": {},
       "columnCustomDisplayInfos": {},
       "data": [
        [
         "Gujarat Emergency Earthquake Reconstruct",
         403
        ],
        [
         "AP Econ Restructuring",
         300
        ],
        [
         "IN: UP WSRP",
         245
        ],
        [
         "Rajasthan Power I",
         241
        ],
        [
         "KAR WSHD DEVELOPMENT",
         195
        ],
        [
         "IN: AP RURAL POV REDUCTION",
         190
        ],
        [
         "UP Sodic Lands II",
         185
        ],
        [
         "IN: KARNATAKA RWSS II",
         143
        ],
        [
         "IN: TN IAM WARM",
         124
        ],
        [
         "IN: Integrated Coastal Zone Mgmt Project",
         119
        ],
        [
         "IN: RAJ WSRP",
         98
        ],
        [
         "IN: TN Health Systems",
         96
        ],
        [
         "IN: AP and Telangana Road Sector Project",
         84
        ],
        [
         "IN: UP Roads",
         82
        ],
        [
         "IN: MAHAR WSIP",
         82
        ],
        [
         "IN: POWERGRID V",
         82
        ],
        [
         "IN: Haryana Power System Improv Project",
         82
        ],
        [
         "IN: MUMBAI URBAN TRANSPORT PROJECT",
         77
        ],
        [
         "IN: Assam Agric Competitiveness",
         74
        ],
        [
         "IN: Power System Development  Project IV",
         72
        ],
        [
         "IN: Third National HIV/AIDS Control Proj",
         72
        ],
        [
         "IN: Karnataka Health System Dev",
         70
        ],
        [
         "Water Sector Improvement Project",
         67
        ],
        [
         "IN: Tsunami ERC",
         66
        ],
        [
         "IN: Karn Municipal Reform",
         65
        ],
        [
         "IN - MAHAR RWSS",
         57
        ],
        [
         "IN: Madhya Pradesh Water Sector Restruct",
         56
        ],
        [
         "IN: TN ROADS",
         53
        ],
        [
         "IN: Punjab Rural Water Supply&Sanitation",
         53
        ],
        [
         "Karnataka Highways",
         51
        ],
        [
         "IN: RCH II",
         48
        ],
        [
         "IN: Industrial Pollution Management",
         47
        ],
        [
         "IN: Sustainable Urban Transport Project",
         46
        ],
        [
         "IN: KARN Tank Mgmt",
         44
        ],
        [
         "IN: Ntnl VBD Control&Polio Eradication",
         43
        ],
        [
         "IN: Coal-Fired Generation Rehabilitation",
         42
        ],
        [
         "IN:Karnataka State Highway Improv Pro II",
         40
        ],
        [
         "IN: UP WSRP II",
         40
        ],
        [
         "POWERGRID II",
         39
        ],
        [
         "IN: Bihar Rural Livelihoods  Project",
         39
        ],
        [
         "IN: TN Urban III",
         39
        ],
        [
         "IN: Bihar Kosi Flood Recovery Project",
         38
        ],
        [
         "IN: Punjab State Road Sector Project",
         36
        ],
        [
         "IN: HP State Roads Project",
         35
        ],
        [
         "MALARIA CONTROL",
         34
        ],
        [
         "IN: Maharashtra Agric. Competitiveness",
         33
        ],
        [
         "IN:AP and Telangana Municipal Devlpmnt",
         32
        ],
        [
         "Uttarakhand Disasater Recovery Project",
         32
        ],
        [
         "IN: NAIP",
         31
        ],
        [
         "IN: National Ganga River Basin Project",
         31
        ],
        [
         "IN: UP Sodic III",
         31
        ],
        [
         "IN:AP & TS RWSS",
         30
        ],
        [
         "Natl Highways Inter-Conn",
         29
        ],
        [
         "IN: TB II",
         27
        ],
        [
         "IN: Hydrology II",
         27
        ],
        [
         "IMMUNIZATION STRENGTHENING PROJECT",
         26
        ],
        [
         "REPRODUCTIVE HEALTH1",
         26
        ],
        [
         "IN: Power System Development Project III",
         26
        ],
        [
         "IN:Orissa Community Tank Management Proj",
         26
        ],
        [
         "IN: Eastern Dedicated Freight Corridor-I",
         26
        ],
        [
         "IN: Tech Engr Educ Qual Improvement II",
         26
        ],
        [
         "IN: Karnataka UWS Improvement Project",
         25
        ],
        [
         "IN: Vishnugad Pipalkoti HEP",
         25
        ],
        [
         "IN: RWSS for Low Income States",
         25
        ],
        [
         "IN: NER Power System Improvement Proj",
         25
        ],
        [
         "IN: Lucknow-Muzaffarpur National Highway",
         24
        ],
        [
         "IN: Orissa State Roads",
         24
        ],
        [
         "IN: Assam State Roads Project",
         24
        ],
        [
         "IN: WB Minor Irrigation Project",
         24
        ],
        [
         "IN: Vocational Training",
         24
        ],
        [
         "Wtrshd Mgmt Hills II",
         23
        ],
        [
         "UP Health Systems Development Project",
         22
        ],
        [
         "IN: Kerala State Transport",
         22
        ],
        [
         "IN: TN Empwr & Pov Reduction",
         22
        ],
        [
         "IN: Mumbai Urban Transport Project-2A",
         22
        ],
        [
         "IN: PMGSY Rural Roads Project",
         22
        ],
        [
         "National Dairy Support Project",
         21
        ],
        [
         "Orissa WRCP",
         20
        ],
        [
         "IN: Disease Surveillance",
         20
        ],
        [
         "IN: UP Health Sys Strengthening Project",
         19
        ],
        [
         "IN: Bihar Social Protection",
         19
        ],
        [
         "IN: Bihar Flood Mgmt Information Sys- II",
         18
        ],
        [
         "Second Gujarat State Highway Project",
         18
        ],
        [
         "IN: Kerala State Transport Project II",
         18
        ],
        [
         "Gujarat Highways",
         17
        ],
        [
         "Food & Drugs Capacity Building Project",
         17
        ],
        [
         "IN:  TN Roads II",
         17
        ],
        [
         "AP Comm Forest Mgmt",
         16
        ],
        [
         "TUBERCULOSIS CONTROL",
         16
        ],
        [
         "IN: Maharash Health Sys",
         16
        ],
        [
         "Tech/Engg Quality Improvement Project",
         16
        ],
        [
         "IN: Gujarat Urban Development Program",
         16
        ],
        [
         "Assam Rural Infra",
         15
        ],
        [
         "IN: NHAI Technical Assistance Project",
         15
        ],
        [
         "IN: TN Puducherry DRR",
         14
        ],
        [
         "IN: Egy Effcy at SMEs",
         14
        ],
        [
         "KERALA RWSS",
         13
        ],
        [
         "IN: National Rural Livelihoods Project",
         13
        ],
        [
         "Accelerating Universal Access to TB Care",
         13
        ],
        [
         "IN: Orissa Rural Livelihoods Project",
         12
        ],
        [
         "IN: Rajasthan Rural Livelihoods Project",
         12
        ],
        [
         "IN: CBldg for Urban Development",
         12
        ],
        [
         "IN:National Cyclone Risk Mitigation Proj",
         12
        ],
        [
         "IN: Dam Rehabilitation & Improvement",
         12
        ],
        [
         "ENERGY EFFICIENCY",
         11
        ],
        [
         "TA for Econ Reform Project",
         11
        ],
        [
         "IN: Uttar Wtrshed",
         11
        ],
        [
         "IN: Rajasthan PFM/Proc. Capacity Bldg.",
         11
        ],
        [
         "TECHNOLOGY CENTER SYSTEMS PROJECT",
         11
        ],
        [
         "IN: Eastern Ded Freight Corridor II",
         11
        ],
        [
         "TECHN EDUC III",
         10
        ],
        [
         "MP DPIP",
         10
        ],
        [
         "IN: Rajasthan ACP",
         10
        ],
        [
         "IN: Kerala RWSSP II",
         10
        ],
        [
         "IN: Uttarakhand RWSS Project",
         9
        ],
        [
         "IN: Rajasthan Road Sector Modernization",
         9
        ],
        [
         "National AIDS Control Support Project",
         9
        ],
        [
         "IN: Rural Roads Project",
         8
        ],
        [
         "IN: Andhra Pradesh and Telangana State C",
         8
        ],
        [
         "National Waterway-1 (CANW1)",
         8
        ],
        [
         "Andhra Pradesh Rural Inclusive Growth Pr",
         8
        ],
        [
         "Mizoram State Roads II- Reg Connectivity",
         8
        ],
        [
         "Third Andhra Pradesh Irrigation Project",
         7
        ],
        [
         "IN: Microf-Scaling Up Sustnble & Resp",
         7
        ],
        [
         "Andhra Pradesh 24X7 Power for All",
         7
        ],
        [
         "Jeevika II",
         7
        ],
        [
         "RAJASTHAN DPIP",
         6
        ],
        [
         "IN: Biodiver Cons & Rural Livelihoods",
         6
        ],
        [
         "IN: Bihar PRI",
         6
        ],
        [
         "IN: Karnataka-Improving Educ Governance",
         6
        ],
        [
         "IN: West Bengal PRI",
         6
        ],
        [
         "IN:Kerala Local Govt. & Service Delivery",
         6
        ],
        [
         "National Cyclone Risk Mitigation Proj-II",
         6
        ],
        [
         "IN: Uttarakahand Decen Watershed Dev II",
         6
        ],
        [
         "UP POWER SECTOR RESTRUCTURING PROJECT",
         5
        ],
        [
         "Village Energy Security - Biomass",
         5
        ],
        [
         "IN:  IIFCL - India Infras Finance Co Ltd",
         5
        ],
        [
         "IN: Cap Market & Pension Admn TA Loan",
         5
        ],
        [
         "Odisha Disaster Recovery Project",
         5
        ],
        [
         "MADRAS WAT SUP II",
         4
        ],
        [
         "IN: Rampur Hydropower Project",
         4
        ],
        [
         "Capacity Bldg for Road Cons. Dept. Bihar",
         4
        ],
        [
         "IN: TA to Enhance Financial Access",
         4
        ],
        [
         "TN Sustainable Urban Development Program",
         4
        ],
        [
         "Shared Infrastructure for Solar Parks",
         4
        ],
        [
         "ALLAHABAD BYPASS",
         3
        ],
        [
         "TN URBAN DEV II",
         3
        ],
        [
         "IN:Scaling Up Renewable EnergyTechnology",
         3
        ],
        [
         "IN: Karn Urb Wtr Modernization",
         3
        ],
        [
         "Tejaswini-IN: Adolescent Girls Jharkhand",
         3
        ],
        [
         "Efficient & Sustainable City Bus Service",
         3
        ],
        [
         "REN EGY II",
         2
        ],
        [
         "IN: MIZORAM ROADS",
         2
        ],
        [
         "IN: PPIAF: Business Plan for IIFCL",
         2
        ],
        [
         "IN: Karnataka PFM IDF",
         2
        ],
        [
         "IN: MPDPIP-II",
         2
        ],
        [
         "IN: Telangana Rural Inclusive Growth Pr",
         2
        ],
        [
         "Andhra Pradesh Disaster Recovery Project",
         2
        ],
        [
         "IN: Low-Income Housing Finance",
         2
        ],
        [
         "P150158-IN: EDFC-3",
         2
        ],
        [
         "IN Punjab Rural Water Sector Imprv Proje",
         2
        ],
        [
         "IN: Karn Wtrshed II",
         2
        ],
        [
         "IN: BIHAR KOSI BASIN DEVELOPMENT PROJECT",
         2
        ],
        [
         "IN: Climate Change & Livelihoods",
         2
        ],
        [
         "Women & Child Development",
         1
        ],
        [
         "Natl Agr Technology",
         1
        ],
        [
         "Natl Highways III",
         1
        ],
        [
         "IN: Institutional Strengthening of CAAA",
         1
        ],
        [
         "Grand Trunk Road Improvement Project",
         1
        ],
        [
         "DFID TA for Urban Transport",
         1
        ],
        [
         "Delhi landfills (Carbon Finance)",
         1
        ],
        [
         "IN: Chiller Energy Efficiency - MP",
         1
        ],
        [
         "IN: Tsunami Disaster Recovery in India",
         1
        ],
        [
         "IN:  Design of Emissions Trading Scheme",
         1
        ],
        [
         "IN: Rajasthan Health Systems Dev",
         1
        ],
        [
         "IN: ICDS Syst Strength & Nut Imp Prog",
         1
        ],
        [
         " caling up of Assam PWD Computerization",
         1
        ],
        [
         "UP CORE ROAD NETWORK DEVELOPMENT PROGRAM",
         1
        ],
        [
         "UP Pro-Poor Tourism Development Project",
         1
        ],
        [
         "IN: Karnataka Panchayats Strengthening",
         1
        ],
        [
         "HP Horticulture Development Project",
         1
        ],
        [
         "IN: Partial Risk Sharing Facility in EE",
         1
        ],
        [
         "Karnataka Multisectoral Nutrition Pilot",
         1
        ],
        [
         "Nagaland Health Project",
         1
        ],
        [
         "Strengthening FMIS Capacity in Bihar",
         1
        ],
        [
         "JOHAR",
         1
        ],
        [
         "ASPIRe Project",
         1
        ]
       ],
       "datasetInfos": [],
       "dbfsResultPath": null,
       "isJsonSchema": true,
       "metadata": {},
       "overflow": false,
       "plotOptions": {
        "customPlotOptions": {},
        "displayType": "table",
        "pivotAggregation": null,
        "pivotColumns": null,
        "xColumns": null,
        "yColumns": null
       },
       "removedWidgets": [],
       "schema": [
        {
         "metadata": "{}",
         "name": "Project Name",
         "type": "\"string\""
        },
        {
         "metadata": "{}",
         "name": "No_of_projects",
         "type": "\"long\""
        }
       ],
       "type": "table"
      }
     },
     "output_type": "display_data"
    },
    {
     "data": {
      "text/html": [
       "<style scoped>\n",
       "  .table-result-container {\n",
       "    max-height: 300px;\n",
       "    overflow: auto;\n",
       "  }\n",
       "  table, th, td {\n",
       "    border: 1px solid black;\n",
       "    border-collapse: collapse;\n",
       "  }\n",
       "  th, td {\n",
       "    padding: 5px;\n",
       "  }\n",
       "  th {\n",
       "    text-align: left;\n",
       "  }\n",
       "</style><div class='table-result-container'><table class='table-result'><thead style='background-color: white'><tr><th>Region</th><th>No_of_projects</th><th>Amount_spent</th></tr></thead><tbody><tr><td>AFRICA</td><td>39926</td><td>43063393092.96</td></tr><tr><td>SOUTH ASIA</td><td>19253</td><td>33684480315.77</td></tr><tr><td>EAST ASIA AND PACIFIC</td><td>23617</td><td>30962263272.27</td></tr><tr><td>EUROPE AND CENTRAL ASIA</td><td>30458</td><td>29028129118.84</td></tr><tr><td>LATIN AMERICA AND CARIBBEAN</td><td>30088</td><td>25304724454.49</td></tr><tr><td>MIDDLE EAST AND NORTH AFRICA</td><td>8206</td><td>12566615938.20</td></tr><tr><td>OTHER</td><td>75</td><td>8468563.31</td></tr></tbody></table></div>"
      ]
     },
     "metadata": {
      "application/vnd.databricks.v1+output": {
       "addedWidgets": {},
       "aggData": [],
       "aggError": "",
       "aggOverflow": false,
       "aggSchema": [],
       "aggSeriesLimitReached": false,
       "aggType": "",
       "arguments": {},
       "columnCustomDisplayInfos": {},
       "data": [
        [
         "AFRICA",
         39926,
         "43063393092.96"
        ],
        [
         "SOUTH ASIA",
         19253,
         "33684480315.77"
        ],
        [
         "EAST ASIA AND PACIFIC",
         23617,
         "30962263272.27"
        ],
        [
         "EUROPE AND CENTRAL ASIA",
         30458,
         "29028129118.84"
        ],
        [
         "LATIN AMERICA AND CARIBBEAN",
         30088,
         "25304724454.49"
        ],
        [
         "MIDDLE EAST AND NORTH AFRICA",
         8206,
         "12566615938.20"
        ],
        [
         "OTHER",
         75,
         "8468563.31"
        ]
       ],
       "datasetInfos": [],
       "dbfsResultPath": null,
       "isJsonSchema": true,
       "metadata": {},
       "overflow": false,
       "plotOptions": {
        "customPlotOptions": {},
        "displayType": "table",
        "pivotAggregation": null,
        "pivotColumns": null,
        "xColumns": null,
        "yColumns": null
       },
       "removedWidgets": [],
       "schema": [
        {
         "metadata": "{}",
         "name": "Region",
         "type": "\"string\""
        },
        {
         "metadata": "{}",
         "name": "No_of_projects",
         "type": "\"long\""
        },
        {
         "metadata": "{}",
         "name": "Amount_spent",
         "type": "\"decimal(20,2)\""
        }
       ],
       "type": "table"
      }
     },
     "output_type": "display_data"
    }
   ],
   "source": [
    "#query 1-Amount spent year Wise\n",
    "from pyspark.sql.types import *\n",
    "from pyspark.sql.functions import sum\n",
    "grouped_df=datatype_change_df.groupBy('Fiscal Year').agg(sum('Total Contract Amount (USD)').cast(DecimalType(20, 2)).alias('Total_Amt_spent'))\n",
    "grouped_df.sort([\"Fiscal Year\"],ascending = [True])\n",
    "grouped_df.display()\n",
    "\n",
    "\n",
    "#query 2-Country wise Amount spent\n",
    "grouped_df=datatype_change_df.groupBy('Borrower Country').agg(sum('Total Contract Amount (USD)').cast(DecimalType(20, 2)).alias('Total_Amt_spent'))\n",
    "#grouped_df.show(5)\n",
    "grouped_df.sort([\"Total_Amt_spent\"],ascending = [False])\n",
    "grouped_df.display()\n",
    "\n",
    "\n",
    "#query3\n",
    "#No of projects undertaken in Each segment\n",
    "grouped_df=datatype_change_df.groupBy('Project Name').agg(count('Project Name').alias('Projects_count')).sort([\"Projects_count\"],ascending = [False])\n",
    "grouped_df.display()\n",
    "\n",
    "#Query 4\n",
    "#No of projects undertaken in India by each segment\n",
    "grouped_df=datatype_change_df.filter(datatype_change_df['Borrower Country']=='India').groupBy('Project Name').agg(count('Project Name').alias('No_of_projects')).sort([\"No_of_projects\"],ascending = [False])\n",
    "type(grouped_df)\n",
    "grouped_df.display()\n",
    "\n",
    "#query 5-No of projects undertaken Region wise by each segment\n",
    "grouped_df=datatype_change_df.groupBy('Region').agg(count('region').alias('No_of_projects'),sum('Total Contract Amount (USD)').cast(DecimalType(20, 2)).alias('Amount_spent')).sort(['Amount_spent'],ascending = [False])\n",
    "type(grouped_df)\n",
    "grouped_df.display()\n"
   ]
  },
  {
   "cell_type": "code",
   "execution_count": 0,
   "metadata": {
    "application/vnd.databricks.v1+cell": {
     "cellMetadata": {},
     "inputWidgets": {},
     "nuid": "ce481da7-c386-4f2d-ae66-4ad2a3847b58",
     "showTitle": false,
     "title": ""
    }
   },
   "outputs": [],
   "source": []
  }
 ],
 "metadata": {
  "application/vnd.databricks.v1+notebook": {
   "dashboards": [],
   "language": "python",
   "notebookMetadata": {
    "pythonIndentUnit": 4
   },
   "notebookName": "pyspark_project",
   "notebookOrigID": 525211773262362,
   "widgets": {}
  },
  "kernelspec": {
   "display_name": "Python 3 (ipykernel)",
   "language": "python",
   "name": "python3"
  },
  "language_info": {
   "codemirror_mode": {
    "name": "ipython",
    "version": 3
   },
   "file_extension": ".py",
   "mimetype": "text/x-python",
   "name": "python",
   "nbconvert_exporter": "python",
   "pygments_lexer": "ipython3",
   "version": "3.9.13"
  }
 },
 "nbformat": 4,
 "nbformat_minor": 1
}
